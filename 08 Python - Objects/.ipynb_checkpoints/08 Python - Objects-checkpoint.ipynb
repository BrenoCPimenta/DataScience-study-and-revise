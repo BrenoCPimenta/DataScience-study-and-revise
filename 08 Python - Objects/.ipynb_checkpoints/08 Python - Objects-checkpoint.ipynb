{
 "cells": [
  {
   "cell_type": "markdown",
   "metadata": {},
   "source": [
    "# Python Objects"
   ]
  },
  {
   "cell_type": "markdown",
   "metadata": {},
   "source": [
    "This notebook corresponds to mission 08 of [dataquest](https://www.dataquest.io)."
   ]
  },
  {
   "cell_type": "markdown",
   "metadata": {},
   "source": [
    "**Summary:**\n",
    "* Class\n",
    "* Method\n",
    "* Attribute"
   ]
  },
  {
   "cell_type": "markdown",
   "metadata": {},
   "source": [
    "---"
   ]
  },
  {
   "cell_type": "markdown",
   "metadata": {},
   "source": [
    "### OBJECTS"
   ]
  },
  {
   "cell_type": "markdown",
   "metadata": {},
   "source": [
    "First must understand **PASS**, it is a statement that allows empty things "
   ]
  },
  {
   "cell_type": "code",
   "execution_count": 1,
   "metadata": {},
   "outputs": [],
   "source": [
    "def my_function():\n",
    "    pass\n"
   ]
  },
  {
   "cell_type": "markdown",
   "metadata": {},
   "source": [
    "**SIMPLE CLASS**"
   ]
  },
  {
   "cell_type": "code",
   "execution_count": 4,
   "metadata": {},
   "outputs": [
    {
     "name": "stdout",
     "output_type": "stream",
     "text": [
      "<class '__main__.MyClass'>\n"
     ]
    }
   ],
   "source": [
    "class MyClass:\n",
    "    pass\n",
    "mc_1 = MyClass()\n",
    "mc_2 = MyClass()\n",
    "\n",
    "print(type(mc_1))"
   ]
  },
  {
   "cell_type": "markdown",
   "metadata": {},
   "source": [
    "Working with methods inside a class (eigther a instanceMethod or a ClassMethod) demands a special parameter:\n",
    "    -Instance: self\n",
    "    -Class: cls"
   ]
  },
  {
   "cell_type": "code",
   "execution_count": 14,
   "metadata": {},
   "outputs": [
    {
     "name": "stdout",
     "output_type": "stream",
     "text": [
      "Hello World\n"
     ]
    }
   ],
   "source": [
    "\n",
    "class MyClass:\n",
    "    def helloPrint(self):        #Without this parameter, it wont work\n",
    "        print(\"Hello World\")\n",
    "    \n",
    "\n",
    "m1 = MyClass()\n",
    "m1.helloPrint()\n",
    "    "
   ]
  },
  {
   "cell_type": "code",
   "execution_count": 2,
   "metadata": {},
   "outputs": [
    {
     "name": "stdout",
     "output_type": "stream",
     "text": [
      "7\n"
     ]
    }
   ],
   "source": [
    "class MyClass:\n",
    "    def add_two_numbers(self, a,b):\n",
    "        return a+b\n",
    "       \n",
    "mc = MyClass()\n",
    "answer = mc.add_two_numbers(3,4)\n",
    "print(answer)"
   ]
  },
  {
   "cell_type": "markdown",
   "metadata": {},
   "source": [
    "**Attribute**"
   ]
  },
  {
   "cell_type": "code",
   "execution_count": 6,
   "metadata": {},
   "outputs": [
    {
     "name": "stdout",
     "output_type": "stream",
     "text": [
      "<class '__main__.SuperList'>\n",
      "[1, 2, 3, 4, 5]\n"
     ]
    }
   ],
   "source": [
    "class SuperList():\n",
    "    def __init__(self, argument=[]):    # __init__ is a constructor with a default empty list\n",
    "        self.data = argument            #data is a attribute\n",
    "        \n",
    "        \n",
    "my_list = SuperList([1,2,3,4,5])\n",
    "\n",
    "print(type(my_list))\n",
    "print(my_list.data)"
   ]
  },
  {
   "cell_type": "markdown",
   "metadata": {},
   "source": [
    "Diferences:\n",
    "test_instance = ThisIsAClass() \n",
    "\n",
    "test_instance.this_is_an_attribute\n",
    "\n",
    "test_instance.this_is_a_method()"
   ]
  },
  {
   "cell_type": "markdown",
   "metadata": {},
   "source": [
    "---"
   ]
  },
  {
   "cell_type": "markdown",
   "metadata": {},
   "source": [
    "**Special Methods  or  Dunder Methods**"
   ]
  },
  {
   "cell_type": "markdown",
   "metadata": {},
   "source": [
    "* __init()__    wich is a constructor with attributes"
   ]
  },
  {
   "cell_type": "markdown",
   "metadata": {},
   "source": [
    "* __repr()__ wich represents the object as a string"
   ]
  },
  {
   "cell_type": "code",
   "execution_count": 7,
   "metadata": {},
   "outputs": [
    {
     "name": "stdout",
     "output_type": "stream",
     "text": [
      "We defined this output using __repr__(): 12345\n"
     ]
    }
   ],
   "source": [
    "class MyClass():\n",
    "    def __init__(self, initial_data):\n",
    "        self.data = initial_data\n",
    "\n",
    "    def __repr__(self):\n",
    "        string_rep = \"We defined this output using __repr__(): \" + self.data\n",
    "        return string_rep\n",
    "\n",
    "mc = MyClass(\"12345\")\n",
    "print(mc)"
   ]
  },
  {
   "cell_type": "markdown",
   "metadata": {},
   "source": [
    "* __eq__() method used to compare two objects\n",
    "* __dict()__ shows a objects attribute"
   ]
  },
  {
   "cell_type": "code",
   "execution_count": 13,
   "metadata": {},
   "outputs": [
    {
     "name": "stdout",
     "output_type": "stream",
     "text": [
      "[1, 2, 3, 4, 5]\n",
      "[1, 2, 3, 4, 5]\n",
      "[1, 2, 3] \n",
      "\n",
      "True\n",
      "False\n"
     ]
    }
   ],
   "source": [
    "class SuperList():\n",
    "    \"\"\"\n",
    "    A Python list with some extras!\n",
    "    \"\"\"\n",
    "    def __init__(self, initial_state=[]):\n",
    "        self._data = initial_state\n",
    "        \n",
    "    def __repr__(self):\n",
    "        string_representation = str(self._data)\n",
    "        return string_representation\n",
    "    \n",
    "    def __eq__(self, other):\n",
    "        is_equal = self.__dict__ == other.__dict__\n",
    "        return is_equal\n",
    "\n",
    "sl_1 = SuperList([1, 2, 3, 4, 5])\n",
    "sl_2 = SuperList([1, 2, 3, 4, 5])\n",
    "sl_3 = SuperList([1, 2, 3])\n",
    "\n",
    "print(sl_1)\n",
    "print(sl_2)\n",
    "print(sl_3, \"\\n\")\n",
    "\n",
    "compare_1_2 = sl_1 == sl_2\n",
    "compare_2_3 = sl_2 == sl_3\n",
    "\n",
    "print(compare_1_2)\n",
    "print(compare_2_3)"
   ]
  },
  {
   "cell_type": "markdown",
   "metadata": {},
   "source": [
    "_An Example:_"
   ]
  },
  {
   "cell_type": "code",
   "execution_count": 14,
   "metadata": {},
   "outputs": [
    {
     "name": "stdout",
     "output_type": "stream",
     "text": [
      "[1, 2, 3, 4, 5]\n",
      "[1, 2, 3, 4, 5, 6]\n",
      "[6, 5, 4, 3, 2, 1]\n"
     ]
    }
   ],
   "source": [
    "class SuperList():\n",
    "    \"\"\"\n",
    "    A Python list with some extras!\n",
    "    \"\"\"\n",
    "    def __init__(self, initial_state=[]):\n",
    "        self._data = initial_state\n",
    "        \n",
    "    def __repr__(self):\n",
    "        string_representation = str(self._data)\n",
    "        return string_representation\n",
    "    \n",
    "    def __eq__(self, other):\n",
    "        is_equal = self.__dict__ == other.__dict__\n",
    "        return is_equal\n",
    "    \n",
    "    def append(self, new_item):\n",
    "        \"\"\"\n",
    "        Append `new_item` to the SuperList\n",
    "        \"\"\"\n",
    "        self._data = self._data + [new_item]\n",
    "    \n",
    "    def reverse(self):\n",
    "        \"\"\"\n",
    "        Reverse the order of items in the SuperList\n",
    "        \"\"\"\n",
    "        self._data = self._data[::-1]\n",
    "\n",
    "my_list = SuperList([1, 2, 3, 4, 5])\n",
    "print(my_list)\n",
    "\n",
    "my_list.append(6)\n",
    "print(my_list)\n",
    "\n",
    "my_list.reverse()\n",
    "print(my_list)"
   ]
  },
  {
   "cell_type": "markdown",
   "metadata": {},
   "source": [
    "**INTERNAL USE ATRIBUTTES**: \n",
    "In Python, the convention is to prepend a single underscore to an to an attribute or method name to signify that the intention is for internal use.\n",
    "\n",
    "**HELPER METHOD**: Methods that helps with internal actions"
   ]
  },
  {
   "cell_type": "code",
   "execution_count": 16,
   "metadata": {},
   "outputs": [
    {
     "name": "stdout",
     "output_type": "stream",
     "text": [
      "$3.50\n"
     ]
    }
   ],
   "source": [
    "class MyBankBalance():\n",
    "    \"\"\"\n",
    "    An object that tracks a bank\n",
    "    account balance\n",
    "    \"\"\"\n",
    "    def __init__(self, initial_balance):\n",
    "        self._balance = initial_balance\n",
    "        self._calc_formatted_string()\n",
    "\n",
    "    def _calc_formatted_string(self):                           #A method intended for internal use and internal help\n",
    "        string_balance = \"${:,.2f}\".format(self._balance)\n",
    "        self.string = string_balance\n",
    "\n",
    "    def add_value(self, value):\n",
    "        \"\"\"\n",
    "        Add value to the bank balance\n",
    "        \"\"\"\n",
    "        self._balance += value\n",
    "        self._calc_formatted_string()\n",
    "\n",
    "mbb = MyBankBalance(3.50)\n",
    "print(mbb.string)"
   ]
  },
  {
   "cell_type": "markdown",
   "metadata": {},
   "source": [
    "_A more efficient way is to create a single 'update' helper method, which calls all of the helper methods needed to update attributes_"
   ]
  },
  {
   "cell_type": "code",
   "execution_count": 18,
   "metadata": {},
   "outputs": [
    {
     "name": "stdout",
     "output_type": "stream",
     "text": [
      "18 35\n",
      "-12 35\n",
      "-12 42\n"
     ]
    }
   ],
   "source": [
    "class SuperList():\n",
    "    \"\"\"\n",
    "    A Python list with some extras!\n",
    "    \"\"\"\n",
    "    def __init__(self, initial_state=[]):\n",
    "        self._data = initial_state\n",
    "        self._update()\n",
    "        \n",
    "    def __repr__(self):\n",
    "        string_representation = str(self._data)\n",
    "        return string_representation\n",
    "    \n",
    "    def __eq__(self, other):\n",
    "        is_equal = self.__dict__ == other.__dict__\n",
    "        return is_equal\n",
    "    \n",
    "    def _calc_length(self):\n",
    "        \"\"\"\n",
    "        A helper function to calculate the .length\n",
    "        attribute.\n",
    "        \"\"\"\n",
    "        length = 0\n",
    "        for item in self._data:\n",
    "            length += 1\n",
    "        self.length = length\n",
    "    \n",
    "    def _calc_max(self):\n",
    "        \"\"\"\n",
    "        A helper function to calculate the .max\n",
    "        attribute.\n",
    "        \"\"\"\n",
    "        try:\n",
    "            self.max = max(self._data)\n",
    "        except:\n",
    "            self.max = None\n",
    "    \n",
    "    def _calc_min(self):\n",
    "        \"\"\"\n",
    "        A helper function to calculate the .min\n",
    "        attribute.\n",
    "        \"\"\"\n",
    "        try:\n",
    "            self.min = min(self._data)\n",
    "        except:\n",
    "            self.min = None\n",
    "\n",
    "    def _update(self):\n",
    "        \"\"\"\n",
    "        A helper method to call other helper methods\n",
    "        and update attributes when underlying\n",
    "        data changes.\n",
    "        \"\"\"\n",
    "        self._calc_length()\n",
    "        self._calc_min()\n",
    "        self._calc_max()\n",
    "    \n",
    "    def append(self, new_item):\n",
    "        \"\"\"\n",
    "        Append `new_item` to the SuperList\n",
    "        \"\"\"\n",
    "        self._data = self._data + [new_item]\n",
    "        self._update()\n",
    "    \n",
    "    def reverse(self):\n",
    "        \"\"\"\n",
    "        Reverse the order of items in the SuperList\n",
    "        \"\"\"\n",
    "        self._data = self._data[::-1]\n",
    "        self._update()\n",
    "\n",
    "temperatures = SuperList([18, 28, 35])\n",
    "print(temperatures.min, temperatures.max)\n",
    "\n",
    "temperatures.append(-12)\n",
    "print(temperatures.min, temperatures.max)\n",
    "\n",
    "temperatures.append(42)\n",
    "print(temperatures.min, temperatures.max)"
   ]
  },
  {
   "cell_type": "code",
   "execution_count": 19,
   "metadata": {},
   "outputs": [
    {
     "name": "stdout",
     "output_type": "stream",
     "text": [
      "List Length:     5\n",
      "Max Value:       5\n",
      "Min Value:       1\n",
      "Types Contained: [<class 'int'>]\n",
      "\n",
      "List Length:     3\n",
      "Max Value:       None\n",
      "Min Value:       None\n",
      "Types Contained: [<class 'float'>, <class 'int'>, <class 'str'>]\n",
      "\n"
     ]
    }
   ],
   "source": [
    "#Completing the class\n",
    "\n",
    "class SuperList():\n",
    "    \"\"\"\n",
    "    A Python list with some extras!\n",
    "    \"\"\"\n",
    "    def __init__(self, initial_state=[]):\n",
    "        self._data = initial_state\n",
    "        self._update()\n",
    "        \n",
    "    def __repr__(self):\n",
    "        string_representation = str(self._data)\n",
    "        return string_representation\n",
    "    \n",
    "    def __eq__(self, other):\n",
    "        is_equal = self.__dict__ == other.__dict__\n",
    "        return is_equal\n",
    "    \n",
    "    def _calc_length(self):\n",
    "        \"\"\"\n",
    "        A helper function to calculate the .length\n",
    "        attribute.\n",
    "        \"\"\"\n",
    "        length = 0\n",
    "        for item in self._data:\n",
    "            length += 1\n",
    "        self.length = length\n",
    "    \n",
    "    def _calc_max(self):\n",
    "        \"\"\"\n",
    "        A helper function to calculate the .max\n",
    "        attribute.\n",
    "        \"\"\"\n",
    "        try:\n",
    "            self.max = max(self._data)\n",
    "        except:\n",
    "            self.max = None\n",
    "    \n",
    "    def _calc_min(self):\n",
    "        \"\"\"\n",
    "        A helper function to calculate the .min\n",
    "        attribute.\n",
    "        \"\"\"\n",
    "        try:\n",
    "            self.min = min(self._data)\n",
    "        except:\n",
    "            self.min = None\n",
    "            \n",
    "    def _calc_types(self):\n",
    "        types = []\n",
    "        for item in self._data:\n",
    "            item_type = type(item)\n",
    "            if item_type not in types:\n",
    "                types.append(item_type)\n",
    "        self.types = types\n",
    "\n",
    "    def _update(self):\n",
    "        \"\"\"\n",
    "        A helper method to call other helper methods\n",
    "        and update attributes when underlying\n",
    "        data changes.\n",
    "        \"\"\"\n",
    "        self._calc_length()\n",
    "        self._calc_min()\n",
    "        self._calc_max()\n",
    "        self._calc_types()\n",
    "    \n",
    "    def append(self, new_item):\n",
    "        \"\"\"\n",
    "        Append `new_item` to the SuperList\n",
    "        \"\"\"\n",
    "        self._data = self._data + [new_item]\n",
    "        self._update()\n",
    "    \n",
    "    def reverse(self):\n",
    "        \"\"\"\n",
    "        Reverse the order of items in the SuperList\n",
    "        \"\"\"\n",
    "        self._data = self._data[::-1]\n",
    "\n",
    "    def info(self):\n",
    "        \"\"\"\n",
    "        Print summary data about the SuperList\n",
    "        \"\"\"\n",
    "        \n",
    "        template = '''\\\n",
    "List Length:     {}\n",
    "Max Value:       {}\n",
    "Min Value:       {}\n",
    "Types Contained: {}\n",
    "'''\n",
    "        info = template.format(self.length,\n",
    "                          self.max,\n",
    "                          self.min,\n",
    "                          self.types)\n",
    "        print(info)\n",
    "\n",
    "a = SuperList([1, 2, 3, 4, 5])\n",
    "a.info()\n",
    "\n",
    "b = SuperList([1.3, -14, \"hello\"])\n",
    "b.info()"
   ]
  }
 ],
 "metadata": {
  "kernelspec": {
   "display_name": "Python 3",
   "language": "python",
   "name": "python3"
  },
  "language_info": {
   "codemirror_mode": {
    "name": "ipython",
    "version": 3
   },
   "file_extension": ".py",
   "mimetype": "text/x-python",
   "name": "python",
   "nbconvert_exporter": "python",
   "pygments_lexer": "ipython3",
   "version": "3.7.0"
  }
 },
 "nbformat": 4,
 "nbformat_minor": 2
}
