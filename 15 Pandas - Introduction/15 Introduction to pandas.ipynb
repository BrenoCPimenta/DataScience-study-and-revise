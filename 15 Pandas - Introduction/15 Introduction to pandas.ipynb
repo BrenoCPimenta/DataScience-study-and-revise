{
 "cells": [
  {
   "cell_type": "markdown",
   "metadata": {},
   "source": [
    "# Introduction to Pandas"
   ]
  },
  {
   "cell_type": "markdown",
   "metadata": {},
   "source": [
    "This notebook corresponds to mission 15 of [dataquest](https://www.dataquest.io).\n",
    "<br>There is a short introduction to pandas [here](http://pandas.pydata.org/pandas-docs/version/0.15.2/10min.html) as well."
   ]
  },
  {
   "cell_type": "code",
   "execution_count": 1,
   "metadata": {},
   "outputs": [],
   "source": [
    "import pandas as pd\n",
    "import numpy as np"
   ]
  },
  {
   "cell_type": "markdown",
   "metadata": {},
   "source": [
    "We've been downloading CSV files, and there was a lot of ways of doing it, but the **most used** and the one that we will be using from now on is the [folowing](http://pandas.pydata.org/pandas-docs/stable/reference/api/pandas.read_csv.html): "
   ]
  },
  {
   "cell_type": "code",
   "execution_count": 2,
   "metadata": {},
   "outputs": [],
   "source": [
    "f500 = pd.read_csv('f500.csv')  #most used way"
   ]
  },
  {
   "cell_type": "markdown",
   "metadata": {},
   "source": [
    "Is **important** to perceive that the function above returns a DataFrame object"
   ]
  },
  {
   "cell_type": "code",
   "execution_count": 3,
   "metadata": {},
   "outputs": [
    {
     "data": {
      "text/plain": [
       "pandas.core.frame.DataFrame"
      ]
     },
     "execution_count": 3,
     "metadata": {},
     "output_type": "execute_result"
    }
   ],
   "source": [
    "type(f500)"
   ]
  },
  {
   "cell_type": "markdown",
   "metadata": {},
   "source": [
    "### Data cleaning:"
   ]
  },
  {
   "cell_type": "markdown",
   "metadata": {},
   "source": [
    "To make it easier to understand our data we will clean some columns out.<br>\n",
    "In order to do that we will use [df.drop()](https://pandas.pydata.org/pandas-docs/stable/reference/api/pandas.DataFrame.drop.html)<br>\n",
    "**Syntaxes:**<br>\n",
    "* _Basic:_ **df = df.drop('column_name', axis=1)**\n",
    "* _To delete the column without having to reassign df:_ **df.drop('column_name', axis=1, inplace=True)**\n",
    "* _Finaly drop by column number instead of by column label:_ **df = df.drop(df.columns[[0, 1, 3]], axis=1)**"
   ]
  },
  {
   "cell_type": "code",
   "execution_count": 4,
   "metadata": {},
   "outputs": [],
   "source": [
    "list_of_drops = [0,1] + list(range(3,8)) + list(range(9,25)) + list(range(26,31)) + list(range(32,35)) + list(range(36,39)) + [40] + list(range(42,59)) + [60,61]\n",
    "\n",
    "f500.drop(f500.columns[list_of_drops], axis=1, inplace=True)"
   ]
  },
  {
   "cell_type": "markdown",
   "metadata": {},
   "source": [
    "<br>**Now lets rename the columns**<br>\n",
    "[df.rename](https://pandas.pydata.org/pandas-docs/stable/reference/api/pandas.DataFrame.rename.html)"
   ]
  },
  {
   "cell_type": "code",
   "execution_count": 5,
   "metadata": {},
   "outputs": [],
   "source": [
    "f500 = f500.rename(columns={\n",
    "                    f500.columns.values[0]:\"revenue\",\n",
    "                    f500.columns.values[1]:\"profit\",\n",
    "                    f500.columns.values[2]:\"industry\",\n",
    "                    f500.columns.values[3]:\"sector\",\n",
    "                    f500.columns.values[4]:\"location\",\n",
    "                    f500.columns.values[5]:\"years_on_top500\",\n",
    "                    f500.columns.values[6]:\"employees\"                   \n",
    "})"
   ]
  },
  {
   "cell_type": "markdown",
   "metadata": {},
   "source": [
    "<br>\n",
    "\n",
    "### Data FastView\n",
    "To verify if it worked we can use a really handy method [head()](http://pandas.pydata.org/pandas-docs/stable/reference/api/pandas.DataFrame.head.html):<br>\n",
    "**OBS:** autommaticaly prints 5 rows, but we can pass how many rows we want as a parameter ex: df.head(10)"
   ]
  },
  {
   "cell_type": "code",
   "execution_count": 6,
   "metadata": {},
   "outputs": [
    {
     "data": {
      "text/html": [
       "<div>\n",
       "<style scoped>\n",
       "    .dataframe tbody tr th:only-of-type {\n",
       "        vertical-align: middle;\n",
       "    }\n",
       "\n",
       "    .dataframe tbody tr th {\n",
       "        vertical-align: top;\n",
       "    }\n",
       "\n",
       "    .dataframe thead th {\n",
       "        text-align: right;\n",
       "    }\n",
       "</style>\n",
       "<table border=\"1\" class=\"dataframe\">\n",
       "  <thead>\n",
       "    <tr style=\"text-align: right;\">\n",
       "      <th></th>\n",
       "      <th>revenue</th>\n",
       "      <th>profit</th>\n",
       "      <th>industry</th>\n",
       "      <th>sector</th>\n",
       "      <th>location</th>\n",
       "      <th>years_on_top500</th>\n",
       "      <th>employees</th>\n",
       "      <th>title</th>\n",
       "    </tr>\n",
       "  </thead>\n",
       "  <tbody>\n",
       "    <tr>\n",
       "      <th>0</th>\n",
       "      <td>485873</td>\n",
       "      <td>13643.0</td>\n",
       "      <td>General Merchandisers</td>\n",
       "      <td>Retailing</td>\n",
       "      <td>Bentonville, AR</td>\n",
       "      <td>23</td>\n",
       "      <td>2300000</td>\n",
       "      <td>Walmart</td>\n",
       "    </tr>\n",
       "    <tr>\n",
       "      <th>1</th>\n",
       "      <td>315199</td>\n",
       "      <td>9571.3</td>\n",
       "      <td>Utilities</td>\n",
       "      <td>Energy</td>\n",
       "      <td>Beijing, China</td>\n",
       "      <td>17</td>\n",
       "      <td>926067</td>\n",
       "      <td>State Grid</td>\n",
       "    </tr>\n",
       "    <tr>\n",
       "      <th>2</th>\n",
       "      <td>267518</td>\n",
       "      <td>1257.9</td>\n",
       "      <td>Petroleum Refining</td>\n",
       "      <td>Energy</td>\n",
       "      <td>Beijing, China</td>\n",
       "      <td>19</td>\n",
       "      <td>713288</td>\n",
       "      <td>Sinopec Group</td>\n",
       "    </tr>\n",
       "    <tr>\n",
       "      <th>3</th>\n",
       "      <td>262573</td>\n",
       "      <td>1867.5</td>\n",
       "      <td>Petroleum Refining</td>\n",
       "      <td>Energy</td>\n",
       "      <td>Beijing, China</td>\n",
       "      <td>17</td>\n",
       "      <td>1512048</td>\n",
       "      <td>China National Petroleum</td>\n",
       "    </tr>\n",
       "    <tr>\n",
       "      <th>4</th>\n",
       "      <td>254694</td>\n",
       "      <td>16899.3</td>\n",
       "      <td>Motor Vehicles and Parts</td>\n",
       "      <td>Motor Vehicles &amp; Parts</td>\n",
       "      <td>Toyota, Japan</td>\n",
       "      <td>23</td>\n",
       "      <td>364445</td>\n",
       "      <td>Toyota Motor</td>\n",
       "    </tr>\n",
       "  </tbody>\n",
       "</table>\n",
       "</div>"
      ],
      "text/plain": [
       "   revenue   profit                  industry                  sector  \\\n",
       "0   485873  13643.0     General Merchandisers               Retailing   \n",
       "1   315199   9571.3                 Utilities                  Energy   \n",
       "2   267518   1257.9        Petroleum Refining                  Energy   \n",
       "3   262573   1867.5        Petroleum Refining                  Energy   \n",
       "4   254694  16899.3  Motor Vehicles and Parts  Motor Vehicles & Parts   \n",
       "\n",
       "          location  years_on_top500  employees                     title  \n",
       "0  Bentonville, AR               23    2300000                   Walmart  \n",
       "1   Beijing, China               17     926067                State Grid  \n",
       "2   Beijing, China               19     713288             Sinopec Group  \n",
       "3   Beijing, China               17    1512048  China National Petroleum  \n",
       "4    Toyota, Japan               23     364445              Toyota Motor  "
      ]
     },
     "execution_count": 6,
     "metadata": {},
     "output_type": "execute_result"
    }
   ],
   "source": [
    "f500.head()"
   ]
  },
  {
   "cell_type": "markdown",
   "metadata": {},
   "source": [
    "✽When head show us the first rows, we can use [tail()](http://pandas.pydata.org/pandas-docs/stable/reference/api/pandas.DataFrame.tail.html) to see the last rows as well."
   ]
  },
  {
   "cell_type": "code",
   "execution_count": 7,
   "metadata": {},
   "outputs": [
    {
     "data": {
      "text/html": [
       "<div>\n",
       "<style scoped>\n",
       "    .dataframe tbody tr th:only-of-type {\n",
       "        vertical-align: middle;\n",
       "    }\n",
       "\n",
       "    .dataframe tbody tr th {\n",
       "        vertical-align: top;\n",
       "    }\n",
       "\n",
       "    .dataframe thead th {\n",
       "        text-align: right;\n",
       "    }\n",
       "</style>\n",
       "<table border=\"1\" class=\"dataframe\">\n",
       "  <thead>\n",
       "    <tr style=\"text-align: right;\">\n",
       "      <th></th>\n",
       "      <th>revenue</th>\n",
       "      <th>profit</th>\n",
       "      <th>industry</th>\n",
       "      <th>sector</th>\n",
       "      <th>location</th>\n",
       "      <th>years_on_top500</th>\n",
       "      <th>employees</th>\n",
       "      <th>title</th>\n",
       "    </tr>\n",
       "  </thead>\n",
       "  <tbody>\n",
       "    <tr>\n",
       "      <th>497</th>\n",
       "      <td>21741</td>\n",
       "      <td>406.4</td>\n",
       "      <td>Food and Drug Stores</td>\n",
       "      <td>Food &amp; Drug Stores</td>\n",
       "      <td>Bradford, Britain</td>\n",
       "      <td>13</td>\n",
       "      <td>77210</td>\n",
       "      <td>Wm. Morrison Supermarkets</td>\n",
       "    </tr>\n",
       "    <tr>\n",
       "      <th>498</th>\n",
       "      <td>21655</td>\n",
       "      <td>1151.7</td>\n",
       "      <td>Travel Services</td>\n",
       "      <td>Business Services</td>\n",
       "      <td>Hanover, Germany</td>\n",
       "      <td>23</td>\n",
       "      <td>66779</td>\n",
       "      <td>TUI</td>\n",
       "    </tr>\n",
       "    <tr>\n",
       "      <th>499</th>\n",
       "      <td>21609</td>\n",
       "      <td>430.5</td>\n",
       "      <td>Specialty Retailers</td>\n",
       "      <td>Retailing</td>\n",
       "      <td>Fort Lauderdale, FL</td>\n",
       "      <td>12</td>\n",
       "      <td>26000</td>\n",
       "      <td>AutoNation</td>\n",
       "    </tr>\n",
       "  </tbody>\n",
       "</table>\n",
       "</div>"
      ],
      "text/plain": [
       "     revenue  profit              industry              sector  \\\n",
       "497    21741   406.4  Food and Drug Stores  Food & Drug Stores   \n",
       "498    21655  1151.7       Travel Services   Business Services   \n",
       "499    21609   430.5   Specialty Retailers           Retailing   \n",
       "\n",
       "                location  years_on_top500  employees  \\\n",
       "497    Bradford, Britain               13      77210   \n",
       "498     Hanover, Germany               23      66779   \n",
       "499  Fort Lauderdale, FL               12      26000   \n",
       "\n",
       "                         title  \n",
       "497  Wm. Morrison Supermarkets  \n",
       "498                        TUI  \n",
       "499                 AutoNation  "
      ]
     },
     "execution_count": 7,
     "metadata": {},
     "output_type": "execute_result"
    }
   ],
   "source": [
    "f500.tail(3)"
   ]
  },
  {
   "cell_type": "markdown",
   "metadata": {},
   "source": [
    "---"
   ]
  },
  {
   "cell_type": "markdown",
   "metadata": {},
   "source": [
    "## Panda Structures:"
   ]
  },
  {
   "cell_type": "markdown",
   "metadata": {},
   "source": [
    "**DataFrame & Series**\n",
    "Dataframes are two dimensional pandas objects, the pandas equivalent of a Numpy 2D ndarray. Unlike NumPy, pandas does not use the same type for 1D and 2D arrays. The other is called series."
   ]
  },
  {
   "cell_type": "markdown",
   "metadata": {},
   "source": [
    "## • DataFrame"
   ]
  },
  {
   "cell_type": "markdown",
   "metadata": {},
   "source": [
    "<img src=\"df_anatomy.svg\" style=\"width:500px; float:left;\">"
   ]
  },
  {
   "cell_type": "markdown",
   "metadata": {},
   "source": [
    "* In Red: Just like a 2D ndarray, there are two axes, however each axis of a dataframe has a specific name. The first axis is called index, and the second axis is called columns.\n",
    "* In Blue: Our axis values have string labels, not just numeric locations.\n",
    "* In Green: Our dataframe contains columns with multiple dtypes: integer, float, and string."
   ]
  },
  {
   "cell_type": "markdown",
   "metadata": {},
   "source": [
    "### Information"
   ]
  },
  {
   "cell_type": "markdown",
   "metadata": {},
   "source": [
    "✽ **Types** [df.dtypes](http://docs.scipy.org/doc/numpy-1.14.2/reference/generated/numpy.ndarray.dtype.html#numpy.ndarray.dtype) show us the types:"
   ]
  },
  {
   "cell_type": "code",
   "execution_count": 8,
   "metadata": {},
   "outputs": [
    {
     "name": "stdout",
     "output_type": "stream",
     "text": [
      "revenue              int64\n",
      "profit             float64\n",
      "industry            object\n",
      "sector              object\n",
      "location            object\n",
      "years_on_top500      int64\n",
      "employees            int64\n",
      "title               object\n",
      "dtype: object\n"
     ]
    }
   ],
   "source": [
    "print(f500.dtypes)"
   ]
  },
  {
   "cell_type": "markdown",
   "metadata": {},
   "source": [
    "✽ We have seen the float64 dtype before in NumPy. Pandas uses NumPy dtypes for numeric columns, including integer64. There is also a type we haven't seen before, object, which is used for columns that have data that doesn't fit into any other dtypes. This is almost always used for columns containing string values."
   ]
  },
  {
   "cell_type": "markdown",
   "metadata": {},
   "source": [
    "✽ **INFO** The same way that dtype showed us the types, we can see types and more information using [dt.info()](http://pandas.pydata.org/pandas-docs/stable/reference/api/pandas.DataFrame.info.html)<br>\n",
    "**OBS:** this is a commun way to analyse the data as soon as we read it."
   ]
  },
  {
   "cell_type": "code",
   "execution_count": 9,
   "metadata": {},
   "outputs": [
    {
     "name": "stdout",
     "output_type": "stream",
     "text": [
      "<class 'pandas.core.frame.DataFrame'>\n",
      "RangeIndex: 500 entries, 0 to 499\n",
      "Data columns (total 8 columns):\n",
      "revenue            500 non-null int64\n",
      "profit             499 non-null float64\n",
      "industry           500 non-null object\n",
      "sector             500 non-null object\n",
      "location           500 non-null object\n",
      "years_on_top500    500 non-null int64\n",
      "employees          500 non-null int64\n",
      "title              500 non-null object\n",
      "dtypes: float64(1), int64(3), object(4)\n",
      "memory usage: 31.3+ KB\n"
     ]
    }
   ],
   "source": [
    "f500.info()"
   ]
  },
  {
   "cell_type": "markdown",
   "metadata": {},
   "source": [
    "<br>\n",
    "\n",
    "## Indexing"
   ]
  },
  {
   "cell_type": "markdown",
   "metadata": {},
   "source": [
    "In DataFrame there is 2 ways to select a especific element:<br>"
   ]
  },
  {
   "cell_type": "markdown",
   "metadata": {},
   "source": [
    "* **Interger Indexing - iloc**<br>\n",
    "Rows and Columns index by numbers"
   ]
  },
  {
   "cell_type": "code",
   "execution_count": 10,
   "metadata": {},
   "outputs": [
    {
     "data": {
      "text/plain": [
       "'Petroleum Refining'"
      ]
     },
     "execution_count": 10,
     "metadata": {},
     "output_type": "execute_result"
    }
   ],
   "source": [
    "f500.iloc[9][2]\n"
   ]
  },
  {
   "cell_type": "markdown",
   "metadata": {},
   "source": [
    "* **Name Indexing - loc**<br>\n",
    "Rows are indexed by interger<br>\n",
    "But Columns are indexed by their names"
   ]
  },
  {
   "cell_type": "code",
   "execution_count": 11,
   "metadata": {},
   "outputs": [
    {
     "data": {
      "text/plain": [
       "0                     Walmart\n",
       "1                  State Grid\n",
       "2               Sinopec Group\n",
       "3    China National Petroleum\n",
       "Name: title, dtype: object"
      ]
     },
     "execution_count": 11,
     "metadata": {},
     "output_type": "execute_result"
    }
   ],
   "source": [
    "f500.loc[0:3,\"title\"]"
   ]
  },
  {
   "cell_type": "code",
   "execution_count": 12,
   "metadata": {},
   "outputs": [
    {
     "data": {
      "text/html": [
       "<div>\n",
       "<style scoped>\n",
       "    .dataframe tbody tr th:only-of-type {\n",
       "        vertical-align: middle;\n",
       "    }\n",
       "\n",
       "    .dataframe tbody tr th {\n",
       "        vertical-align: top;\n",
       "    }\n",
       "\n",
       "    .dataframe thead th {\n",
       "        text-align: right;\n",
       "    }\n",
       "</style>\n",
       "<table border=\"1\" class=\"dataframe\">\n",
       "  <thead>\n",
       "    <tr style=\"text-align: right;\">\n",
       "      <th></th>\n",
       "      <th>industry</th>\n",
       "      <th>title</th>\n",
       "    </tr>\n",
       "  </thead>\n",
       "  <tbody>\n",
       "    <tr>\n",
       "      <th>0</th>\n",
       "      <td>General Merchandisers</td>\n",
       "      <td>Walmart</td>\n",
       "    </tr>\n",
       "    <tr>\n",
       "      <th>1</th>\n",
       "      <td>Utilities</td>\n",
       "      <td>State Grid</td>\n",
       "    </tr>\n",
       "    <tr>\n",
       "      <th>2</th>\n",
       "      <td>Petroleum Refining</td>\n",
       "      <td>Sinopec Group</td>\n",
       "    </tr>\n",
       "    <tr>\n",
       "      <th>3</th>\n",
       "      <td>Petroleum Refining</td>\n",
       "      <td>China National Petroleum</td>\n",
       "    </tr>\n",
       "  </tbody>\n",
       "</table>\n",
       "</div>"
      ],
      "text/plain": [
       "                industry                     title\n",
       "0  General Merchandisers                   Walmart\n",
       "1              Utilities                State Grid\n",
       "2     Petroleum Refining             Sinopec Group\n",
       "3     Petroleum Refining  China National Petroleum"
      ]
     },
     "execution_count": 12,
     "metadata": {},
     "output_type": "execute_result"
    }
   ],
   "source": [
    "f500.loc[0:3,[\"industry\",\"title\"]]"
   ]
  },
  {
   "cell_type": "code",
   "execution_count": 13,
   "metadata": {},
   "outputs": [
    {
     "data": {
      "text/html": [
       "<div>\n",
       "<style scoped>\n",
       "    .dataframe tbody tr th:only-of-type {\n",
       "        vertical-align: middle;\n",
       "    }\n",
       "\n",
       "    .dataframe tbody tr th {\n",
       "        vertical-align: top;\n",
       "    }\n",
       "\n",
       "    .dataframe thead th {\n",
       "        text-align: right;\n",
       "    }\n",
       "</style>\n",
       "<table border=\"1\" class=\"dataframe\">\n",
       "  <thead>\n",
       "    <tr style=\"text-align: right;\">\n",
       "      <th></th>\n",
       "      <th>industry</th>\n",
       "      <th>sector</th>\n",
       "      <th>location</th>\n",
       "      <th>years_on_top500</th>\n",
       "      <th>employees</th>\n",
       "      <th>title</th>\n",
       "    </tr>\n",
       "  </thead>\n",
       "  <tbody>\n",
       "    <tr>\n",
       "      <th>0</th>\n",
       "      <td>General Merchandisers</td>\n",
       "      <td>Retailing</td>\n",
       "      <td>Bentonville, AR</td>\n",
       "      <td>23</td>\n",
       "      <td>2300000</td>\n",
       "      <td>Walmart</td>\n",
       "    </tr>\n",
       "    <tr>\n",
       "      <th>1</th>\n",
       "      <td>Utilities</td>\n",
       "      <td>Energy</td>\n",
       "      <td>Beijing, China</td>\n",
       "      <td>17</td>\n",
       "      <td>926067</td>\n",
       "      <td>State Grid</td>\n",
       "    </tr>\n",
       "    <tr>\n",
       "      <th>2</th>\n",
       "      <td>Petroleum Refining</td>\n",
       "      <td>Energy</td>\n",
       "      <td>Beijing, China</td>\n",
       "      <td>19</td>\n",
       "      <td>713288</td>\n",
       "      <td>Sinopec Group</td>\n",
       "    </tr>\n",
       "    <tr>\n",
       "      <th>3</th>\n",
       "      <td>Petroleum Refining</td>\n",
       "      <td>Energy</td>\n",
       "      <td>Beijing, China</td>\n",
       "      <td>17</td>\n",
       "      <td>1512048</td>\n",
       "      <td>China National Petroleum</td>\n",
       "    </tr>\n",
       "  </tbody>\n",
       "</table>\n",
       "</div>"
      ],
      "text/plain": [
       "                industry     sector         location  years_on_top500  \\\n",
       "0  General Merchandisers  Retailing  Bentonville, AR               23   \n",
       "1              Utilities     Energy   Beijing, China               17   \n",
       "2     Petroleum Refining     Energy   Beijing, China               19   \n",
       "3     Petroleum Refining     Energy   Beijing, China               17   \n",
       "\n",
       "   employees                     title  \n",
       "0    2300000                   Walmart  \n",
       "1     926067                State Grid  \n",
       "2     713288             Sinopec Group  \n",
       "3    1512048  China National Petroleum  "
      ]
     },
     "execution_count": 13,
     "metadata": {},
     "output_type": "execute_result"
    }
   ],
   "source": [
    "f500.loc[0:3,\"industry\":\"title\"]"
   ]
  },
  {
   "cell_type": "markdown",
   "metadata": {},
   "source": [
    "\n",
    "* **Obs1:** When selecting just 1 row or just 1 column in a DataFrame, it returns a serie:\n",
    "* **Obs2:** There is a third way whitch is **.ix()**, but is deprecated."
   ]
  },
  {
   "cell_type": "markdown",
   "metadata": {},
   "source": [
    "<br>\n",
    "\n",
    "## • Series"
   ]
  },
  {
   "cell_type": "markdown",
   "metadata": {},
   "source": [
    "Series is the pandas type for one-dimensional objects."
   ]
  },
  {
   "cell_type": "code",
   "execution_count": 14,
   "metadata": {},
   "outputs": [
    {
     "name": "stdout",
     "output_type": "stream",
     "text": [
      "<class 'pandas.core.series.Series'>\n"
     ]
    }
   ],
   "source": [
    "print(type(f500[\"title\"]))"
   ]
  },
  {
   "cell_type": "markdown",
   "metadata": {},
   "source": [
    "Anytime you see a 1D pandas object, it will be a series, and anytime you see a 2D pandas object, it will be a dataframe.<br>\n",
    "You might like to think of a dataframe as being a collection of series objects, which is similar to how pandas stores the data behind the scenes."
   ]
  },
  {
   "cell_type": "markdown",
   "metadata": {},
   "source": [
    "<img src=\"df_exploded.svg\" style=\"width:500px; float:mid;\">"
   ]
  },
  {
   "cell_type": "markdown",
   "metadata": {},
   "source": [
    "<img src=\"seriesDataframes.jpg\" >"
   ]
  },
  {
   "cell_type": "markdown",
   "metadata": {},
   "source": [
    "✽ Selecting a single row"
   ]
  },
  {
   "cell_type": "code",
   "execution_count": 15,
   "metadata": {},
   "outputs": [
    {
     "name": "stdout",
     "output_type": "stream",
     "text": [
      "<class 'pandas.core.series.Series'>\n",
      "revenue                        267518\n",
      "profit                         1257.9\n",
      "industry           Petroleum Refining\n",
      "sector                         Energy\n",
      "location               Beijing, China\n",
      "years_on_top500                    19\n",
      "employees                      713288\n",
      "title                   Sinopec Group\n",
      "Name: 2, dtype: object\n"
     ]
    }
   ],
   "source": [
    "single_row = f500.loc[2]\n",
    "print(type(single_row))\n",
    "print(single_row)"
   ]
  },
  {
   "cell_type": "markdown",
   "metadata": {},
   "source": [
    "✽ To select a list of rows:"
   ]
  },
  {
   "cell_type": "code",
   "execution_count": 16,
   "metadata": {},
   "outputs": [
    {
     "name": "stdout",
     "output_type": "stream",
     "text": [
      "<class 'pandas.core.frame.DataFrame'>\n",
      "   revenue  profit            industry  sector        location  \\\n",
      "1   315199  9571.3           Utilities  Energy  Beijing, China   \n",
      "2   267518  1257.9  Petroleum Refining  Energy  Beijing, China   \n",
      "\n",
      "   years_on_top500  employees          title  \n",
      "1               17     926067     State Grid  \n",
      "2               19     713288  Sinopec Group  \n"
     ]
    }
   ],
   "source": [
    "list_rows = f500.loc[[1,2]]\n",
    "print(type(list_rows))\n",
    "print(list_rows)"
   ]
  },
  {
   "cell_type": "markdown",
   "metadata": {},
   "source": [
    "✽  selection using slices:"
   ]
  },
  {
   "cell_type": "code",
   "execution_count": 17,
   "metadata": {},
   "outputs": [
    {
     "name": "stdout",
     "output_type": "stream",
     "text": [
      "<class 'pandas.core.frame.DataFrame'>\n",
      "   revenue   profit                  industry                  sector  \\\n",
      "1   315199   9571.3                 Utilities                  Energy   \n",
      "2   267518   1257.9        Petroleum Refining                  Energy   \n",
      "3   262573   1867.5        Petroleum Refining                  Energy   \n",
      "4   254694  16899.3  Motor Vehicles and Parts  Motor Vehicles & Parts   \n",
      "\n",
      "         location  years_on_top500  employees                     title  \n",
      "1  Beijing, China               17     926067                State Grid  \n",
      "2  Beijing, China               19     713288             Sinopec Group  \n",
      "3  Beijing, China               17    1512048  China National Petroleum  \n",
      "4   Toyota, Japan               23     364445              Toyota Motor  \n"
     ]
    }
   ],
   "source": [
    "slice_rows = f500[1:5]\n",
    "print(type(slice_rows))\n",
    "print(slice_rows)"
   ]
  },
  {
   "cell_type": "markdown",
   "metadata": {},
   "source": [
    "---"
   ]
  },
  {
   "cell_type": "markdown",
   "metadata": {},
   "source": [
    "## Indexing resume in DataFrame and Series:"
   ]
  },
  {
   "cell_type": "markdown",
   "metadata": {},
   "source": [
    "<img src=\"indexcomplet.jpg\" >"
   ]
  },
  {
   "cell_type": "markdown",
   "metadata": {},
   "source": [
    "**OBS:**<br>\n",
    "While the _\"Other Shorthand\"_ presented on the table is rarely used,<br>\n",
    "The _\"Common Shorthand\"_ is **frequently used**."
   ]
  },
  {
   "cell_type": "markdown",
   "metadata": {},
   "source": [
    "# Methods:"
   ]
  },
  {
   "cell_type": "markdown",
   "metadata": {},
   "source": [
    "## Basic Methods:"
   ]
  },
  {
   "cell_type": "markdown",
   "metadata": {},
   "source": [
    "* Series.max() and DataFrame.max()\n",
    "* Series.min() and DataFrame.min()\n",
    "* Series.mean() and DataFrame.mean()\n",
    "* Series.median() and DataFrame.median()\n",
    "* Series.mode() and DataFrame.mode()\n",
    "* Series.sum() and DataFrame.sum()"
   ]
  },
  {
   "cell_type": "markdown",
   "metadata": {},
   "source": [
    "Example:\n",
    "For instance, if is wanted to find the median (middle) value for the revenues and profits columns, we could use the following code:<br>\n",
    "~~~\n",
    "medians = f500[[\"revenues\", \"profits\"]].median(axis=0)\n",
    "we could also use .median(axis=\"index\")\n",
    "~~~\n",
    "_OBS:_ The default value for the axis parameter with these methods is axis=0, so in the case above you can use only .median(), but for refreshing the axis:"
   ]
  },
  {
   "cell_type": "markdown",
   "metadata": {},
   "source": [
    "<img src=\"axis_param.svg\" style=\"width:480px\"/>"
   ]
  },
  {
   "cell_type": "code",
   "execution_count": 18,
   "metadata": {},
   "outputs": [
    {
     "data": {
      "text/plain": [
       "revenue             485873.0\n",
       "profit               45687.0\n",
       "years_on_top500         23.0\n",
       "employees          2300000.0\n",
       "dtype: float64"
      ]
     },
     "execution_count": 18,
     "metadata": {},
     "output_type": "execute_result"
    }
   ],
   "source": [
    "#Every method above has different parameters that helps on solving a great variety of problems, example:\n",
    "f500.max(numeric_only = True)  #max numeric only, will return only the max value of the int or float columns"
   ]
  },
  {
   "cell_type": "markdown",
   "metadata": {},
   "source": [
    "## Index of the max value\n",
    "As we can see above, its easy to find wich is the max value of something, but if we are interested in analyse the companie with most employees for example, we need to know the row index to access this information, and the [.idxmax()](https://pandas.pydata.org/pandas-docs/stable/reference/api/pandas.DataFrame.idxmax.html) is up to the task. "
   ]
  },
  {
   "cell_type": "code",
   "execution_count": 19,
   "metadata": {},
   "outputs": [
    {
     "data": {
      "text/plain": [
       "revenue                           485873\n",
       "profit                             13643\n",
       "industry           General Merchandisers\n",
       "sector                         Retailing\n",
       "location                 Bentonville, AR\n",
       "years_on_top500                       23\n",
       "employees                        2300000\n",
       "title                            Walmart\n",
       "Name: 0, dtype: object"
      ]
     },
     "execution_count": 19,
     "metadata": {},
     "output_type": "execute_result"
    }
   ],
   "source": [
    "max_employees_index = f500[\"employees\"].idxmax()\n",
    "f500.iloc[ max_employees_index , :]"
   ]
  },
  {
   "cell_type": "markdown",
   "metadata": {},
   "source": [
    "## Describe:\n",
    "returns some descriptive statistics on the data contained within a specific pandas series or dataframe:<br>\n",
    "[series.describe()](http://pandas.pydata.org/pandas-docs/stable/reference/api/pandas.Series.describe.html)<br>\n",
    "[df.describe()](http://pandas.pydata.org/pandas-docs/stable/reference/api/pandas.DataFrame.describe.html)"
   ]
  },
  {
   "cell_type": "code",
   "execution_count": 20,
   "metadata": {},
   "outputs": [
    {
     "data": {
      "text/plain": [
       "count       500.000000\n",
       "mean      55416.358000\n",
       "std       45725.478963\n",
       "min       21609.000000\n",
       "25%       29003.000000\n",
       "50%       40236.000000\n",
       "75%       63926.750000\n",
       "max      485873.000000\n",
       "Name: revenue, dtype: float64"
      ]
     },
     "execution_count": 20,
     "metadata": {},
     "output_type": "execute_result"
    }
   ],
   "source": [
    "#First we select a serie/row\n",
    "revenue = f500[\"revenue\"]\n",
    "#now the method can be used\n",
    "revenue.describe()\n",
    "\n",
    "#Or can be used in one line:\n",
    "#f500[\"highlights/0/value\"].describe()"
   ]
  },
  {
   "cell_type": "markdown",
   "metadata": {},
   "source": [
    "By default, DataFrame.describe() will return statistics for only numeric columns. If we wanted to get just the object columns, we need to use the include=['O'] parameter when using the dataframe version of describe:"
   ]
  },
  {
   "cell_type": "code",
   "execution_count": 21,
   "metadata": {},
   "outputs": [
    {
     "name": "stdout",
     "output_type": "stream",
     "text": [
      "                             industry      sector        location  \\\n",
      "count                             500         500             500   \n",
      "unique                             58          21             235   \n",
      "top     Banks: Commercial and Savings  Financials  Beijing, China   \n",
      "freq                               51         118              56   \n",
      "\n",
      "                    title  \n",
      "count                 500  \n",
      "unique                500  \n",
      "top     China Electronics  \n",
      "freq                    1  \n"
     ]
    }
   ],
   "source": [
    "print(f500.describe(include=['O']))"
   ]
  },
  {
   "cell_type": "markdown",
   "metadata": {},
   "source": [
    "Another difference is that Series.describe() returns a series object, where DataFrame.describe() returns a dataframe object."
   ]
  },
  {
   "cell_type": "code",
   "execution_count": 22,
   "metadata": {},
   "outputs": [
    {
     "name": "stdout",
     "output_type": "stream",
     "text": [
      "count      499.000000\n",
      "mean      3055.203206\n",
      "std       5171.981071\n",
      "min     -13038.000000\n",
      "25%        556.950000\n",
      "50%       1761.600000\n",
      "75%       3954.000000\n",
      "max      45687.000000\n",
      "Name: profit, dtype: float64\n",
      "\n",
      "             revenue     employees\n",
      "count     500.000000  5.000000e+02\n",
      "mean    55416.358000  1.339983e+05\n",
      "std     45725.478963  1.700878e+05\n",
      "min     21609.000000  3.280000e+02\n",
      "25%     29003.000000  4.293250e+04\n",
      "50%     40236.000000  9.291050e+04\n",
      "75%     63926.750000  1.689172e+05\n",
      "max    485873.000000  2.300000e+06\n"
     ]
    }
   ],
   "source": [
    "profits_desc = f500[\"profit\"].describe()\n",
    "revenue_and_employees_desc = f500[[\"revenue\", \"employees\"]].describe()\n",
    "\n",
    "print(profits_desc)\n",
    "print()\n",
    "print(revenue_and_employees_desc)"
   ]
  },
  {
   "cell_type": "code",
   "execution_count": 23,
   "metadata": {},
   "outputs": [
    {
     "data": {
      "text/html": [
       "<div>\n",
       "<style scoped>\n",
       "    .dataframe tbody tr th:only-of-type {\n",
       "        vertical-align: middle;\n",
       "    }\n",
       "\n",
       "    .dataframe tbody tr th {\n",
       "        vertical-align: top;\n",
       "    }\n",
       "\n",
       "    .dataframe thead th {\n",
       "        text-align: right;\n",
       "    }\n",
       "</style>\n",
       "<table border=\"1\" class=\"dataframe\">\n",
       "  <thead>\n",
       "    <tr style=\"text-align: right;\">\n",
       "      <th></th>\n",
       "      <th>revenue</th>\n",
       "      <th>profit</th>\n",
       "      <th>industry</th>\n",
       "      <th>sector</th>\n",
       "      <th>location</th>\n",
       "      <th>years_on_top500</th>\n",
       "      <th>employees</th>\n",
       "      <th>title</th>\n",
       "    </tr>\n",
       "  </thead>\n",
       "  <tbody>\n",
       "    <tr>\n",
       "      <th>count</th>\n",
       "      <td>500.000000</td>\n",
       "      <td>499.000000</td>\n",
       "      <td>500</td>\n",
       "      <td>500</td>\n",
       "      <td>500</td>\n",
       "      <td>500.000000</td>\n",
       "      <td>5.000000e+02</td>\n",
       "      <td>500</td>\n",
       "    </tr>\n",
       "    <tr>\n",
       "      <th>unique</th>\n",
       "      <td>NaN</td>\n",
       "      <td>NaN</td>\n",
       "      <td>58</td>\n",
       "      <td>21</td>\n",
       "      <td>235</td>\n",
       "      <td>NaN</td>\n",
       "      <td>NaN</td>\n",
       "      <td>500</td>\n",
       "    </tr>\n",
       "    <tr>\n",
       "      <th>top</th>\n",
       "      <td>NaN</td>\n",
       "      <td>NaN</td>\n",
       "      <td>Banks: Commercial and Savings</td>\n",
       "      <td>Financials</td>\n",
       "      <td>Beijing, China</td>\n",
       "      <td>NaN</td>\n",
       "      <td>NaN</td>\n",
       "      <td>China Electronics</td>\n",
       "    </tr>\n",
       "    <tr>\n",
       "      <th>freq</th>\n",
       "      <td>NaN</td>\n",
       "      <td>NaN</td>\n",
       "      <td>51</td>\n",
       "      <td>118</td>\n",
       "      <td>56</td>\n",
       "      <td>NaN</td>\n",
       "      <td>NaN</td>\n",
       "      <td>1</td>\n",
       "    </tr>\n",
       "    <tr>\n",
       "      <th>mean</th>\n",
       "      <td>55416.358000</td>\n",
       "      <td>3055.203206</td>\n",
       "      <td>NaN</td>\n",
       "      <td>NaN</td>\n",
       "      <td>NaN</td>\n",
       "      <td>15.036000</td>\n",
       "      <td>1.339983e+05</td>\n",
       "      <td>NaN</td>\n",
       "    </tr>\n",
       "    <tr>\n",
       "      <th>std</th>\n",
       "      <td>45725.478963</td>\n",
       "      <td>5171.981071</td>\n",
       "      <td>NaN</td>\n",
       "      <td>NaN</td>\n",
       "      <td>NaN</td>\n",
       "      <td>7.932752</td>\n",
       "      <td>1.700878e+05</td>\n",
       "      <td>NaN</td>\n",
       "    </tr>\n",
       "    <tr>\n",
       "      <th>min</th>\n",
       "      <td>21609.000000</td>\n",
       "      <td>-13038.000000</td>\n",
       "      <td>NaN</td>\n",
       "      <td>NaN</td>\n",
       "      <td>NaN</td>\n",
       "      <td>1.000000</td>\n",
       "      <td>3.280000e+02</td>\n",
       "      <td>NaN</td>\n",
       "    </tr>\n",
       "    <tr>\n",
       "      <th>25%</th>\n",
       "      <td>29003.000000</td>\n",
       "      <td>556.950000</td>\n",
       "      <td>NaN</td>\n",
       "      <td>NaN</td>\n",
       "      <td>NaN</td>\n",
       "      <td>7.000000</td>\n",
       "      <td>4.293250e+04</td>\n",
       "      <td>NaN</td>\n",
       "    </tr>\n",
       "    <tr>\n",
       "      <th>50%</th>\n",
       "      <td>40236.000000</td>\n",
       "      <td>1761.600000</td>\n",
       "      <td>NaN</td>\n",
       "      <td>NaN</td>\n",
       "      <td>NaN</td>\n",
       "      <td>17.000000</td>\n",
       "      <td>9.291050e+04</td>\n",
       "      <td>NaN</td>\n",
       "    </tr>\n",
       "    <tr>\n",
       "      <th>75%</th>\n",
       "      <td>63926.750000</td>\n",
       "      <td>3954.000000</td>\n",
       "      <td>NaN</td>\n",
       "      <td>NaN</td>\n",
       "      <td>NaN</td>\n",
       "      <td>23.000000</td>\n",
       "      <td>1.689172e+05</td>\n",
       "      <td>NaN</td>\n",
       "    </tr>\n",
       "    <tr>\n",
       "      <th>max</th>\n",
       "      <td>485873.000000</td>\n",
       "      <td>45687.000000</td>\n",
       "      <td>NaN</td>\n",
       "      <td>NaN</td>\n",
       "      <td>NaN</td>\n",
       "      <td>23.000000</td>\n",
       "      <td>2.300000e+06</td>\n",
       "      <td>NaN</td>\n",
       "    </tr>\n",
       "  </tbody>\n",
       "</table>\n",
       "</div>"
      ],
      "text/plain": [
       "              revenue        profit                       industry  \\\n",
       "count      500.000000    499.000000                            500   \n",
       "unique            NaN           NaN                             58   \n",
       "top               NaN           NaN  Banks: Commercial and Savings   \n",
       "freq              NaN           NaN                             51   \n",
       "mean     55416.358000   3055.203206                            NaN   \n",
       "std      45725.478963   5171.981071                            NaN   \n",
       "min      21609.000000 -13038.000000                            NaN   \n",
       "25%      29003.000000    556.950000                            NaN   \n",
       "50%      40236.000000   1761.600000                            NaN   \n",
       "75%      63926.750000   3954.000000                            NaN   \n",
       "max     485873.000000  45687.000000                            NaN   \n",
       "\n",
       "            sector        location  years_on_top500     employees  \\\n",
       "count          500             500       500.000000  5.000000e+02   \n",
       "unique          21             235              NaN           NaN   \n",
       "top     Financials  Beijing, China              NaN           NaN   \n",
       "freq           118              56              NaN           NaN   \n",
       "mean           NaN             NaN        15.036000  1.339983e+05   \n",
       "std            NaN             NaN         7.932752  1.700878e+05   \n",
       "min            NaN             NaN         1.000000  3.280000e+02   \n",
       "25%            NaN             NaN         7.000000  4.293250e+04   \n",
       "50%            NaN             NaN        17.000000  9.291050e+04   \n",
       "75%            NaN             NaN        23.000000  1.689172e+05   \n",
       "max            NaN             NaN        23.000000  2.300000e+06   \n",
       "\n",
       "                    title  \n",
       "count                 500  \n",
       "unique                500  \n",
       "top     China Electronics  \n",
       "freq                    1  \n",
       "mean                  NaN  \n",
       "std                   NaN  \n",
       "min                   NaN  \n",
       "25%                   NaN  \n",
       "50%                   NaN  \n",
       "75%                   NaN  \n",
       "max                   NaN  "
      ]
     },
     "execution_count": 23,
     "metadata": {},
     "output_type": "execute_result"
    }
   ],
   "source": [
    "#Descriptive statistics for every column in the f500 dataframe (include parameter)\n",
    "all_desc = f500.describe(include=\"all\")\n",
    "all_desc"
   ]
  },
  {
   "cell_type": "markdown",
   "metadata": {},
   "source": [
    "## Counts\n",
    "This method displays each unique non-null value from a series, with a count of the number of times that value is used.<br>\n",
    "[series.value.counts()](http://pandas.pydata.org/pandas-docs/stable/reference/api/pandas.Series.value_counts.html)\n",
    "**This method is only for series**"
   ]
  },
  {
   "cell_type": "code",
   "execution_count": 24,
   "metadata": {},
   "outputs": [
    {
     "name": "stdout",
     "output_type": "stream",
     "text": [
      "Financials                118\n",
      "Energy                     80\n",
      "Technology                 44\n",
      "Motor Vehicles & Parts     34\n",
      "Wholesalers                28\n",
      "Name: sector, dtype: int64\n"
     ]
    }
   ],
   "source": [
    "#First we select the sector column\n",
    "#By selecting this column we got a series type, which allows the use of value_counts\n",
    "#By using value_counts, the code counts the number of time which sector appears and organize then in order\n",
    "#By using head is selected the first 5 elements of the series, which has the biggest counted values.\n",
    "#Than is printed.\n",
    "\n",
    "print(f500[\"sector\"].value_counts().head())\n"
   ]
  },
  {
   "cell_type": "markdown",
   "metadata": {},
   "source": [
    "A important parameter of this method is **dropna** which dont count NaN (not a number).\n",
    "<br>Sometimes tables use zero to represent none, we can change this zeros per np.nan, and then use the counts/head technique like these:\n",
    "<br> **df[\"someColumn\"].value_counts(dropna=False).head()**\n",
    "\n",
    "But is important to notice that pandas although supports most of numpy types, NaN is different, so pandas change all integers to float when it comes across a NaN type."
   ]
  },
  {
   "cell_type": "markdown",
   "metadata": {},
   "source": [
    "---"
   ]
  },
  {
   "cell_type": "markdown",
   "metadata": {},
   "source": [
    "# Assigning values"
   ]
  },
  {
   "cell_type": "code",
   "execution_count": 25,
   "metadata": {},
   "outputs": [
    {
     "name": "stdout",
     "output_type": "stream",
     "text": [
      "                      title  revenue\n",
      "0                   Walmart   485873\n",
      "1                State Grid   315199\n",
      "2             Sinopec Group   267518\n",
      "3  China National Petroleum   262573\n",
      "4              Toyota Motor   254694\n",
      "<class 'pandas.core.frame.DataFrame'>\n"
     ]
    }
   ],
   "source": [
    "#Creating a dataFrame that we can modify\n",
    "top5_rank_revenue = f500[[\"title\", \"revenue\"]].head()\n",
    "print(top5_rank_revenue)\n",
    "print(type(top5_rank_revenue))"
   ]
  },
  {
   "cell_type": "markdown",
   "metadata": {},
   "source": [
    "<br>✽ Assigning value to a entire column:"
   ]
  },
  {
   "cell_type": "code",
   "execution_count": 26,
   "metadata": {},
   "outputs": [
    {
     "name": "stdout",
     "output_type": "stream",
     "text": [
      "                      title  revenue\n",
      "0                   Walmart        0\n",
      "1                State Grid        0\n",
      "2             Sinopec Group        0\n",
      "3  China National Petroleum        0\n",
      "4              Toyota Motor        0\n"
     ]
    }
   ],
   "source": [
    "top5_rank_revenue[\"revenue\"] = 0\n",
    "print(top5_rank_revenue)"
   ]
  },
  {
   "cell_type": "markdown",
   "metadata": {},
   "source": [
    "<br>✽ Providing labels for both axes, we can assign to a single value within our dataframe:\n",
    "<br> In this example, will be used [**.index()**](https://pandas.pydata.org/pandas-docs/stable/reference/api/pandas.Index.html)"
   ]
  },
  {
   "cell_type": "code",
   "execution_count": 27,
   "metadata": {},
   "outputs": [
    {
     "name": "stdout",
     "output_type": "stream",
     "text": [
      "                      title  revenue\n",
      "0                   Walmart        0\n",
      "1                State Grid      999\n",
      "2             Sinopec Group        0\n",
      "3  China National Petroleum        0\n",
      "4              Toyota Motor        0\n"
     ]
    }
   ],
   "source": [
    "#Lets say we need want to change 'State Grid' revenue for 999\n",
    "#For this we need to pass 2 parameters (row and column)\n",
    "#Column is easy, its revenue,\n",
    "#But the row, we need a index value that indicates which row in title column has a 'State Grid' value\n",
    "#For this we will use .index[] \n",
    "top5_rank_revenue.loc[f500.index[f500['title'] == 'State Grid'], \"revenue\"] = 999\n",
    "print(top5_rank_revenue)"
   ]
  },
  {
   "cell_type": "markdown",
   "metadata": {},
   "source": [
    "<br>✽  **Important observation**, Assigning false value and creating a new column or rowIf we assign a value using a index or column label that does not exist, pandas will create a new row or column in our dataframe"
   ]
  },
  {
   "cell_type": "code",
   "execution_count": 28,
   "metadata": {},
   "outputs": [
    {
     "name": "stdout",
     "output_type": "stream",
     "text": [
      "                      title  revenue  WRONG_Column\n",
      "0                   Walmart        0             7\n",
      "1                State Grid      999             7\n",
      "2             Sinopec Group        0             7\n",
      "3  China National Petroleum        0             7\n",
      "4              Toyota Motor        0             7\n"
     ]
    }
   ],
   "source": [
    "top5_rank_revenue[\"WRONG_Column\"] = 7\n",
    "print(top5_rank_revenue)"
   ]
  },
  {
   "cell_type": "code",
   "execution_count": 29,
   "metadata": {},
   "outputs": [
    {
     "name": "stdout",
     "output_type": "stream",
     "text": [
      "                              title  revenue  WRONG_Column\n",
      "0                           Walmart      0.0           7.0\n",
      "1                        State Grid    999.0           7.0\n",
      "2                     Sinopec Group      0.0           7.0\n",
      "3          China National Petroleum      0.0           7.0\n",
      "4                      Toyota Motor      0.0           7.0\n",
      "WRONG_ROW                       NaN      7.0           NaN\n"
     ]
    }
   ],
   "source": [
    "top5_rank_revenue.loc[\"WRONG_ROW\", \"revenue\"] = 7\n",
    "print(top5_rank_revenue)"
   ]
  },
  {
   "cell_type": "markdown",
   "metadata": {},
   "source": [
    "<br>✽ **Boolean indexing** assigning"
   ]
  },
  {
   "cell_type": "code",
   "execution_count": 30,
   "metadata": {},
   "outputs": [
    {
     "name": "stdout",
     "output_type": "stream",
     "text": [
      "0    False\n",
      "1    False\n",
      "2    False\n",
      "3    False\n",
      "4     True\n",
      "Name: industry, dtype: bool\n"
     ]
    }
   ],
   "source": [
    "motor_bool = f500[\"industry\"] == \"Motor Vehicles and Parts\"\n",
    "print(motor_bool.head())"
   ]
  },
  {
   "cell_type": "code",
   "execution_count": 31,
   "metadata": {},
   "outputs": [
    {
     "name": "stdout",
     "output_type": "stream",
     "text": [
      "      name  age\n",
      "0    Kylie   12\n",
      "1    Rahul    8\n",
      "2  Michael    5\n",
      "3    Sarah    8\n"
     ]
    }
   ],
   "source": [
    "#Creating a dataFrame as a example:\n",
    "df = pd.DataFrame({'name': ['Kylie', 'Rahul','Michael', 'Sarah'],\n",
    "                            'age': [12,8,5,8]})\n",
    "print(df.head())"
   ]
  },
  {
   "cell_type": "code",
   "execution_count": 32,
   "metadata": {},
   "outputs": [
    {
     "name": "stdout",
     "output_type": "stream",
     "text": [
      "0    False\n",
      "1     True\n",
      "2    False\n",
      "3     True\n",
      "Name: age, dtype: bool\n",
      "----------------------------\n",
      "    name  age\n",
      "1  Rahul    8\n",
      "3  Sarah    8\n",
      "----------------------------\n",
      "1    Rahul\n",
      "3    Sarah\n",
      "Name: name, dtype: object\n"
     ]
    }
   ],
   "source": [
    "#who has 8 years?\n",
    "num_bool = df[\"age\"] == 8\n",
    "print(num_bool)\n",
    "print(\"----------------------------\")\n",
    "\n",
    "result = df[num_bool]\n",
    "print(result)\n",
    "print(\"----------------------------\")\n",
    "\n",
    "#If I only wanted their names?\n",
    "names_eight = df.loc[num_bool, 'name']\n",
    "print(names_eight)"
   ]
  },
  {
   "cell_type": "markdown",
   "metadata": {},
   "source": [
    "<br>_Example_: We want to find out which are the 5 most common cities for companies belonging to the 'Motor Vehicles and Parts' industry"
   ]
  },
  {
   "cell_type": "code",
   "execution_count": 33,
   "metadata": {},
   "outputs": [
    {
     "name": "stdout",
     "output_type": "stream",
     "text": [
      "Tokyo, Japan          3\n",
      "Seoul, South Korea    3\n",
      "Kariya, Japan         2\n",
      "Stuttgart, Germany    2\n",
      "Wuhan, China          1\n",
      "Name: location, dtype: int64\n"
     ]
    }
   ],
   "source": [
    "#First we separate by industry\n",
    "motor_industry_bool = f500[\"industry\"] == 'Motor Vehicles and Parts' \n",
    "only_motors = f500[motor_industry_bool]\n",
    "\n",
    "\n",
    "#Now we use the count/head technique to see the top 5 cities\n",
    "print(only_motors[\"location\"].value_counts().head())"
   ]
  },
  {
   "cell_type": "markdown",
   "metadata": {},
   "source": [
    "<br>\n",
    "\n",
    "## Shortcut to some analyses\n",
    "In order to simplify this task we will use the direct indexing -> df.item"
   ]
  },
  {
   "cell_type": "markdown",
   "metadata": {},
   "source": [
    "✽ Imagine we want the mean number of employees in Beijing, China."
   ]
  },
  {
   "cell_type": "code",
   "execution_count": 34,
   "metadata": {},
   "outputs": [
    {
     "data": {
      "text/plain": [
       "241890.19642857142"
      ]
     },
     "execution_count": 34,
     "metadata": {},
     "output_type": "execute_result"
    }
   ],
   "source": [
    "f500.employees[f500[\"location\"] == \"Beijing, China\"].mean()"
   ]
  },
  {
   "cell_type": "markdown",
   "metadata": {},
   "source": [
    "<br>✽ Now the 3 most sectors in Beijing for companies:"
   ]
  },
  {
   "cell_type": "code",
   "execution_count": 35,
   "metadata": {},
   "outputs": [
    {
     "data": {
      "text/plain": [
       "Financials                    13\n",
       "Energy                        10\n",
       "Engineering & Construction     7\n",
       "Name: sector, dtype: int64"
      ]
     },
     "execution_count": 35,
     "metadata": {},
     "output_type": "execute_result"
    }
   ],
   "source": [
    "f500.sector[f500[\"location\"] == \"Beijing, China\"].value_counts().head(3)"
   ]
  },
  {
   "cell_type": "markdown",
   "metadata": {},
   "source": [
    "<br>✽ Which is the mean frequency of Beijing companies on the 500 top list:"
   ]
  },
  {
   "cell_type": "code",
   "execution_count": 36,
   "metadata": {},
   "outputs": [
    {
     "data": {
      "text/plain": [
       "8.696428571428571"
      ]
     },
     "execution_count": 36,
     "metadata": {},
     "output_type": "execute_result"
    }
   ],
   "source": [
    "f500.years_on_top500[f500[\"location\"] == \"Beijing, China\"].mean()\n"
   ]
  }
 ],
 "metadata": {
  "kernelspec": {
   "display_name": "Python 3",
   "language": "python",
   "name": "python3"
  },
  "language_info": {
   "codemirror_mode": {
    "name": "ipython",
    "version": 3
   },
   "file_extension": ".py",
   "mimetype": "text/x-python",
   "name": "python",
   "nbconvert_exporter": "python",
   "pygments_lexer": "ipython3",
   "version": "3.7.0"
  }
 },
 "nbformat": 4,
 "nbformat_minor": 2
}
