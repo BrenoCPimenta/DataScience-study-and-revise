{
 "cells": [
  {
   "cell_type": "markdown",
   "metadata": {},
   "source": [
    "# Python FUNDAMENTAL FUNCTIONS"
   ]
  },
  {
   "cell_type": "markdown",
   "metadata": {},
   "source": [
    "This notebook corresponds to mission 05 of [dataquest](https://www.dataquest.io)."
   ]
  },
  {
   "cell_type": "markdown",
   "metadata": {},
   "source": [
    "**Summary:**\n",
    "* Built-in functions\n",
    "* LocalvsGlobal Scope\n",
    "* mutable and imutable data\n",
    "* OBS: None History\n"
   ]
  },
  {
   "cell_type": "markdown",
   "metadata": {},
   "source": [
    "---"
   ]
  },
  {
   "cell_type": "markdown",
   "metadata": {},
   "source": [
    "### Built-In functions\n",
    "* **print()**\n",
    "* **max()**\n",
    "* **min()**\n",
    "* **len()**\n",
    "* **hash()**\n",
    "* **type()**\n",
    "* **open()**\n",
    "* **next()**\n",
    "* **map()**\n",
    "* **set()**\n",
    "* **pow()**\n",
    "* **range()**\n",
    "* **sorted()**\n",
    "* **round()**<br>\n",
    "And much more...\n",
    "\n",
    "\n",
    "\n"
   ]
  },
  {
   "cell_type": "markdown",
   "metadata": {},
   "source": [
    "### Good Practces \n",
    "[Python's official style guide](https://www.python.org/dev/peps/pep-0008/) (the style guide is also known as PEP 8 — PEP stands for Python Enhancement Proposal):\n",
    "* Function names should only be lowercase.\n",
    "* Individual words should be separated by underscores where this improves readability.\n",
    "* Never name a function or a variable with a built-in function, because it will affect its functionality"
   ]
  },
  {
   "cell_type": "markdown",
   "metadata": {},
   "source": [
    "### Creating functions"
   ]
  },
  {
   "cell_type": "code",
   "execution_count": 1,
   "metadata": {},
   "outputs": [
    {
     "name": "stdout",
     "output_type": "stream",
     "text": [
      "36\n"
     ]
    }
   ],
   "source": [
    "def square(a_number):\n",
    "    squared_number = a_number**2\n",
    "    return squared_number\n",
    "\n",
    "print(square(6))"
   ]
  },
  {
   "cell_type": "code",
   "execution_count": 2,
   "metadata": {},
   "outputs": [
    {
     "name": "stdout",
     "output_type": "stream",
     "text": [
      "3\n"
     ]
    }
   ],
   "source": [
    "def sumab(a,b):\n",
    "    return a+b\n",
    "\n",
    "print(sumab(1,2))"
   ]
  },
  {
   "cell_type": "markdown",
   "metadata": {},
   "source": [
    "* **For more complex functions, with a lot of parameters, it is a good idea to use a method that allow us to change the order of the parameters passed into the function**"
   ]
  },
  {
   "cell_type": "code",
   "execution_count": 3,
   "metadata": {},
   "outputs": [
    {
     "name": "stdout",
     "output_type": "stream",
     "text": [
      "10\n",
      "10\n"
     ]
    }
   ],
   "source": [
    "def equation1(a, b, c, d):\n",
    "    return (a*b-c)**d\n",
    "\n",
    "print(equation1(4,3,2,1))\n",
    "print(equation1(d=1,a=4,b=3,c =2))"
   ]
  },
  {
   "cell_type": "markdown",
   "metadata": {},
   "source": [
    "* **Returning 2 or more variables (tuple)**"
   ]
  },
  {
   "cell_type": "markdown",
   "metadata": {},
   "source": [
    "The main difference between tuples and lists:\n",
    "    In the case of tuples, we can't modify the existing values.\n",
    "    While in the case of lists, we can.\n",
    "    \n",
    "Tuples are called immutable data types because we can't change their state after they've been created"
   ]
  },
  {
   "cell_type": "code",
   "execution_count": 4,
   "metadata": {},
   "outputs": [
    {
     "name": "stdout",
     "output_type": "stream",
     "text": [
      "2\n",
      "a\n",
      "\n",
      "\n",
      "3\n",
      "1\n",
      "\n",
      "\n",
      "3\n",
      "1\n"
     ]
    }
   ],
   "source": [
    "a_list = [1,2,3]\n",
    "a_tuple = (1,2,3)\n",
    "b_tuple = 1, 'a', 2.5\n",
    "\n",
    "a_list[1] += 1\n",
    "#CANT a_tuple[1] += 1\n",
    "print(a_tuple[1])\n",
    "print(b_tuple[1])\n",
    "print(\"\\n\")\n",
    "\n",
    "def sum_and_subtraction(a,b):\n",
    "    sum_ab = a+b\n",
    "    sub_ab = a-b\n",
    "    return sum_ab, sub_ab\n",
    "\n",
    "result_ab = sum_and_subtraction(2,1)\n",
    "\n",
    "print(result_ab[0])\n",
    "print(result_ab[1])\n",
    "print(\"\\n\")\n",
    "\n",
    "\n",
    "#You can assign more values at once, in tuple as in lists\n",
    "var_1, var_2 = result_ab\n",
    "\n",
    "#This is the same as:\n",
    "#var_1 = result_ab[0]\n",
    "#var_2 = result_ab[1]\n",
    "\n",
    "print(var_1)\n",
    "print(var_2)\n"
   ]
  },
  {
   "cell_type": "markdown",
   "metadata": {},
   "source": [
    "# Local scope VS Global scope"
   ]
  },
  {
   "cell_type": "code",
   "execution_count": 5,
   "metadata": {},
   "outputs": [
    {
     "name": "stdout",
     "output_type": "stream",
     "text": [
      "2.72\n",
      "mathematical constant\n"
     ]
    }
   ],
   "source": [
    "#How attributing a value to a variable inside a local scope doesn't change its value outside:\n",
    "\n",
    "e = 'mathematical constant'\n",
    "\n",
    "def exponential(x):\n",
    "    e = 2.72\n",
    "    print(e)\n",
    "    return e**x\n",
    "\n",
    "result = exponential(5)\n",
    "print(e)"
   ]
  },
  {
   "cell_type": "markdown",
   "metadata": {},
   "source": [
    "* * When a variable is accessed from within a function, Python first searches in the local scope (inside that function's definition) to see if the variable is defined there. If it doesn't find it there, it doesn't throw an error but continues instead to search in the global scope (the scope of the main program).\n",
    "\n",
    "    **The local scope is always prioritized relative to the global scope**"
   ]
  },
  {
   "cell_type": "code",
   "execution_count": 6,
   "metadata": {},
   "outputs": [
    {
     "name": "stdout",
     "output_type": "stream",
     "text": [
      "1000\n",
      "50\n"
     ]
    }
   ],
   "source": [
    "a_sum = 1000\n",
    "length = 50\n",
    "\n",
    "def divide():\n",
    "    print(a_sum)\n",
    "    print(length)\n",
    "    return a_sum / length\n",
    "\n",
    "result_2 = divide()"
   ]
  },
  {
   "cell_type": "markdown",
   "metadata": {},
   "source": [
    "* * Make a variable defined in the local scope available from the global scope\n",
    "\n",
    "    **Using global is generally discouraged because it's not obvious from the function call that new variables will be added to the global scope. If we don't know that new variables will be defined, we risk modifying existing variables without even knowing**"
   ]
  },
  {
   "cell_type": "code",
   "execution_count": 7,
   "metadata": {},
   "outputs": [
    {
     "name": "stdout",
     "output_type": "stream",
     "text": [
      "Without global Keyword:\n",
      "    global= 0  local= 4\n",
      "\n",
      "With global Keyword:\n",
      "    global= 0  local= 2\n"
     ]
    }
   ],
   "source": [
    "x = 0\n",
    "def local_x():\n",
    "    x = 2\n",
    "    x+=2\n",
    "    return x\n",
    "\n",
    "print(\"Without global Keyword:\")\n",
    "print(\"    global=\",x, \" local=\", local_x())\n",
    "\n",
    "\n",
    "y = 0\n",
    "def local_y():\n",
    "    global y\n",
    "    y+=2\n",
    "    return y\n",
    "\n",
    "print(\"\\nWith global Keyword:\")\n",
    "print(\"    global=\",y, \" local=\", local_y())"
   ]
  },
  {
   "cell_type": "markdown",
   "metadata": {},
   "source": [
    "### It is important to understand that lists and dictionaries can be change inside a local scope in a global way"
   ]
  },
  {
   "cell_type": "markdown",
   "metadata": {},
   "source": [
    "* There is mutable variables => Lists and Dictionaries\n",
    "* There is Immutable variables => All the rest"
   ]
  },
  {
   "cell_type": "markdown",
   "metadata": {},
   "source": [
    "<img src=\"py1m6_mutable_immutable.svg\">"
   ]
  },
  {
   "cell_type": "markdown",
   "metadata": {},
   "source": [
    "This is how immutable variable memory works:"
   ]
  },
  {
   "cell_type": "markdown",
   "metadata": {},
   "source": [
    "![ImmutableUrl](py1m6_imm_correct.gif \"immutable\")"
   ]
  },
  {
   "cell_type": "markdown",
   "metadata": {},
   "source": [
    "This is how mutable variable memory works"
   ]
  },
  {
   "cell_type": "markdown",
   "metadata": {},
   "source": [
    "![MutableUrl](py1m6_updating.gif \"mutable\")"
   ]
  },
  {
   "cell_type": "markdown",
   "metadata": {},
   "source": [
    "Since mutalbe variables alters the memory in the end of the pointer, insted of just pointing in another direction. If you point another list into a existing list, and make changes in this existing list, the other list will suffer the same changes, like shown bellow:"
   ]
  },
  {
   "cell_type": "markdown",
   "metadata": {},
   "source": [
    "![PointerUrl](py1m6_same_lists.gif \"pointer\")"
   ]
  },
  {
   "cell_type": "markdown",
   "metadata": {},
   "source": [
    "And this is how it works with a immutable variable, in the same situation as above:"
   ]
  },
  {
   "cell_type": "markdown",
   "metadata": {},
   "source": [
    "\n",
    "![PointerIMMutableUrl](py1m6_immutable.gif \"pointerIMMutable\")"
   ]
  },
  {
   "cell_type": "markdown",
   "metadata": {},
   "source": [
    "But if you want to make a copy of that list without making changes in it, it can be used a method called **.copy()** :"
   ]
  },
  {
   "cell_type": "markdown",
   "metadata": {},
   "source": [
    "<img src=\"py1m6_list_copy.svg\">"
   ]
  },
  {
   "cell_type": "markdown",
   "metadata": {},
   "source": [
    "---"
   ]
  },
  {
   "cell_type": "markdown",
   "metadata": {},
   "source": [
    "---"
   ]
  },
  {
   "cell_type": "markdown",
   "metadata": {},
   "source": [
    "# Other Functions"
   ]
  },
  {
   "cell_type": "markdown",
   "metadata": {},
   "source": [
    "* **Map Function**"
   ]
  },
  {
   "cell_type": "code",
   "execution_count": 10,
   "metadata": {},
   "outputs": [
    {
     "name": "stdout",
     "output_type": "stream",
     "text": [
      "<map object at 0x000002060D2F74E0>\n",
      "<class 'map'>\n",
      "{16, 1, 4, 9}\n"
     ]
    }
   ],
   "source": [
    "def calculateSquare(n):\n",
    "  return n*n\n",
    "\n",
    "numbers = (1, 2, 3, 4)\n",
    "result = map(calculateSquare, numbers)\n",
    "\n",
    "print(result)\n",
    "print(type(result))\n",
    "\n",
    "# converting map object to set\n",
    "numbersSquare = set(result)\n",
    "print(numbersSquare)\n"
   ]
  },
  {
   "cell_type": "markdown",
   "metadata": {},
   "source": [
    "* **Sorted Function**"
   ]
  },
  {
   "cell_type": "code",
   "execution_count": 11,
   "metadata": {},
   "outputs": [
    {
     "name": "stdout",
     "output_type": "stream",
     "text": [
      "[1, 2, 3, 4, 5]\n",
      "['Alicia', 'Breno', 'Clara', 'a-minusculo', 'b-minusculo']\n"
     ]
    }
   ],
   "source": [
    "list_exp = [4,2,5,1,3]\n",
    "print(sorted(list_exp))\n",
    "\n",
    "list_name_exp = [\"Breno\", \"Clara\", \"Alicia\",\"b-minusculo\",\"a-minusculo\"]\n",
    "print(sorted(list_name_exp))"
   ]
  },
  {
   "cell_type": "markdown",
   "metadata": {},
   "source": [
    "* **Round Function**"
   ]
  },
  {
   "cell_type": "code",
   "execution_count": 12,
   "metadata": {},
   "outputs": [
    {
     "name": "stdout",
     "output_type": "stream",
     "text": [
      "3.4\n",
      "0.23\n",
      "921.22252\n"
     ]
    }
   ],
   "source": [
    "one_decimal = round(3.43, ndigits=1)\n",
    "print(one_decimal)\n",
    "two_decimals = round(0.23321, 2) # using only positional arguments\n",
    "print(two_decimals)\n",
    "five_decimals = round(921.2225227, 5)\n",
    "print(five_decimals)"
   ]
  },
  {
   "cell_type": "markdown",
   "metadata": {},
   "source": [
    "---"
   ]
  },
  {
   "cell_type": "markdown",
   "metadata": {},
   "source": [
    "# OBS:"
   ]
  },
  {
   "cell_type": "markdown",
   "metadata": {},
   "source": [
    "None type in python:"
   ]
  },
  {
   "cell_type": "code",
   "execution_count": 13,
   "metadata": {},
   "outputs": [
    {
     "name": "stdout",
     "output_type": "stream",
     "text": [
      "<class 'NoneType'>\n"
     ]
    }
   ],
   "source": [
    "print(type(None))"
   ]
  },
  {
   "cell_type": "markdown",
   "metadata": {},
   "source": [
    "To see the execution:"
   ]
  },
  {
   "cell_type": "code",
   "execution_count": 14,
   "metadata": {},
   "outputs": [
    {
     "name": "stdout",
     "output_type": "stream",
     "text": [
      ">>> def square(a_number):\n",
      "...     squared_number = a_number**2\n",
      "...     return squared_number\n",
      "... \n",
      "... print(square(6))\n",
      "...\n",
      ">>> def sumab(a,b):\n",
      "...     return a+b\n",
      "... \n",
      "... print(sumab(1,2))\n",
      "...\n",
      ">>> def equation1(a, b, c, d):\n",
      "...     return (a*b-c)**d\n",
      "... \n",
      "... print(equation1(4,3,2,1))\n",
      "... print(equation1(d=1,a=4,b=3,c =2))\n",
      "...\n",
      ">>> a_list = [1,2,3]\n",
      "... a_tuple = (1,2,3)\n",
      "... b_tuple = 1, 'a', 2.5\n",
      "... \n",
      "... a_list[1] += 1\n",
      "... #CANT a_tuple[1] += 1\n",
      "... print(a_tuple[1])\n",
      "... print(b_tuple[1])\n",
      "... print(\"\\n\")\n",
      "... \n",
      "... def sum_and_subtraction(a,b):\n",
      "...     sum_ab = a+b\n",
      "...     sub_ab = a-b\n",
      "...     return sum_ab, sub_ab\n",
      "... \n",
      "... result_ab = sum_and_subtraction(2,1)\n",
      "... \n",
      "... print(result_ab[0])\n",
      "... print(result_ab[1])\n",
      "... print(\"\\n\")\n",
      "... \n",
      "... \n",
      "... #You can assign more values at once, in tuple as in lists\n",
      "... var_1, var_2 = result_ab\n",
      "... \n",
      "... #This is the same as:\n",
      "... #var_1 = result_ab[0]\n",
      "... #var_2 = result_ab[1]\n",
      "... \n",
      "... print(var_1)\n",
      "... print(var_2)\n",
      "...\n",
      ">>> #How attributing a value to a variable inside a local scope doesn't change its value outside:\n",
      "... \n",
      "... e = 'mathematical constant'\n",
      "... \n",
      "... def exponential(x):\n",
      "...     e = 2.72\n",
      "...     print(e)\n",
      "...     return e**x\n",
      "... \n",
      "... result = exponential(5)\n",
      "... print(e)\n",
      "...\n",
      ">>> a_sum = 1000\n",
      "... length = 50\n",
      "... \n",
      "... def divide():\n",
      "...     print(a_sum)\n",
      "...     print(length)\n",
      "...     return a_sum / length\n",
      "... \n",
      "... result_2 = divide()\n",
      "...\n",
      ">>> x = 0\n",
      "... def local_x():\n",
      "...     x = 2\n",
      "...     x+=2\n",
      "...     return x\n",
      "... \n",
      "... print(\"Without global Keyword:\")\n",
      "... print(\"    global=\",x, \" local=\", local_x())\n",
      "... \n",
      "... \n",
      "... y = 0\n",
      "... def local_y():\n",
      "...     global y\n",
      "...     y+=2\n",
      "...     return y\n",
      "... \n",
      "... print(\"\\nWith global Keyword:\")\n",
      "... print(\"    global=\",y, \" local=\", local_y())\n",
      "...\n",
      ">>> from IPython.display import SVG, display\n",
      "... def show_svg():\n",
      "...     return (SVG(url='https://s3.amazonaws.com/dq-content/316/py1m6_mutable_immutable.svg'))\n",
      "... show_svg()\n",
      "...\n",
      ">>> def show_svg_1():\n",
      "...     return (SVG(url='https://s3.amazonaws.com/dq-content/316/py1m6_list_copy.svg'))\n",
      "... show_svg_1()\n",
      "...\n",
      ">>> def calculateSquare(n):\n",
      "...   return n*n\n",
      "... \n",
      "... numbers = (1, 2, 3, 4)\n",
      "... result = map(calculateSquare, numbers)\n",
      "... \n",
      "... print(result)\n",
      "... print(type(result))\n",
      "... \n",
      "... # converting map object to set\n",
      "... numbersSquare = set(result)\n",
      "... print(numbersSquare)\n",
      "...\n",
      ">>> list_exp = [4,2,5,1,3]\n",
      "... print(sorted(list_exp))\n",
      "... \n",
      "... list_name_exp = [\"Breno\", \"Clara\", \"Alicia\",\"b-minusculo\",\"a-minusculo\"]\n",
      "... print(sorted(list_name_exp))\n",
      "...\n",
      ">>> one_decimal = round(3.43, ndigits=1)\n",
      "... print(one_decimal)\n",
      "... two_decimals = round(0.23321, 2) # using only positional arguments\n",
      "... print(two_decimals)\n",
      "... five_decimals = round(921.2225227, 5)\n",
      "... print(five_decimals)\n",
      "...\n",
      ">>> print(type(None))\n",
      ">>> %history -p\n"
     ]
    }
   ],
   "source": [
    "%history -p"
   ]
  }
 ],
 "metadata": {
  "kernelspec": {
   "display_name": "Python 3",
   "language": "python",
   "name": "python3"
  },
  "language_info": {
   "codemirror_mode": {
    "name": "ipython",
    "version": 3
   },
   "file_extension": ".py",
   "mimetype": "text/x-python",
   "name": "python",
   "nbconvert_exporter": "python",
   "pygments_lexer": "ipython3",
   "version": "3.7.0"
  }
 },
 "nbformat": 4,
 "nbformat_minor": 2
}
