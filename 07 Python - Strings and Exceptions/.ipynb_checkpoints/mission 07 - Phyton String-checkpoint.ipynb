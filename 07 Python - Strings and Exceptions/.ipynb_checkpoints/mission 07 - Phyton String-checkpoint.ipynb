{
 "cells": [
  {
   "cell_type": "markdown",
   "metadata": {},
   "source": [
    "# Data Quest\n",
    "\n",
    "## Phyton CheatSheet\n",
    "\n",
    "### Mission 07"
   ]
  },
  {
   "cell_type": "markdown",
   "metadata": {},
   "source": [
    "## Strings and Exceptions"
   ]
  },
  {
   "cell_type": "markdown",
   "metadata": {},
   "source": [
    "**Replace**"
   ]
  },
  {
   "cell_type": "code",
   "execution_count": 7,
   "metadata": {},
   "outputs": [
    {
     "name": "stdout",
     "output_type": "stream",
     "text": [
      "This is my friend Suzi. Suzi and I like to play video games\n"
     ]
    }
   ],
   "source": [
    "first_str= \"This is my friend Suzanne. Suzanne and I like to play video games\"\n",
    "print(first_str.replace(\"Suzanne\", \"Suzi\"))"
   ]
  },
  {
   "cell_type": "markdown",
   "metadata": {},
   "source": [
    "**Upper - Lower - Title**"
   ]
  },
  {
   "cell_type": "code",
   "execution_count": 10,
   "metadata": {},
   "outputs": [
    {
     "name": "stdout",
     "output_type": "stream",
     "text": [
      "BRENO\n",
      "breno\n",
      "Breno\n"
     ]
    }
   ],
   "source": [
    "name = \"breNO\"\n",
    "print(name.upper())\n",
    "print(name.lower())\n",
    "print(name.title())"
   ]
  },
  {
   "cell_type": "markdown",
   "metadata": {},
   "source": [
    "**Split**"
   ]
  },
  {
   "cell_type": "code",
   "execution_count": 15,
   "metadata": {},
   "outputs": [
    {
     "name": "stdout",
     "output_type": "stream",
     "text": [
      "['1991', '1993']\n"
     ]
    }
   ],
   "source": [
    "three_peat = \"1991-1993\"\n",
    "print(three_peat.split(\"-\"))"
   ]
  },
  {
   "cell_type": "markdown",
   "metadata": {},
   "source": [
    "**String Join**"
   ]
  },
  {
   "cell_type": "code",
   "execution_count": null,
   "metadata": {},
   "outputs": [],
   "source": [
    "str.join(iterable)"
   ]
  },
  {
   "cell_type": "code",
   "execution_count": 23,
   "metadata": {},
   "outputs": [
    {
     "name": "stdout",
     "output_type": "stream",
     "text": [
      "Basicc list print:  ['1pm', '2pm', '3pm', '5pm']\n",
      "\n",
      "Basic join use into a list:  1pm, 2pm, 3pm, 5pm\n",
      "\n",
      "Today you have meetings at:\n",
      "- 1pm\n",
      "- 2pm\n",
      "- 3pm\n",
      "- 5pm\n"
     ]
    }
   ],
   "source": [
    "meetings = [\"1pm\", \"2pm\", \"3pm\", \"5pm\"]\n",
    "print(\"Basicc list print: \", meetings)\n",
    "\n",
    "meetings_string = \", \".join(meetings)\n",
    "print(\"\\nBasic join use into a list: \", meetings_string)\n",
    "\n",
    "\n",
    "output = \"\\nToday you have meetings at:\\n-\"\n",
    "meetings_bullets =  \"\\n- \".join(meetings)\n",
    "print(output,meetings_bullets)\n"
   ]
  },
  {
   "cell_type": "markdown",
   "metadata": {},
   "source": [
    "**Format** - Meant to avoid typeerror"
   ]
  },
  {
   "cell_type": "code",
   "execution_count": 24,
   "metadata": {},
   "outputs": [
    {
     "name": "stdout",
     "output_type": "stream",
     "text": [
      "My friend Keli's favorite number is 21\n"
     ]
    }
   ],
   "source": [
    "name = \"Keli\"\n",
    "favorite_number = 21\n",
    "\n",
    "output = \"My friend {}'s favorite number is {}\".format(name, favorite_number)\n",
    "print(output)"
   ]
  },
  {
   "cell_type": "code",
   "execution_count": 25,
   "metadata": {},
   "outputs": [
    {
     "name": "stdout",
     "output_type": "stream",
     "text": [
      "I own 32.5548651132% of the company\n"
     ]
    }
   ],
   "source": [
    "num = 32.5548651132\n",
    "print(\"I own {}% of the company\".format(num))"
   ]
  },
  {
   "cell_type": "code",
   "execution_count": 26,
   "metadata": {},
   "outputs": [
    {
     "name": "stdout",
     "output_type": "stream",
     "text": [
      "I own 32.55% of the company\n"
     ]
    }
   ],
   "source": [
    "print(\"I own {:.2f}% of the company\".format(num))"
   ]
  },
  {
   "cell_type": "code",
   "execution_count": 27,
   "metadata": {},
   "outputs": [
    {
     "name": "stdout",
     "output_type": "stream",
     "text": [
      "I own 33% of the company\n"
     ]
    }
   ],
   "source": [
    "print(\"I own {:.0f}% of the company\".format(num))"
   ]
  },
  {
   "cell_type": "code",
   "execution_count": 29,
   "metadata": {},
   "outputs": [
    {
     "name": "stdout",
     "output_type": "stream",
     "text": [
      "I own 60.1000% of the company\n"
     ]
    }
   ],
   "source": [
    "print(\"I own {:.4f}% of the company\".format(60.1))"
   ]
  },
  {
   "cell_type": "code",
   "execution_count": 30,
   "metadata": {},
   "outputs": [
    {
     "name": "stdout",
     "output_type": "stream",
     "text": [
      "The approximate population of India is 1,324,000,000\n"
     ]
    }
   ],
   "source": [
    "print(\"The approximate population of India is {:,}\".format(1324000000))"
   ]
  },
  {
   "cell_type": "code",
   "execution_count": 31,
   "metadata": {},
   "outputs": [
    {
     "name": "stdout",
     "output_type": "stream",
     "text": [
      "Your bank balance is $12,345.68\n"
     ]
    }
   ],
   "source": [
    "print(\"Your bank balance is ${:,.2f}\".format(12345.678))"
   ]
  },
  {
   "cell_type": "code",
   "execution_count": 32,
   "metadata": {},
   "outputs": [
    {
     "name": "stdout",
     "output_type": "stream",
     "text": [
      "| MY_VALUE             |\n",
      "|       MY_VALUE       |\n",
      "|             MY_VALUE |\n"
     ]
    }
   ],
   "source": [
    "print(\"| {:<20} |\".format(\"MY_VALUE\"))\n",
    "print(\"| {:^20} |\".format(\"MY_VALUE\"))\n",
    "print(\"| {:>20} |\".format(\"MY_VALUE\"))"
   ]
  },
  {
   "cell_type": "code",
   "execution_count": 33,
   "metadata": {},
   "outputs": [
    {
     "name": "stdout",
     "output_type": "stream",
     "text": [
      "|  12,345.00\n",
      "|       12,345.00\n",
      "|            12,345.00\n"
     ]
    }
   ],
   "source": [
    "for width in [10, 15, 20]:\n",
    "    print(\"| {:>{},.2f}\".format(12345, width))"
   ]
  },
  {
   "cell_type": "markdown",
   "metadata": {},
   "source": [
    "### When handling exceptions we can use try/except, for exceptions like:\n",
    "* ValueError\n",
    "* IndexError\n",
    "* IndentationError\n",
    "* SyntaxError\n",
    "* TypeError"
   ]
  },
  {
   "cell_type": "code",
   "execution_count": 11,
   "metadata": {},
   "outputs": [
    {
     "name": "stdout",
     "output_type": "stream",
     "text": [
      "[1, 2, 'invalid', 4]\n"
     ]
    }
   ],
   "source": [
    "def convert_to_int(n):\n",
    "    return int(n)\n",
    "\n",
    "num_strings = [\"1\", \"2\", \"\", \"4\"]\n",
    "num_ints = []\n",
    "\n",
    "for n in num_strings:\n",
    "    try:\n",
    "        n_int = convert_to_int(n)\n",
    "    except:\n",
    "        n_int = \"invalid\"\n",
    "    num_ints.append(n_int)\n",
    "\n",
    "print(num_ints)"
   ]
  },
  {
   "cell_type": "markdown",
   "metadata": {},
   "source": [
    "<img src=\"https://s3.amazonaws.com/dq-content/351/try_except_2.svg\" alt=\"Drawing\" style=\"width:500px\"/>"
   ]
  },
  {
   "cell_type": "markdown",
   "metadata": {},
   "source": [
    "### Except alone will catch all exceptions, this might be a bad idea. So there is a option to specify which exception we want to catch by naming it in front of 'except'"
   ]
  },
  {
   "cell_type": "code",
   "execution_count": 13,
   "metadata": {},
   "outputs": [
    {
     "name": "stdout",
     "output_type": "stream",
     "text": [
      "[1, 2, 'invalid', 4]\n"
     ]
    }
   ],
   "source": [
    "num_ints = []\n",
    "for n in num_strings:\n",
    "    try:\n",
    "        n_int = convert_to_int(n)\n",
    "    # we've added `ValueError` to the line below\n",
    "    except ValueError:\n",
    "        n_int = \"invalid\"\n",
    "    num_ints.append(n_int)\n",
    "print(num_ints)"
   ]
  },
  {
   "cell_type": "code",
   "execution_count": null,
   "metadata": {},
   "outputs": [],
   "source": []
  },
  {
   "cell_type": "code",
   "execution_count": null,
   "metadata": {},
   "outputs": [],
   "source": []
  },
  {
   "cell_type": "code",
   "execution_count": null,
   "metadata": {},
   "outputs": [],
   "source": []
  },
  {
   "cell_type": "code",
   "execution_count": null,
   "metadata": {},
   "outputs": [],
   "source": []
  },
  {
   "cell_type": "code",
   "execution_count": null,
   "metadata": {},
   "outputs": [],
   "source": []
  },
  {
   "cell_type": "code",
   "execution_count": null,
   "metadata": {},
   "outputs": [],
   "source": []
  },
  {
   "cell_type": "code",
   "execution_count": null,
   "metadata": {},
   "outputs": [],
   "source": []
  },
  {
   "cell_type": "code",
   "execution_count": 2,
   "metadata": {},
   "outputs": [
    {
     "ename": "SyntaxError",
     "evalue": "invalid syntax (<ipython-input-2-71bff2942215>, line 6)",
     "output_type": "error",
     "traceback": [
      "\u001b[1;36m  File \u001b[1;32m\"<ipython-input-2-71bff2942215>\"\u001b[1;36m, line \u001b[1;32m6\u001b[0m\n\u001b[1;33m    artwork_dataset = [1:]\u001b[0m\n\u001b[1;37m                        ^\u001b[0m\n\u001b[1;31mSyntaxError\u001b[0m\u001b[1;31m:\u001b[0m invalid syntax\n"
     ]
    }
   ],
   "source": [
    "import csv\n",
    "csv_file = open(\"artwork.csv\")\n",
    "complete_list = list(csv.reader(csv_file))\n",
    "\n",
    "artwork_header = [0]\n",
    "artwork_dataset = [1:]\n",
    "\n",
    "print(artwork_header)"
   ]
  },
  {
   "cell_type": "code",
   "execution_count": 3,
   "metadata": {},
   "outputs": [],
   "source": [
    "from csv import reader\n",
    "#____Basic CSV Open Function____\n",
    "def csv_to_list(file_name, encode=None):\n",
    "    if encode ==\"utf8\":\n",
    "        csv_file = open(file_name, encoding=\"utf8\")\n",
    "        reade_file = reader(csv_file)\n",
    "        new_list = list(reade_file)\n",
    "        list_header = new_list[0]\n",
    "        list_body = new_list[1:]\n",
    "        return list_header, list_body\n",
    "    elif encode ==\"Latin-1\":\n",
    "        csv_file = open(file_name, encoding=\"latin-1\")\n",
    "        reade_file = reader(csv_file)\n",
    "        new_list = list(reade_file)\n",
    "        list_header = new_list[0]\n",
    "        list_body = new_list[1:]\n",
    "        return list_header, list_body\n",
    "    else:\n",
    "        csv_file = open(file_name)\n",
    "        reade_file = reader(csv_file)\n",
    "        new_list = list(reade_file)\n",
    "        list_header = new_list[0]\n",
    "        list_body = new_list[1:]\n",
    "        return list_header, list_body        \n",
    "    "
   ]
  },
  {
   "cell_type": "code",
   "execution_count": 5,
   "metadata": {},
   "outputs": [
    {
     "name": "stdout",
     "output_type": "stream",
     "text": [
      "['Title', 'Artist', 'ConstituentID', 'ArtistBio', 'Nationality', 'BeginDate', 'EndDate', 'Gender', 'Date', 'Medium', 'Dimensions', 'CreditLine', 'AccessionNumber', 'Classification', 'Department', 'DateAcquired', 'Cataloged', 'ObjectID', 'URL', 'ThumbnailURL', 'Circumference (cm)', 'Depth (cm)', 'Diameter (cm)', 'Height (cm)', 'Length (cm)', 'Weight (kg)', 'Width (cm)', 'Seat Height (cm)', 'Duration (sec.)']\n",
      "\n",
      " ['\"City of Music, National Superior Conservatory of Music and Dance, Paris, France, View from interior courtyard\",Christian de Portzamparc,7470,\"(French, born 1944)\",(French),(1944),(0),(Male),1987,Paint and colored pencil on print,\"16 x 11 3/4\"\" (40.6 x 29.8 cm)\",Gift of the architect in honor of Lily Auchincloss,1.1995,Architecture,Architecture & Design,1995-01-17,Y,3,http://www.moma.org/collection/works/3,http://www.moma.org/media/W1siZiIsIjk3Il0sWyJwIiwiY29udmVydCIsIi1yZXNpemUgMzAweDMwMFx1MDAzZSJdXQ.jpg?sha=55b65fa4368fe00a,,,,40.6401,,,29.8451,,']\n"
     ]
    }
   ],
   "source": [
    "artwork = \"artwork.csv\"\n",
    "artwork_header, artwork_body = csv_to_list(artwork)\n"
   ]
  },
  {
   "cell_type": "code",
   "execution_count": 6,
   "metadata": {},
   "outputs": [
    {
     "name": "stdout",
     "output_type": "stream",
     "text": [
      "['Title', 'Artist', 'ConstituentID', 'ArtistBio', 'Nationality', 'BeginDate', 'EndDate', 'Gender', 'Date', 'Medium', 'Dimensions', 'CreditLine', 'AccessionNumber', 'Classification', 'Department', 'DateAcquired', 'Cataloged', 'ObjectID', 'URL', 'ThumbnailURL', 'Circumference (cm)', 'Depth (cm)', 'Diameter (cm)', 'Height (cm)', 'Length (cm)', 'Weight (kg)', 'Width (cm)', 'Seat Height (cm)', 'Duration (sec.)']\n",
      "\n",
      " [['\"City of Music, National Superior Conservatory of Music and Dance, Paris, France, View from interior courtyard\",Christian de Portzamparc,7470,\"(French, born 1944)\",(French),(1944),(0),(Male),1987,Paint and colored pencil on print,\"16 x 11 3/4\"\" (40.6 x 29.8 cm)\",Gift of the architect in honor of Lily Auchincloss,1.1995,Architecture,Architecture & Design,1995-01-17,Y,3,http://www.moma.org/collection/works/3,http://www.moma.org/media/W1siZiIsIjk3Il0sWyJwIiwiY29udmVydCIsIi1yZXNpemUgMzAweDMwMFx1MDAzZSJdXQ.jpg?sha=55b65fa4368fe00a,,,,40.6401,,,29.8451,,'], ['\"Villa near Vienna Project, Outside Vienna, Austria, Elevation\",Emil Hoppe,7605,\"(Austrian, 1876–1957)\",(Austrian),(1876),(1957),(Male),1903,\"Graphite, pen, color pencil, ink, and gouache on tracing paper\",\"13 1/2 x 12 1/2\"\" (34.3 x 31.8 cm)\",Gift of Jo Carole and Ronald S. Lauder,1.1997,Architecture,Architecture & Design,1997-01-15,Y,4,http://www.moma.org/collection/works/4,http://www.moma.org/media/W1siZiIsIjk4Il0sWyJwIiwiY29udmVydCIsIi1yZXNpemUgMzAweDMwMFx1MDAzZSJdXQ.jpg?sha=fdcfca4db3acac1f,,,,34.3,,,31.8,,']]\n"
     ]
    }
   ],
   "source": [
    "print(artwork_header)\n",
    "print(\"\\n\", artwork_body[1:3])"
   ]
  },
  {
   "cell_type": "code",
   "execution_count": null,
   "metadata": {},
   "outputs": [],
   "source": []
  }
 ],
 "metadata": {
  "kernelspec": {
   "display_name": "Python 3",
   "language": "python",
   "name": "python3"
  },
  "language_info": {
   "codemirror_mode": {
    "name": "ipython",
    "version": 3
   },
   "file_extension": ".py",
   "mimetype": "text/x-python",
   "name": "python",
   "nbconvert_exporter": "python",
   "pygments_lexer": "ipython3",
   "version": "3.7.0"
  }
 },
 "nbformat": 4,
 "nbformat_minor": 2
}
