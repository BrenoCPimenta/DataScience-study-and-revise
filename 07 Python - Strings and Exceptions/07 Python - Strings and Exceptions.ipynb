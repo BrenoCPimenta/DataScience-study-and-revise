{
 "cells": [
  {
   "cell_type": "markdown",
   "metadata": {},
   "source": [
    "# Python Strings and Exceptions"
   ]
  },
  {
   "cell_type": "markdown",
   "metadata": {},
   "source": [
    "This notebook corresponds to mission 07 of [dataquest](https://www.dataquest.io)."
   ]
  },
  {
   "cell_type": "markdown",
   "metadata": {},
   "source": [
    "**Summary:**\n",
    "* Upper, lower, tittle, replace, split & join\n",
    "* Format print\n",
    "* Try/Except"
   ]
  },
  {
   "cell_type": "markdown",
   "metadata": {},
   "source": [
    "---"
   ]
  },
  {
   "cell_type": "markdown",
   "metadata": {},
   "source": [
    "## Strings Manipulation:"
   ]
  },
  {
   "cell_type": "markdown",
   "metadata": {},
   "source": [
    "**Replace**"
   ]
  },
  {
   "cell_type": "code",
   "execution_count": 1,
   "metadata": {},
   "outputs": [
    {
     "name": "stdout",
     "output_type": "stream",
     "text": [
      "This is my friend Suzi. Suzi and I like to play video games\n"
     ]
    }
   ],
   "source": [
    "first_str= \"This is my friend Suzanne. Suzanne and I like to play video games\"\n",
    "print(first_str.replace(\"Suzanne\", \"Suzi\"))"
   ]
  },
  {
   "cell_type": "markdown",
   "metadata": {},
   "source": [
    "**Upper - Lower - Title**"
   ]
  },
  {
   "cell_type": "code",
   "execution_count": 2,
   "metadata": {},
   "outputs": [
    {
     "name": "stdout",
     "output_type": "stream",
     "text": [
      "BRENO\n",
      "breno\n",
      "Breno\n"
     ]
    }
   ],
   "source": [
    "name = \"breNO\"\n",
    "print(name.upper())\n",
    "print(name.lower())\n",
    "print(name.title())"
   ]
  },
  {
   "cell_type": "markdown",
   "metadata": {},
   "source": [
    "**Split**"
   ]
  },
  {
   "cell_type": "code",
   "execution_count": 3,
   "metadata": {},
   "outputs": [
    {
     "name": "stdout",
     "output_type": "stream",
     "text": [
      "['1991', '1993']\n"
     ]
    }
   ],
   "source": [
    "three_peat = \"1991-1993\"\n",
    "print(three_peat.split(\"-\"))"
   ]
  },
  {
   "cell_type": "markdown",
   "metadata": {},
   "source": [
    "**String Join**"
   ]
  },
  {
   "cell_type": "code",
   "execution_count": 4,
   "metadata": {},
   "outputs": [],
   "source": [
    "#str.join(iterable)"
   ]
  },
  {
   "cell_type": "code",
   "execution_count": 5,
   "metadata": {},
   "outputs": [
    {
     "name": "stdout",
     "output_type": "stream",
     "text": [
      "Basicc list print:  ['1pm', '2pm', '3pm', '5pm']\n",
      "\n",
      "Basic join use into a list:  1pm, 2pm, 3pm, 5pm\n",
      "\n",
      "Today you have meetings at:\n",
      "- 1pm\n",
      "- 2pm\n",
      "- 3pm\n",
      "- 5pm\n"
     ]
    }
   ],
   "source": [
    "meetings = [\"1pm\", \"2pm\", \"3pm\", \"5pm\"]\n",
    "print(\"Basicc list print: \", meetings)\n",
    "\n",
    "meetings_string = \", \".join(meetings)\n",
    "print(\"\\nBasic join use into a list: \", meetings_string)\n",
    "\n",
    "\n",
    "output = \"\\nToday you have meetings at:\\n-\"\n",
    "meetings_bullets =  \"\\n- \".join(meetings)\n",
    "print(output,meetings_bullets)\n"
   ]
  },
  {
   "cell_type": "markdown",
   "metadata": {},
   "source": [
    "**Format** - Meant to avoid typeerror"
   ]
  },
  {
   "cell_type": "code",
   "execution_count": 6,
   "metadata": {},
   "outputs": [
    {
     "name": "stdout",
     "output_type": "stream",
     "text": [
      "My friend Keli's favorite number is 21\n"
     ]
    }
   ],
   "source": [
    "name = \"Keli\"\n",
    "favorite_number = 21\n",
    "\n",
    "output = \"My friend {}'s favorite number is {}\".format(name, favorite_number)\n",
    "print(output)"
   ]
  },
  {
   "cell_type": "code",
   "execution_count": 7,
   "metadata": {},
   "outputs": [
    {
     "name": "stdout",
     "output_type": "stream",
     "text": [
      "I own 32.5548651132% of the company\n"
     ]
    }
   ],
   "source": [
    "num = 32.5548651132\n",
    "print(\"I own {}% of the company\".format(num))"
   ]
  },
  {
   "cell_type": "code",
   "execution_count": 8,
   "metadata": {},
   "outputs": [
    {
     "name": "stdout",
     "output_type": "stream",
     "text": [
      "I own 32.55% of the company\n"
     ]
    }
   ],
   "source": [
    "print(\"I own {:.2f}% of the company\".format(num))"
   ]
  },
  {
   "cell_type": "code",
   "execution_count": 9,
   "metadata": {},
   "outputs": [
    {
     "name": "stdout",
     "output_type": "stream",
     "text": [
      "I own 33% of the company\n"
     ]
    }
   ],
   "source": [
    "print(\"I own {:.0f}% of the company\".format(num))"
   ]
  },
  {
   "cell_type": "code",
   "execution_count": 10,
   "metadata": {},
   "outputs": [
    {
     "name": "stdout",
     "output_type": "stream",
     "text": [
      "I own 60.1000% of the company\n"
     ]
    }
   ],
   "source": [
    "print(\"I own {:.4f}% of the company\".format(60.1))"
   ]
  },
  {
   "cell_type": "code",
   "execution_count": 11,
   "metadata": {},
   "outputs": [
    {
     "name": "stdout",
     "output_type": "stream",
     "text": [
      "The approximate population of India is 1,324,000,000\n"
     ]
    }
   ],
   "source": [
    "print(\"The approximate population of India is {:,}\".format(1324000000))"
   ]
  },
  {
   "cell_type": "code",
   "execution_count": 12,
   "metadata": {},
   "outputs": [
    {
     "name": "stdout",
     "output_type": "stream",
     "text": [
      "Your bank balance is $12,345.68\n"
     ]
    }
   ],
   "source": [
    "print(\"Your bank balance is ${:,.2f}\".format(12345.678))"
   ]
  },
  {
   "cell_type": "code",
   "execution_count": 13,
   "metadata": {},
   "outputs": [
    {
     "name": "stdout",
     "output_type": "stream",
     "text": [
      "| MY_VALUE             |\n",
      "|       MY_VALUE       |\n",
      "|             MY_VALUE |\n"
     ]
    }
   ],
   "source": [
    "print(\"| {:<20} |\".format(\"MY_VALUE\"))\n",
    "print(\"| {:^20} |\".format(\"MY_VALUE\"))\n",
    "print(\"| {:>20} |\".format(\"MY_VALUE\"))"
   ]
  },
  {
   "cell_type": "code",
   "execution_count": 14,
   "metadata": {},
   "outputs": [
    {
     "name": "stdout",
     "output_type": "stream",
     "text": [
      "|  12,345.00\n",
      "|       12,345.00\n",
      "|            12,345.00\n"
     ]
    }
   ],
   "source": [
    "for width in [10, 15, 20]:\n",
    "    print(\"| {:>{},.2f}\".format(12345, width))"
   ]
  },
  {
   "cell_type": "markdown",
   "metadata": {},
   "source": [
    "### When handling exceptions we can use try/except, for exceptions like:\n",
    "* ValueError\n",
    "* IndexError\n",
    "* IndentationError\n",
    "* SyntaxError\n",
    "* TypeError"
   ]
  },
  {
   "cell_type": "code",
   "execution_count": 15,
   "metadata": {},
   "outputs": [
    {
     "name": "stdout",
     "output_type": "stream",
     "text": [
      "[1, 2, 'invalid', 4]\n"
     ]
    }
   ],
   "source": [
    "def convert_to_int(n):\n",
    "    return int(n)\n",
    "\n",
    "num_strings = [\"1\", \"2\", \"\", \"4\"]\n",
    "num_ints = []\n",
    "\n",
    "for n in num_strings:\n",
    "    try:\n",
    "        n_int = convert_to_int(n)\n",
    "    except:\n",
    "        n_int = \"invalid\"\n",
    "    num_ints.append(n_int)\n",
    "\n",
    "print(num_ints)"
   ]
  },
  {
   "cell_type": "markdown",
   "metadata": {},
   "source": [
    "<img src=\"https://s3.amazonaws.com/dq-content/351/try_except_2.svg\" alt=\"Drawing\" style=\"width:500px\"/>"
   ]
  },
  {
   "cell_type": "markdown",
   "metadata": {},
   "source": [
    "### Except alone will catch all exceptions, this might be a bad idea. So there is a option to specify which exception we want to catch by naming it in front of 'except'"
   ]
  },
  {
   "cell_type": "code",
   "execution_count": 16,
   "metadata": {},
   "outputs": [
    {
     "name": "stdout",
     "output_type": "stream",
     "text": [
      "[1, 2, 'invalid', 4]\n"
     ]
    }
   ],
   "source": [
    "num_ints = []\n",
    "for n in num_strings:\n",
    "    try:\n",
    "        n_int = convert_to_int(n)\n",
    "    # we've added `ValueError` to the line below\n",
    "    except ValueError:\n",
    "        n_int = \"invalid\"\n",
    "    num_ints.append(n_int)\n",
    "print(num_ints)"
   ]
  }
 ],
 "metadata": {
  "kernelspec": {
   "display_name": "Python 3",
   "language": "python",
   "name": "python3"
  },
  "language_info": {
   "codemirror_mode": {
    "name": "ipython",
    "version": 3
   },
   "file_extension": ".py",
   "mimetype": "text/x-python",
   "name": "python",
   "nbconvert_exporter": "python",
   "pygments_lexer": "ipython3",
   "version": "3.7.0"
  }
 },
 "nbformat": 4,
 "nbformat_minor": 2
}
