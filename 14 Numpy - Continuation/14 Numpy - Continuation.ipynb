{
 "cells": [
  {
   "cell_type": "markdown",
   "metadata": {},
   "source": [
    "# Numpy continuation"
   ]
  },
  {
   "cell_type": "markdown",
   "metadata": {},
   "source": [
    "This notebook corresponds to mission 14 of [dataquest](https://www.dataquest.io)"
   ]
  },
  {
   "cell_type": "markdown",
   "metadata": {},
   "source": [
    "**Summary:**\n",
    "* Importing files with Numpy\n",
    "* Working with Boolean Vectors and good practicies with it\n",
    "* Some Shortcuts to work with arrays elements substitutions"
   ]
  },
  {
   "cell_type": "markdown",
   "metadata": {},
   "source": [
    "----"
   ]
  },
  {
   "cell_type": "code",
   "execution_count": 1,
   "metadata": {},
   "outputs": [],
   "source": [
    "import numpy as np"
   ]
  },
  {
   "cell_type": "markdown",
   "metadata": {},
   "source": [
    "### Importing Files with Numpy\n",
    "**numpy.genfromtxt()**\n",
    "[documentation](https://docs.scipy.org/doc/numpy-1.14.2/reference/generated/numpy.genfromtxt.html#numpy.genfromtxt)<br>\n",
    "There is a parameter called 'skip_header', which has a pattern value of 0, but if you pass 1 it deletes the first row, but in the example below we won't do it, so we can see what happens to string values when passed to genfromtxt()"
   ]
  },
  {
   "cell_type": "code",
   "execution_count": 2,
   "metadata": {},
   "outputs": [
    {
     "name": "stdout",
     "output_type": "stream",
     "text": [
      "[nan nan nan nan nan nan nan nan nan nan nan nan nan nan nan]\n"
     ]
    }
   ],
   "source": [
    "#The most used paramter is 'delimiter', which determinates how we separate elements from the file\n",
    "taxi = np.genfromtxt('../13 Numpy - Introduction/taxi_nyc_copied.csv', delimiter=',')\n",
    "print(taxi[0])\n",
    "taxi = taxi[1:]"
   ]
  },
  {
   "cell_type": "markdown",
   "metadata": {},
   "source": [
    "NaN = Non numerical, which is expected since the header elements are probably strings who describes the columns.<br>\n",
    "It's similar to [None](https://docs.python.org/3.4/library/constants.html#None)"
   ]
  },
  {
   "cell_type": "code",
   "execution_count": 3,
   "metadata": {},
   "outputs": [
    {
     "name": "stdout",
     "output_type": "stream",
     "text": [
      "float64\n"
     ]
    }
   ],
   "source": [
    "print(taxi.dtype)"
   ]
  },
  {
   "cell_type": "markdown",
   "metadata": {},
   "source": [
    "# Boolean arrays"
   ]
  },
  {
   "cell_type": "markdown",
   "metadata": {},
   "source": [
    "**Introduction concepts:**"
   ]
  },
  {
   "cell_type": "code",
   "execution_count": 4,
   "metadata": {},
   "outputs": [
    {
     "name": "stdout",
     "output_type": "stream",
     "text": [
      "<class 'bool'>\n",
      "[11 12 13 14]\n",
      "[ True  True False]\n"
     ]
    }
   ],
   "source": [
    "#Boolean type in Phyton\n",
    "a=True\n",
    "print(type(a))\n",
    "\n",
    "#Vector maph\n",
    "print(np.array([1,2,3,4])+10)\n",
    "\n",
    "#Boolean Vector\n",
    "print(np.array([1,5,8])<6)"
   ]
  },
  {
   "cell_type": "markdown",
   "metadata": {},
   "source": [
    "Some examples:"
   ]
  },
  {
   "cell_type": "code",
   "execution_count": 5,
   "metadata": {},
   "outputs": [
    {
     "name": "stdout",
     "output_type": "stream",
     "text": [
      "[ True  True False False False]\n",
      "[ True  True False  True]\n",
      "[False  True False  True]\n"
     ]
    }
   ],
   "source": [
    "a = np.array([1, 2, 3, 4, 5])\n",
    "a_bool = a<3\n",
    "print(a_bool)\n",
    "\n",
    "b = np.array([\"blue\", \"blue\", \"red\", \"blue\"])\n",
    "b_bool= b == \"blue\"\n",
    "print(b_bool)\n",
    "\n",
    "c = np.array([80.0, 103.4, 96.9, 200.3])\n",
    "c_bool = c>100\n",
    "print(c_bool)"
   ]
  },
  {
   "cell_type": "markdown",
   "metadata": {},
   "source": [
    "**In practice:**"
   ]
  },
  {
   "cell_type": "markdown",
   "metadata": {},
   "source": [
    "The second column in the taxi dataset is pickup_month.<br>\n",
    "Lets use a boolean array to calculate how many rides were given in January."
   ]
  },
  {
   "cell_type": "code",
   "execution_count": 6,
   "metadata": {},
   "outputs": [
    {
     "name": "stdout",
     "output_type": "stream",
     "text": [
      "(13481,)\n",
      "\n",
      "<class 'tuple'>\n",
      "<class 'int'>\n",
      "13481\n"
     ]
    }
   ],
   "source": [
    "#Separating the pickup months form the rest of the data\n",
    "pickup_month = taxi[:,1]\n",
    "\n",
    "#Creating a boolean array where the month matchs January\n",
    "january_bool = pickup_month == 1\n",
    "\n",
    "#Then we use the new boolean array to select only the items from pickup_month that have a value of 1:\n",
    "january_rides = pickup_month[january_bool]\n",
    "\n",
    "#Finally, we use the .shape attribute to find out how many items are in our january ndarray which is the number of taxi rides in our data set from the month of January. We'll use [0] to extract the value from the tuple returned by .shape\n",
    "print(january_rides.shape)\n",
    "\n",
    "#Returning as a number\n",
    "print()\n",
    "print(type(january_rides.shape)) #Showing that when use only shape it returns a tuple\n",
    "print(type(january_rides.shape[0])) #But if we index the right number, it returns our number as a int\n",
    "\n",
    "january = january_rides.shape[0]\n",
    "print(january)"
   ]
  },
  {
   "cell_type": "markdown",
   "metadata": {},
   "source": [
    "**Understandig boolean vectors in diferent dimensions:**"
   ]
  },
  {
   "cell_type": "markdown",
   "metadata": {},
   "source": [
    "<img src=\"bool_dims.svg\" style=\"width:500px\" />"
   ]
  },
  {
   "cell_type": "markdown",
   "metadata": {},
   "source": [
    "Example:<br>\n",
    "Lets suppose we want the columns of rows that have more than 50 trip amounts<br>\n",
    "5:14 -> pickup_location_code, dropoff_location_code, trip_distance, trip_length, fare_amount, fees_amount, tolls_amount, tip_amount, and total_amount."
   ]
  },
  {
   "cell_type": "code",
   "execution_count": 7,
   "metadata": {},
   "outputs": [],
   "source": [
    "trip_amount = taxi[:,12]\n",
    "trip_bool = trip_amount>50\n",
    "top_trips = taxi[trip_bool, 5:14]\n"
   ]
  },
  {
   "cell_type": "markdown",
   "metadata": {},
   "source": [
    "**Using index to modify more than one element at a time:**"
   ]
  },
  {
   "cell_type": "code",
   "execution_count": 8,
   "metadata": {},
   "outputs": [
    {
     "name": "stdout",
     "output_type": "stream",
     "text": [
      "16.0 16.0\n"
     ]
    }
   ],
   "source": [
    "#Lets create a modify taxi, so we dont mosdify our data\n",
    "modified_taxi = taxi.copy()\n",
    "\n",
    "#The first column (index 0) contains year values as four digit numbers in the format YYYY (2016, since all trips in our data set are from 2016). Use assignment to change these values to the YY format (16) in the taxi_modified ndarray.\n",
    "modified_taxi[:,0]=16\n",
    "print(modified_taxi[190][0], modified_taxi[18][0])\n",
    "\n",
    "#Now the most insteresting one:\n",
    "#Lets suppose in lines 1800 and 1801 the trip_distance(index=7) is wrong.\n",
    "#But the rest of the row is some important data\n",
    "#The simplest/best way to deal with it is to get the mean of this entire column and put it in those rows,\n",
    "#so it wont affect our data\n",
    "modified_taxi[1800:1802, 7] = modified_taxi[:,7].mean()\n"
   ]
  },
  {
   "cell_type": "markdown",
   "metadata": {},
   "source": [
    "### Shortcut"
   ]
  },
  {
   "cell_type": "markdown",
   "metadata": {},
   "source": [
    "**1st Example**"
   ]
  },
  {
   "cell_type": "code",
   "execution_count": 9,
   "metadata": {},
   "outputs": [
    {
     "name": "stdout",
     "output_type": "stream",
     "text": [
      "[1 2 9 9 9]\n",
      "[1 2 9 9 9]\n"
     ]
    }
   ],
   "source": [
    "#Primary way\n",
    "a2 = np.array([1, 2, 3, 4, 5])\n",
    "a2_bool = a2 > 2\n",
    "a2[a2_bool] = 9\n",
    "print(a2)\n",
    "\n",
    "#Shortcut\n",
    "a = np.array([1, 2, 3, 4, 5])\n",
    "a[a > 2] = 9\n",
    "print(a)"
   ]
  },
  {
   "cell_type": "markdown",
   "metadata": {},
   "source": [
    "<img src=\"bool_assignment_1.svg\" style=\"width:500px\" />"
   ]
  },
  {
   "cell_type": "markdown",
   "metadata": {},
   "source": [
    "**2nd Example:**"
   ]
  },
  {
   "cell_type": "code",
   "execution_count": 10,
   "metadata": {},
   "outputs": [
    {
     "name": "stdout",
     "output_type": "stream",
     "text": [
      "[[ 1  2  3]\n",
      " [ 4 99 99]\n",
      " [99 99 99]]\n"
     ]
    }
   ],
   "source": [
    "b = np.array([[1, 2, 3],\n",
    "              [4, 5, 6],\n",
    "              [7, 8, 9]])\n",
    "\n",
    "b[b > 4] = 99\n",
    "print(b)"
   ]
  },
  {
   "cell_type": "markdown",
   "metadata": {},
   "source": [
    "<img src=\"bool_assignment_2.svg\" style=\"width:500px\" />"
   ]
  },
  {
   "cell_type": "markdown",
   "metadata": {},
   "source": [
    "**3rd Example:**"
   ]
  },
  {
   "cell_type": "code",
   "execution_count": 11,
   "metadata": {},
   "outputs": [
    {
     "name": "stdout",
     "output_type": "stream",
     "text": [
      "[[ 1  2  3]\n",
      " [ 4 99  6]\n",
      " [ 7 99  9]]\n"
     ]
    }
   ],
   "source": [
    "c = np.array([[1, 2, 3],\n",
    "              [4, 5, 6],\n",
    "              [7, 8, 9]])\n",
    "\n",
    "c[c[:,1] > 2, 1] = 99\n",
    "print(c)"
   ]
  },
  {
   "cell_type": "markdown",
   "metadata": {},
   "source": [
    "<img src=\"bool_assignment_3.svg\" style=\"width:500px\" />"
   ]
  },
  {
   "cell_type": "markdown",
   "metadata": {},
   "source": [
    "The Pattern:\n",
    "* Using a Intermediate variable:<br>\n",
    "bool = array[:, column_for_comparison] == value_for_comparison<br>\n",
    "array[bool, column_for_assignment] = new_value\n",
    "<br><br>\n",
    "* all in one line:<br>\n",
    "array[array[:, column_for_comparison] == value_for_comparison, column_for_assignment] = new_value"
   ]
  },
  {
   "cell_type": "markdown",
   "metadata": {},
   "source": [
    "### Back to work with our dataset"
   ]
  },
  {
   "cell_type": "markdown",
   "metadata": {},
   "source": [
    "**1st** We will try to find out which airport is the most popular destination in our data set.<br>\n",
    "It will be used \"dropoff_location_code\" which is the column with index 6.<br>\n",
    "In this column the airports are represented by a number, and this study will only work with these airports:\n",
    "* 2 - JFK Airport.\n",
    "* 3 - LaGuardia Airport.\n",
    "* 5 - Newark Airport."
   ]
  },
  {
   "cell_type": "code",
   "execution_count": 12,
   "metadata": {},
   "outputs": [
    {
     "name": "stdout",
     "output_type": "stream",
     "text": [
      "LaGuardia rides:  11832\n",
      "LaGuardia rides:  16602\n",
      "Newark rides:  63\n"
     ]
    }
   ],
   "source": [
    "#Lets count first JFK\n",
    "taxi_jfk_bool = np.array(taxi[:,6]==2)\n",
    "taxi_jfk = taxi[taxi_jfk_bool]\n",
    "jfk_cnt = len((taxi_jfk))\n",
    "#Resumed code above >>>print(len(taxi[np.array(taxi[:,6] == 2)]))\n",
    "\n",
    "#Now LaGuardia\n",
    "taxi_laGuardia_bool = np.array(taxi[:,6]==3)\n",
    "taxi_laGuardia = taxi[taxi_laGuardia_bool]\n",
    "laGuardia_cnt = len((taxi_laGuardia))\n",
    "\n",
    "#And now Newark\n",
    "taxi_newark_bool = np.array(taxi[:,6]==5)\n",
    "taxi_newark = taxi[taxi_newark_bool]\n",
    "newark_cnt = len((taxi_newark))\n",
    "\n",
    "\n",
    "print(\"LaGuardia rides: \", jfk_cnt)\n",
    "print(\"LaGuardia rides: \", laGuardia_cnt)\n",
    "print(\"Newark rides: \", newark_cnt)"
   ]
  },
  {
   "cell_type": "markdown",
   "metadata": {},
   "source": [
    "**2nd** (Data Cleaning) Using boolean indexing to remove any rows that have an average speed for the trip greater than 100 mph (160 kph).<br>\n",
    "* trip_distance, at column index _7_\n",
    "* trip_length, at column index _8_\n",
    "* total_amount, at column index _13_"
   ]
  },
  {
   "cell_type": "code",
   "execution_count": 13,
   "metadata": {},
   "outputs": [
    {
     "name": "stdout",
     "output_type": "stream",
     "text": [
      "Mean Distance:  12.666396599932893\n",
      "Mean Length (minutes):  37.325060955150434\n",
      "Mean total_amount:  48.98131853260262\n",
      "Mean speed:  23.353238774840836\n"
     ]
    }
   ],
   "source": [
    "trip_mph = taxi[:,7] / (taxi[:,8] / 3600)\n",
    "cleaned_taxi = taxi[trip_mph < 100]\n",
    "\n",
    "mean_distance = cleaned_taxi[:,7].mean()\n",
    "mean_length = cleaned_taxi[:,8].mean()\n",
    "mean_total_amount = cleaned_taxi[:,13].mean()\n",
    "mean_mph = trip_mph[trip_mph < 100].mean()\n",
    "\n",
    "print(\"Mean Distance: \",mean_distance)\n",
    "print(\"Mean Length (minutes): \",mean_length/60)\n",
    "print(\"Mean total_amount: \", mean_total_amount)\n",
    "print(\"Mean speed: \", mean_mph)"
   ]
  }
 ],
 "metadata": {
  "kernelspec": {
   "display_name": "Python 3",
   "language": "python",
   "name": "python3"
  },
  "language_info": {
   "codemirror_mode": {
    "name": "ipython",
    "version": 3
   },
   "file_extension": ".py",
   "mimetype": "text/x-python",
   "name": "python",
   "nbconvert_exporter": "python",
   "pygments_lexer": "ipython3",
   "version": "3.7.0"
  }
 },
 "nbformat": 4,
 "nbformat_minor": 2
}
