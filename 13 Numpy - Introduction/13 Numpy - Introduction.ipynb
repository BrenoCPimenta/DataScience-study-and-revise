{
 "cells": [
  {
   "cell_type": "markdown",
   "metadata": {},
   "source": [
    "# Numpy Introduction"
   ]
  },
  {
   "cell_type": "markdown",
   "metadata": {},
   "source": [
    "This notebook corresponds to mission 13 of [dataquest](https://www.dataquest.io)."
   ]
  },
  {
   "cell_type": "markdown",
   "metadata": {},
   "source": [
    "**Summary:**\n",
    "* np.Arrays, creation and methods\n",
    "* Vector operations\n",
    "* Axis\n",
    "* OBS: timeit\n"
   ]
  },
  {
   "cell_type": "markdown",
   "metadata": {},
   "source": [
    "---"
   ]
  },
  {
   "cell_type": "code",
   "execution_count": 1,
   "metadata": {},
   "outputs": [],
   "source": [
    "import csv\n",
    "import numpy as np"
   ]
  },
  {
   "cell_type": "code",
   "execution_count": 6,
   "metadata": {},
   "outputs": [
    {
     "name": "stdout",
     "output_type": "stream",
     "text": [
      "['pickup_year', 'pickup_month', 'pickup_day', 'pickup_dayofweek', 'pickup_time', 'pickup_location_code', 'dropoff_location_code', 'trip_distance', 'trip_length', 'fare_amount', 'fees_amount', 'tolls_amount', 'tip_amount', 'total_amount', 'payment_type']\n"
     ]
    }
   ],
   "source": [
    "#Importing csv files\n",
    "csv_file = open('taxi_nyc_copied.csv')\n",
    "taxi_dataset_unformated =list(csv.reader(csv_file))\n",
    "print(\"Header elements:\\n\",taxi_dataset_unformated[0])\n",
    "taxi_dataset_unformated = taxi_dataset_unformated[1:]\n",
    "\n",
    "#Unlike with Python lists, every value in an ndarray must be of the same types. \n",
    "# ndarray = n dimensions array\n",
    "#Transforming every element of the data into float\n",
    "taxi_dataset_float = []\n",
    "for row in taxi_dataset_unformated:\n",
    "    converted_row = []\n",
    "    for element in row:\n",
    "        converted_row.append(float(element))\n",
    "                             \n",
    "    taxi_dataset_float.append(converted_row)\n",
    "    \n",
    "#Passing the data in float to a numpy array\n",
    "taxi = np.array(taxi_dataset_float)    "
   ]
  },
  {
   "cell_type": "markdown",
   "metadata": {},
   "source": [
    "**Shape method**: See how many rows and columns there is in our array"
   ]
  },
  {
   "cell_type": "code",
   "execution_count": 21,
   "metadata": {},
   "outputs": [
    {
     "name": "stdout",
     "output_type": "stream",
     "text": [
      "(89560, 15)     ->There are two numbers, which tells us that our ndarray is two-dimensional.\n",
      "\n",
      "<class 'tuple'>  ->Note: the data type returned is called a tuple. Tuples are very similar to Python lists, but are immutable                  (can't be modified). Tuples are defined and displayed using parentheses () rather than brackets [].\n"
     ]
    }
   ],
   "source": [
    "print(taxi.shape,\"    ->There are two numbers, which tells us that our ndarray is two-dimensional.\\n\")\n",
    "print(type(taxi.shape), \" ->Note: the data type returned is called a tuple. Tuples are very similar\",\n",
    "                        \"to Python lists, but are immutable                  (can't be modified). Tuples are defined and displayed using parentheses () rather than brackets [].\")"
   ]
  },
  {
   "cell_type": "markdown",
   "metadata": {},
   "source": [
    "----"
   ]
  },
  {
   "cell_type": "markdown",
   "metadata": {},
   "source": [
    "**NDARRAY advantages on selecting elements**"
   ]
  },
  {
   "cell_type": "code",
   "execution_count": 35,
   "metadata": {},
   "outputs": [
    {
     "name": "stdout",
     "output_type": "stream",
     "text": [
      "1265.0   <class 'numpy.float64'>\n",
      "1265.0   <class 'numpy.float64'>\n",
      "\n",
      "[ 1.  1.  1. ... 30. 30. 30.]\n",
      "\n",
      "[2016. 2016. 2016. 2016.]\n"
     ]
    }
   ],
   "source": [
    "print(taxi[15][8],\" \",type(taxi[15][8]))\n",
    "print(taxi[15,8],\" \",type(taxi[15,8]))\n",
    "print()\n",
    "print((taxi[:,2])) #Every 2 element of every row\n",
    "print()\n",
    "print(taxi[[0,1,3,4],0]) #Only the 0 element of the rows indicated in the brackets"
   ]
  },
  {
   "cell_type": "markdown",
   "metadata": {},
   "source": [
    "<img src=\"selection_columns.svg\" alt=\"Drawing\" style=\"width:500px\"/>"
   ]
  },
  {
   "cell_type": "markdown",
   "metadata": {},
   "source": [
    "<img src=\"selection_1darray.svg\" alt=\"Drawing\" style=\"width:500px\"/>\n"
   ]
  },
  {
   "cell_type": "markdown",
   "metadata": {},
   "source": [
    "<img src=\"selection_2darray.svg\" alt=\"Drawing\" style=\"width:500px\"/>   "
   ]
  },
  {
   "cell_type": "markdown",
   "metadata": {},
   "source": [
    "Examples:\n",
    "* every row for the columns at indexes 1, 4, and 7. -> taxi[:,[1,4,7]]\n",
    "\n",
    "* columns at indexes 5 to 8 inclusive for the row at index 99. -> taxi[99,5:9]\n",
    "\n",
    "* rows at indexes 100 to 200 inclusive for the column at index 14. -> taxi[100:201,14]"
   ]
  },
  {
   "cell_type": "markdown",
   "metadata": {},
   "source": [
    "**Vector Math**"
   ]
  },
  {
   "cell_type": "code",
   "execution_count": 40,
   "metadata": {},
   "outputs": [
    {
     "name": "stdout",
     "output_type": "stream",
     "text": [
      "[37.11340206 38.58157895 31.27222982 ... 22.29907867 42.41551247\n",
      " 36.90473407]\n"
     ]
    }
   ],
   "source": [
    "trip_distance_miles = taxi[:,7]\n",
    "trip_length_seconds = taxi[:,8]\n",
    "\n",
    "trip_length_hours = trip_length_seconds / 3600 # 3600 seconds is one hour\n",
    "trip_mph = trip_distance_miles / trip_length_hours\n",
    "\n",
    "print(trip_mph)\n",
    "\n",
    "#Another way to perform this operation is \n",
    "# >>> trip_mph_2 = np.divide(trip_distance_miles,trip_length_hours)\n",
    "#They are basicaly the same, and its better to choose the first one, because its easier to read"
   ]
  },
  {
   "cell_type": "markdown",
   "metadata": {},
   "source": [
    "**Basic Mehtods:**\n",
    "* ndarray.min() to calculate the minimum value\n",
    "* ndarray.max() to calculate the maximum value\n",
    "* ndarray.mean() to calculate the mean average value\n",
    "* ndarray.sum() to calculate the sum of the values"
   ]
  },
  {
   "cell_type": "code",
   "execution_count": 43,
   "metadata": {},
   "outputs": [
    {
     "name": "stdout",
     "output_type": "stream",
     "text": [
      "0.0\n",
      "82800.0\n",
      "32.24258580925573\n"
     ]
    }
   ],
   "source": [
    "mph_min = trip_mph.min()\n",
    "print(mph_min)\n",
    "mph_max = trip_mph.max()\n",
    "print(mph_max)\n",
    "mph_mean = trip_mph.mean()\n",
    "print(mph_mean)"
   ]
  },
  {
   "cell_type": "markdown",
   "metadata": {},
   "source": [
    "---"
   ]
  },
  {
   "cell_type": "markdown",
   "metadata": {},
   "source": [
    "**AXIS**: This parameter tells a direction\n",
    "* axis = 0  VERTICAL\n",
    "* axis = 1 HORIZONTAL"
   ]
  },
  {
   "cell_type": "markdown",
   "metadata": {},
   "source": [
    "<img src=\"axis_param.svg\" alt=\"Drawing\" style=\"width:500px\"/>"
   ]
  },
  {
   "cell_type": "code",
   "execution_count": 56,
   "metadata": {},
   "outputs": [
    {
     "name": "stdout",
     "output_type": "stream",
     "text": [
      "AXIS 0:\n",
      "|1  2|\n",
      "|⬇  ⬇|\n",
      "|3  4|\n",
      "[4 6]\n",
      "\n",
      "AXIS 1:\n",
      "|1 ➡ 2|\n",
      "|3 ➡ 4|\n",
      "[3 7]\n"
     ]
    }
   ],
   "source": [
    "twodlist = np.array([[1,2],[3,4]])\n",
    "\n",
    "print(\"AXIS 0:\")\n",
    "print(\"|1  2|\\n|⬇  ⬇|\\n|3  4|\")\n",
    "print( twodlist.sum(axis=0))\n",
    "print(\"\\nAXIS 1:\")\n",
    "print(\"|1 ➡ 2|\\n|3 ➡ 4|\")\n",
    "print(twodlist.sum(axis=1))"
   ]
  },
  {
   "cell_type": "markdown",
   "metadata": {},
   "source": [
    "**Concatenate Method**: add rows and columns to an ndarray <br>\n",
    "[documentation](https://docs.scipy.org/doc/numpy-1.14.0/reference/generated/numpy.concatenate.html)"
   ]
  },
  {
   "cell_type": "code",
   "execution_count": 67,
   "metadata": {},
   "outputs": [
    {
     "name": "stdout",
     "output_type": "stream",
     "text": [
      "[[1 2]\n",
      " [3 4]]\n",
      "\n",
      "[[1 3]\n",
      " [2 4]]\n"
     ]
    }
   ],
   "source": [
    "#First lets learn about transversal\n",
    "x =  np.array([[1, 2],[3,4]])\n",
    "print(x)\n",
    "print()\n",
    "print(x.T)"
   ]
  },
  {
   "cell_type": "code",
   "execution_count": 68,
   "metadata": {},
   "outputs": [
    {
     "name": "stdout",
     "output_type": "stream",
     "text": [
      "[[1 2]\n",
      " [3 4]\n",
      " [5 6]]\n",
      "\n",
      "[[1 2 5]\n",
      " [3 4 6]]\n"
     ]
    }
   ],
   "source": [
    "#Now how to concatenate\n",
    "a = np.array([[1, 2], [3, 4]])\n",
    "b = np.array([[5, 6]])\n",
    "print(np.concatenate((a, b), axis=0))\n",
    "print()\n",
    "print(np.concatenate((a, b.T), axis=1))\n"
   ]
  },
  {
   "cell_type": "markdown",
   "metadata": {},
   "source": [
    "---"
   ]
  },
  {
   "cell_type": "markdown",
   "metadata": {},
   "source": [
    "**Inserting a new axis**: \n",
    "np.expand_dims() <br> [ducumentation](https://docs.scipy.org/doc/numpy/reference/generated/numpy.expand_dims.html)"
   ]
  },
  {
   "cell_type": "code",
   "execution_count": 77,
   "metadata": {},
   "outputs": [
    {
     "name": "stdout",
     "output_type": "stream",
     "text": [
      "zeros shpe: (3,)\n",
      "ones shpe: (2, 3)\n",
      "\n",
      "Now we get the second dimension of zeros:  (1, 3)\n",
      "\n",
      "Combined: \n",
      " [[1 1 1]\n",
      " [1 1 1]\n",
      " [0 0 0]]\n"
     ]
    }
   ],
   "source": [
    "#Example \n",
    "ones = np.array([[ 1 , 1 , 1],[ 1 , 1 , 1]])\n",
    "zeros = np.array([0,0,0])\n",
    "\n",
    "#assuming you want to add zeros to ones as a row\n",
    "\n",
    "#The code below give us a error:\n",
    "#>>>combined = np.concatenate([ones,zeros],axis=0)\n",
    "#ERROR: all the input arrays must have same number of dimensions\n",
    "#because our dimensions don't match\n",
    "\n",
    "print(\"zeros shpe:\", zeros.shape)\n",
    "print(\"ones shpe:\", ones.shape)\n",
    "\n",
    "# Since we're using axis=0, our shapes have to match across all dimensions except the first\n",
    "#But zeros doesn't have a second dimension.\n",
    "\n",
    "#We'll start by passing axis=0 because we want to convert our 1D array into a 2D array representing a row:\n",
    "zeros_2d = np.expand_dims(zeros, axis=0)\n",
    "print(\"\\nNow we get the second dimension of zeros: \",zeros_2d.shape)\n",
    "\n",
    "#So we can use the concatanate to add them together\n",
    "combined = np.concatenate([ones,zeros_2d],axis=0)\n",
    "print(\"\\nCombined: \\n\", combined)\n",
    "\n",
    "\n",
    "\n",
    "\n"
   ]
  },
  {
   "cell_type": "code",
   "execution_count": 90,
   "metadata": {},
   "outputs": [
    {
     "name": "stdout",
     "output_type": "stream",
     "text": [
      "Mph shape:  (89560,)\n",
      "Taxi shape:  (89560, 15)\n",
      "\n",
      "2 dimensions mph:  (89560, 1)\n",
      "(89560, 16)\n"
     ]
    }
   ],
   "source": [
    "#We can add mph data to our taxi table:\n",
    "#Must be used axis = 1, since we need to add our mph data in the end of everey row, like a new column\n",
    "#But our trip_mph ndarray has only 1 dimension\n",
    "print(\"Mph shape: \", trip_mph.shape)\n",
    "print(\"Taxi shape: \", taxi.shape)\n",
    "\n",
    "trip_mph_2d = np.expand_dims(trip_mph, axis=1)\n",
    "print(\"\\n2 dimensions mph: \",trip_mph_2d.shape)\n",
    "\n",
    "#Concatenating then together\n",
    "taxi = np.concatenate((taxi, trip_mph_2d), axis = 1)\n",
    "\n",
    "print(taxi_mph.shape)\n"
   ]
  },
  {
   "cell_type": "markdown",
   "metadata": {},
   "source": [
    "---"
   ]
  },
  {
   "cell_type": "markdown",
   "metadata": {},
   "source": [
    "**Sort the Array**: np.argsrt()\n",
    "[documentation](https://docs.scipy.org/doc/numpy-1.14.0/reference/generated/numpy.argsort.html#numpy.argsort)"
   ]
  },
  {
   "cell_type": "code",
   "execution_count": 119,
   "metadata": {},
   "outputs": [
    {
     "name": "stdout",
     "output_type": "stream",
     "text": [
      "[1 0 2]\n",
      "\n",
      "Alicia\n",
      "Breno\n",
      "Clara\n"
     ]
    }
   ],
   "source": [
    "#EXAMPLE 1D array\n",
    "names = np.array(['Breno', 'Alicia', 'Clara'])\n",
    "sorted_names = np.argsort(names)\n",
    "print(sorted_names)\n",
    "\n",
    "print()\n",
    "for ind in sorted_names:\n",
    "    print(names[ind])"
   ]
  },
  {
   "cell_type": "code",
   "execution_count": 117,
   "metadata": {},
   "outputs": [
    {
     "name": "stdout",
     "output_type": "stream",
     "text": [
      "[4 5 7 5 2]\n",
      "[4 0 1 3 2]\n",
      "[2 4 5 5 7]\n",
      "\n",
      "[[5 7 1 1 2]\n",
      " [5 2 8 3 4]\n",
      " [2 8 6 2 5]\n",
      " [0 7 7 4 5]\n",
      " [1 6 2 7 7]]\n"
     ]
    }
   ],
   "source": [
    "#EXAMPLE in 2D arrays\n",
    "int_square = np.array([[5 ,2, 8, 3, 4]\n",
    ",[2, 8, 6, 2, 5]\n",
    ",[1, 6, 2, 7, 7]\n",
    ",[0, 7, 7, 4, 5]\n",
    ",[5, 7, 1, 1, 2]])\n",
    "\n",
    "#Separating the last column\n",
    "last_column = int_square[:,4]\n",
    "print(last_column)\n",
    "\n",
    "#Sorting the last columns index\n",
    "sorted_order = np.argsort(last_column)\n",
    "print(sorted_order)\n",
    "\n",
    "#Sorting the last column values\n",
    "last_column_sorted = last_column[sorted_order]\n",
    "print(last_column_sorted)\n",
    "\n",
    "#Sorting the entire array by using the recent sorted column\n",
    "print()\n",
    "int_square_sorted = int_square[sorted_order]\n",
    "print(int_square_sorted)"
   ]
  },
  {
   "cell_type": "code",
   "execution_count": 120,
   "metadata": {},
   "outputs": [
    {
     "name": "stdout",
     "output_type": "stream",
     "text": [
      "[[2.016e+03 6.000e+00 2.800e+01 ... 7.000e+01 1.000e+00 0.000e+00]\n",
      " [2.016e+03 3.000e+00 3.000e+00 ... 6.230e+01 1.000e+00 0.000e+00]\n",
      " [2.016e+03 4.000e+00 6.000e+00 ... 3.300e+00 4.000e+00 0.000e+00]\n",
      " ...\n",
      " [2.016e+03 3.000e+00 2.800e+01 ... 4.300e+00 2.000e+00 3.204e+04]\n",
      " [2.016e+03 2.000e+00 1.300e+01 ... 3.300e+00 2.000e+00 7.056e+04]\n",
      " [2.016e+03 1.000e+00 2.200e+01 ... 3.300e+00 2.000e+00 8.280e+04]]\n"
     ]
    }
   ],
   "source": [
    "#Lets use this technique to sort our taxi that, that now has its mph by speed\n",
    "taxi_sort_index = np.argsort(taxi[:,15]) #The 15 column is the mph recent added column\n",
    "\n",
    "#We pass the columns in the sorted order\n",
    "taxi_sort_mph_column = taxi[taxi_sort_index]\n",
    "print(taxi_sort_mph_column)"
   ]
  },
  {
   "cell_type": "code",
   "execution_count": null,
   "metadata": {},
   "outputs": [],
   "source": []
  },
  {
   "cell_type": "markdown",
   "metadata": {},
   "source": [
    "# OBS:"
   ]
  },
  {
   "cell_type": "markdown",
   "metadata": {},
   "source": [
    "**TIME IT**: [documentation](https://docs.python.org/3/library/timeit.html)"
   ]
  },
  {
   "cell_type": "code",
   "execution_count": 41,
   "metadata": {},
   "outputs": [
    {
     "data": {
      "text/plain": [
       "0.2849951999996847"
      ]
     },
     "execution_count": 41,
     "metadata": {},
     "output_type": "execute_result"
    }
   ],
   "source": [
    "import timeit\n",
    "\n",
    "timeit.timeit('\"-\".join(str(n) for n in range(100))', number=10000)"
   ]
  },
  {
   "cell_type": "code",
   "execution_count": 84,
   "metadata": {},
   "outputs": [
    {
     "name": "stdout",
     "output_type": "stream",
     "text": [
      "(3,)\n",
      "\n",
      "Axis=0:  (1, 3)\n",
      "\n",
      "Axis=1:  (3, 1)\n"
     ]
    }
   ],
   "source": [
    "teste = np.array([1,1,1])\n",
    "teste2 = np.array([1,1,1])\n",
    "print(teste.shape)\n",
    "\n",
    "print(\"\\nAxis=0: \", np.expand_dims(teste,0).shape)\n",
    "print(\"\\nAxis=1: \", np.expand_dims(teste,1).shape)\n"
   ]
  }
 ],
 "metadata": {
  "kernelspec": {
   "display_name": "Python 3",
   "language": "python",
   "name": "python3"
  },
  "language_info": {
   "codemirror_mode": {
    "name": "ipython",
    "version": 3
   },
   "file_extension": ".py",
   "mimetype": "text/x-python",
   "name": "python",
   "nbconvert_exporter": "python",
   "pygments_lexer": "ipython3",
   "version": "3.7.0"
  }
 },
 "nbformat": 4,
 "nbformat_minor": 2
}
