{
 "cells": [
  {
   "cell_type": "markdown",
   "metadata": {},
   "source": [
    "# Python Working with files"
   ]
  },
  {
   "cell_type": "markdown",
   "metadata": {},
   "source": [
    "This notebook corresponds to mission 02 of [dataquest](https://www.dataquest.io)."
   ]
  },
  {
   "cell_type": "markdown",
   "metadata": {},
   "source": [
    "**Summary:**\n",
    "* Text files\n",
    "* CSV files"
   ]
  },
  {
   "cell_type": "markdown",
   "metadata": {},
   "source": [
    "---"
   ]
  },
  {
   "cell_type": "markdown",
   "metadata": {},
   "source": [
    "* ### TEXT FILES"
   ]
  },
  {
   "cell_type": "markdown",
   "metadata": {},
   "source": [
    "**We can access files in phyton using the function open(), where the first use is by passing two variables: the file name and the mode. We can pass the data to file object and work with it.**"
   ]
  },
  {
   "cell_type": "code",
   "execution_count": 1,
   "metadata": {},
   "outputs": [
    {
     "name": "stdout",
     "output_type": "stream",
     "text": [
      "<class '_io.TextIOWrapper'>\n",
      "\n",
      " <_io.TextIOWrapper name='documentoDeTexto.txt' mode='r' encoding='cp1252'>\n"
     ]
    }
   ],
   "source": [
    "file_object = open(\"documentoDeTexto.txt\", \"r\")\n",
    "print(type(file_object))\n",
    "print(\"\\n\", file_object)"
   ]
  },
  {
   "cell_type": "markdown",
   "metadata": {},
   "source": [
    "**The second function is read(), that transforms a file object into a string**"
   ]
  },
  {
   "cell_type": "code",
   "execution_count": 2,
   "metadata": {},
   "outputs": [
    {
     "name": "stdout",
     "output_type": "stream",
     "text": [
      "Este é o documento de texto\n"
     ]
    }
   ],
   "source": [
    "string_object = file_object.read()\n",
    "print(string_object)"
   ]
  },
  {
   "cell_type": "markdown",
   "metadata": {},
   "source": [
    "**A userful technique is to get a file with a list and then transfoming it into a list object. For this, it is used a function called split(), where the parameter passed must be where to break the to the list elements.**"
   ]
  },
  {
   "cell_type": "code",
   "execution_count": 3,
   "metadata": {},
   "outputs": [
    {
     "name": "stdout",
     "output_type": "stream",
     "text": [
      "Baltimore,1405\n"
     ]
    }
   ],
   "source": [
    "file_crime_rates = open(\"crime_rates.txt\" , \"r\")\n",
    "string_crime_rates = file_crime_rates.read()\n",
    "list_crime_rates = string_crime_rates.split(\"\\n\")\n",
    "print(list_crime_rates[8])"
   ]
  },
  {
   "cell_type": "markdown",
   "metadata": {},
   "source": [
    "* ### CSV FILES"
   ]
  },
  {
   "cell_type": "markdown",
   "metadata": {},
   "source": [
    "**A Comma Separated Values (CSV) file is a plain text file that contains a list of data. These files are often used for exchanging data between different applications. For example, Excel.\n",
    "It will be similar to txt files, but this time we dont need to open it in read mode, but we need to use a module to reade it.**"
   ]
  },
  {
   "cell_type": "code",
   "execution_count": 4,
   "metadata": {},
   "outputs": [
    {
     "name": "stdout",
     "output_type": "stream",
     "text": [
      "<_csv.reader object at 0x000001B95AF2BD48>\n",
      "<class '_csv.reader'>\n",
      "\n",
      "\n",
      "\n",
      "['policyID', 'statecode', 'county', 'eq_site_limit', 'hu_site_limit', 'fl_site_limit', 'fr_site_limit', 'tiv_2011']\n",
      "['119736', 'FL', 'CLAY COUNTY', '498960', '498960', '498960', '498960', '498960']\n",
      "['448094', 'FL', 'CLAY COUNTY', '1322376.3', '1322376.3', '1322376.3', '1322376.3', '1322376.3']\n",
      "['206893', 'FL', 'CLAY COUNTY', '190724.4', '190724.4', '190724.4', '190724.4', '190724.4']\n",
      "['333743', 'FL', 'CLAY COUNTY', '0', '79520.76', '0', '0', '79520.76']\n",
      "['172534', 'FL', 'CLAY COUNTY', '0', '254281.5', '0', '254281.5', '254281.5']\n",
      "['785275', 'FL', 'CLAY COUNTY', '0', '515035.62', '0', '0', '515035.62']\n",
      "['995932', 'FL', 'CLAY COUNTY', '0', '19260000', '0', '0', '19260000']\n",
      "['223488', 'FL', 'CLAY COUNTY', '328500', '328500', '328500', '328500', '328500']\n",
      "['433512', 'FL', 'CLAY COUNTY', '315000', '315000', '315000', '315000', '315000']\n",
      "['142071', 'FL', 'CLAY COUNTY', '705600', '705600', '705600', '705600', '705600']\n",
      "['253816', 'FL', 'CLAY COUNTY', '831498.3', '831498.3', '831498.3', '831498.3', '831498.3']\n",
      "['894922', 'FL', 'CLAY COUNTY', '0', '24059.09', '0', '0', '24059.09']\n",
      "['422834', 'FL', 'CLAY COUNTY', '0', '48115.94', '0', '0', '48115.94']\n",
      "['582721', 'FL', 'CLAY COUNTY', '0', '28869.12', '0', '0', '28869.12']\n",
      "['842700', 'FL', 'CLAY COUNTY', '0', '56135.64', '0', '0', '56135.64']\n",
      "['874333', 'FL', 'CLAY COUNTY', '0', '48115.94', '0', '0', '48115.94']\n",
      "['580146', 'FL', 'CLAY COUNTY', '0', '48115.94', '0', '0', '48115.94']\n",
      "['456149', 'FL', 'CLAY COUNTY', '0', '80192.49', '0', '0', '80192.49']\n",
      "['767862', 'FL', 'CLAY COUNTY', '0', '48115.94', '0', '0', '48115.94']\n"
     ]
    }
   ],
   "source": [
    "csv_fileObject = open(\"FL_insurance_sample.csv\")\n",
    "from csv import reader\n",
    "read_file = reader(csv_fileObject)\n",
    "\n",
    "print(read_file)\n",
    "print(type(read_file))\n",
    "print(\"\\n\\n\")\n",
    "\n",
    "#And the usual way to work with this type of data is creating a list with it\n",
    "data_list = list(read_file)\n",
    "\n",
    "for x in range(20):\n",
    "    print(data_list[x][:8])"
   ]
  },
  {
   "cell_type": "markdown",
   "metadata": {},
   "source": [
    "* **Some times the dataset is encoded differently than the standart 'CP1252', can be others like: Latin-1 and UTF-8.\n",
    "    A example bellow:**"
   ]
  },
  {
   "cell_type": "code",
   "execution_count": 5,
   "metadata": {},
   "outputs": [],
   "source": [
    "csv_file = open('AppleStore.csv',  encoding=\"utf8\")"
   ]
  },
  {
   "cell_type": "markdown",
   "metadata": {},
   "source": [
    "**We can do manually, what is done above.\n",
    "So we transforme the csv object into strig, than create a list of rows by splinting into the \"\\n\"\n",
    "Then we split wich row into another list of elements, by spliting it into the \",\"**"
   ]
  },
  {
   "cell_type": "code",
   "execution_count": 6,
   "metadata": {},
   "outputs": [
    {
     "name": "stdout",
     "output_type": "stream",
     "text": [
      "<class 'str'>\n",
      "\n",
      " policyID,statecode,county,eq_site_limit,hu_site_limit,fl_site_limit,fr_site_limit,tiv_2011,tiv_2012,eq_site_deductible,hu_site_deductible,fl_site_deductible,fr_site_deductible,point_latitude,point_longitude,line,construction,point_granularity\n",
      "\n",
      " 119736,FL,CLAY COUNTY,498960,498960,498960,498960,498960,792148.9,0,9979.2,0,0,30.102261,-81.711777,Residential,Masonry,1\n",
      "\n",
      " 448094,FL,CLAY COUNTY,1322376.3,1322376.3,1322376.3,1322376.3,1322376.3,1438163.57,0,0,0,0,30.063936,-81.707664,Residential,Masonry,3\n",
      "['policyID', 'statecode', 'county', 'eq_site_limit', 'hu_site_limit', 'fl_site_limit', 'fr_site_limit', 'tiv_2011', 'tiv_2012', 'eq_site_deductible', 'hu_site_deductible', 'fl_site_deductible', 'fr_site_deductible', 'point_latitude', 'point_longitude', 'line', 'construction', 'point_granularity']\n"
     ]
    }
   ],
   "source": [
    "opened_file = open('FL_insurance_sample.csv')\n",
    "read_file = opened_file.read()\n",
    "\n",
    "print(type(read_file))\n",
    "\n",
    "#Now if we want to separate the rows of the table into a list by using the string, we can do it by spliting in the \"\\n\"\n",
    "split_dataset = read_file.split('\\n')\n",
    "\n",
    "for n in range(3):\n",
    "    print(\"\\n\", split_dataset[n])\n",
    "    \n",
    "#We can now transforme it into a list\n",
    "final_dataset = []\n",
    "for row in split_dataset:\n",
    "    split_row = row.split(',')\n",
    "    final_dataset.append(split_row)\n",
    "    \n",
    "    \n",
    "print(final_dataset[0])"
   ]
  },
  {
   "cell_type": "code",
   "execution_count": 7,
   "metadata": {},
   "outputs": [
    {
     "name": "stdout",
     "output_type": "stream",
     "text": [
      "842070\n"
     ]
    }
   ],
   "source": [
    "print(final_dataset[2000][0])"
   ]
  }
 ],
 "metadata": {
  "kernelspec": {
   "display_name": "Python 3",
   "language": "python",
   "name": "python3"
  },
  "language_info": {
   "codemirror_mode": {
    "name": "ipython",
    "version": 3
   },
   "file_extension": ".py",
   "mimetype": "text/x-python",
   "name": "python",
   "nbconvert_exporter": "python",
   "pygments_lexer": "ipython3",
   "version": "3.7.0"
  }
 },
 "nbformat": 4,
 "nbformat_minor": 2
}
