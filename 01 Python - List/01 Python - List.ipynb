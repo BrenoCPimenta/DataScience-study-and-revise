{
 "cells": [
  {
   "cell_type": "markdown",
   "metadata": {},
   "source": [
    "# Python List"
   ]
  },
  {
   "cell_type": "markdown",
   "metadata": {},
   "source": [
    "This notebook corresponds to mission 01 of [dataquest](https://www.dataquest.io)."
   ]
  },
  {
   "cell_type": "markdown",
   "metadata": {},
   "source": [
    "**Summary:**\n",
    "* Creating Lists\n",
    "* Functions: length, slicing, sum, variable types (float(), int()...), max & min.\n",
    "* Negative indexing"
   ]
  },
  {
   "cell_type": "markdown",
   "metadata": {},
   "source": [
    "---"
   ]
  },
  {
   "cell_type": "markdown",
   "metadata": {},
   "source": [
    "## List"
   ]
  },
  {
   "cell_type": "code",
   "execution_count": 7,
   "metadata": {},
   "outputs": [
    {
     "name": "stdout",
     "output_type": "stream",
     "text": [
      "['Albuquerque', 'Anaheim', 'Anchorage', 'Arlington', 'Atlanta']\n",
      "[749, 371, 828, 503, 1379]\n",
      "10\n",
      "\n",
      " [828, 503] \n",
      " [749, 371] \n",
      " [503, 1379]\n"
     ]
    }
   ],
   "source": [
    "#First way to create and populate a list\n",
    "cities = []\n",
    "cities.append(\"Albuquerque\")\n",
    "cities.append(\"Anaheim\")\n",
    "cities.append(\"Anchorage\")\n",
    "cities.append(\"Arlington\")\n",
    "cities.append(\"Atlanta\")\n",
    "\n",
    "#Second way to create and populate a list\n",
    "crime_rates = [749, 371, 828, 503, 1379]\n",
    "\n",
    "print(cities)\n",
    "print(crime_rates)\n",
    "\n",
    "#Position\n",
    "anchorage_str = cities[2]\n",
    "anchorage_cr = crime_rates[2]\n",
    "\n",
    "#Size\n",
    "two_sum = len(cities) + len(crime_rates)\n",
    "print(two_sum)\n",
    "\n",
    "#Slicing\n",
    "crime_rates = [749, 371, 828, 503, 1379]\n",
    "# The following slice selects values at index 2 and 3, but not 4.\n",
    "two_four = crime_rates[2:4]\n",
    "zero_two = crime_rates[:2]\n",
    "three_final = crime_rates[3:]\n",
    "print(\"\\n\", two_four, \"\\n\", zero_two, \"\\n\", three_final)\n"
   ]
  },
  {
   "cell_type": "markdown",
   "metadata": {},
   "source": [
    "**Using ROW in for loops to access every element of a list**"
   ]
  },
  {
   "cell_type": "code",
   "execution_count": 4,
   "metadata": {},
   "outputs": [
    {
     "name": "stdout",
     "output_type": "stream",
     "text": [
      "Albuquerque\n",
      "Anaheim\n",
      "Anchorage\n",
      "Arlington\n",
      "Atlanta\n"
     ]
    }
   ],
   "source": [
    "for row in cities:\n",
    "    print(row)"
   ]
  },
  {
   "cell_type": "markdown",
   "metadata": {},
   "source": [
    "**List of lists\n",
    "If we need to treat a lis that looks like this\n",
    "[\"Olivia, 27\", \"Marcos, 19\", \"Fernando, 27\"]\n",
    "So we got a list with each element being a name and a age of a person, but we want a list into a list, so we can access separately the name and age**"
   ]
  },
  {
   "cell_type": "code",
   "execution_count": 5,
   "metadata": {},
   "outputs": [
    {
     "name": "stdout",
     "output_type": "stream",
     "text": [
      "['Olivia', '27']\n",
      "['Marcos', '19']\n",
      "['Fernando', '27']\n",
      "\n",
      " 27\n",
      "828\n"
     ]
    }
   ],
   "source": [
    "#Create a list of lists for better disposure of data\n",
    "name = [\"Olivia,27\", \"Marcos,19\", \"Fernando,27\"]\n",
    "final_list = []\n",
    "for row in name:\n",
    "    mini_list = row.split(\",\")\n",
    "    final_list.append(mini_list)\n",
    "    print(mini_list)\n",
    "    \n",
    "#Accessing a element of a list inside a list\n",
    "print(\"\\n\",final_list[0][1])\n",
    "\n",
    "#It can be initiated this way\n",
    "list_inA_list = [['Albuquerque', '749'], ['Anaheim', '371'], ['Anchorage', '828']]\n",
    "print(list_inA_list[2][1])"
   ]
  },
  {
   "cell_type": "markdown",
   "metadata": {},
   "source": [
    "**Negative indexing\n",
    "Lets take as a example the list cities, it has 5 elements, if we count in a positive way it goes from 0 to 4,\n",
    "but if we use negative indexing goes from -5 to -1,\n",
    "so cities[0] = cities[-5] and cities[4] = cities[-1]**"
   ]
  },
  {
   "cell_type": "code",
   "execution_count": 9,
   "metadata": {},
   "outputs": [
    {
     "name": "stdout",
     "output_type": "stream",
     "text": [
      "Albuquerque\n",
      "Albuquerque\n",
      "Albuquerque\n",
      "Atlanta   Atlanta\n"
     ]
    }
   ],
   "source": [
    "print(cities[0])\n",
    "print(cities[(len(cities)*-1)])\n",
    "print(cities[-5])\n",
    "\n",
    "print(cities[4], \" \", cities[-1])"
   ]
  },
  {
   "cell_type": "markdown",
   "metadata": {},
   "source": [
    "**There is a function that's really helpful, called sum.\n",
    "And others that are also, float(), int()**"
   ]
  },
  {
   "cell_type": "code",
   "execution_count": 6,
   "metadata": {},
   "outputs": [
    {
     "name": "stdout",
     "output_type": "stream",
     "text": [
      "35.97\n"
     ]
    }
   ],
   "source": [
    "stringlist = [\"1.22\",\"2.46\",\"32.29\"]\n",
    "floatlist = []\n",
    "\n",
    "for n in stringlist:\n",
    "    floatlist.append(float(n))\n",
    "    \n",
    "sumOfFloats = sum(floatlist)\n",
    "\n",
    "print(sumOfFloats)"
   ]
  },
  {
   "cell_type": "markdown",
   "metadata": {},
   "source": [
    "**Functions max() and min(), doesnt work well for strings**"
   ]
  },
  {
   "cell_type": "code",
   "execution_count": 9,
   "metadata": {},
   "outputs": [
    {
     "name": "stdout",
     "output_type": "stream",
     "text": [
      "12.5\n",
      "1\n",
      "\n",
      " 3\n",
      "1\n"
     ]
    }
   ],
   "source": [
    "intlist = [1 , 2 , 3, 12.5]\n",
    "stringlist = [\"1\", \"2\", \"3\", \"12.5\"]\n",
    "\n",
    "print(max(intlist))\n",
    "print(min(intlist))\n",
    "print(\"\\n\", max(stringlist))\n",
    "print(min(stringlist))"
   ]
  }
 ],
 "metadata": {
  "kernelspec": {
   "display_name": "Python 3",
   "language": "python",
   "name": "python3"
  },
  "language_info": {
   "codemirror_mode": {
    "name": "ipython",
    "version": 3
   },
   "file_extension": ".py",
   "mimetype": "text/x-python",
   "name": "python",
   "nbconvert_exporter": "python",
   "pygments_lexer": "ipython3",
   "version": "3.7.0"
  }
 },
 "nbformat": 4,
 "nbformat_minor": 2
}
