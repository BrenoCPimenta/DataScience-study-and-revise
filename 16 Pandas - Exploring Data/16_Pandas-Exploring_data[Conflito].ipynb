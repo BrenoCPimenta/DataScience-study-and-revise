{
 "cells": [
  {
   "cell_type": "markdown",
   "metadata": {},
   "source": [
    "#  Pandas - Exploring Data"
   ]
  },
  {
   "cell_type": "markdown",
   "metadata": {},
   "source": [
    "Dataquest"
   ]
  },
  {
   "cell_type": "code",
   "execution_count": 1,
   "metadata": {},
   "outputs": [],
   "source": [
    "import pandas as pd\n",
    "import numpy as np"
   ]
  },
  {
   "cell_type": "markdown",
   "metadata": {},
   "source": [
    "**OBS:**\n",
    "<br>\n",
    "In the last notebook, it was used a dataset f500 that was cleaned inside the study.\n",
    "<br> \n",
    "Unlike the last one, in this notebook it will be used a slightly different dataset with the same name f500, that is already clean."
   ]
  },
  {
   "cell_type": "markdown",
   "metadata": {},
   "source": [
    "### Learning how indexing when importing csv files with [pd.read_csv()](http://pandas.pydata.org/pandas-docs/stable/reference/api/pandas.read_csv.html) works:"
   ]
  },
  {
   "cell_type": "markdown",
   "metadata": {},
   "source": [
    "✽ The index_col parameter specifies which column to use as the row labels. We use a value of 0 to specify that we want to use the first column.\n",
    "<br> &emsp; This is diferent from the last time, since we dont have a column in the left that counts the index anymore.\n",
    "<br> &emsp; This way the companies names will be the index, the other way the index labels were integers starting from 0"
   ]
  },
  {
   "cell_type": "code",
   "execution_count": 2,
   "metadata": {},
   "outputs": [
    {
     "data": {
      "text/html": [
       "<div>\n",
       "<style scoped>\n",
       "    .dataframe tbody tr th:only-of-type {\n",
       "        vertical-align: middle;\n",
       "    }\n",
       "\n",
       "    .dataframe tbody tr th {\n",
       "        vertical-align: top;\n",
       "    }\n",
       "\n",
       "    .dataframe thead th {\n",
       "        text-align: right;\n",
       "    }\n",
       "</style>\n",
       "<table border=\"1\" class=\"dataframe\">\n",
       "  <thead>\n",
       "    <tr style=\"text-align: right;\">\n",
       "      <th></th>\n",
       "      <th>rank</th>\n",
       "      <th>revenues</th>\n",
       "      <th>revenue_change</th>\n",
       "    </tr>\n",
       "    <tr>\n",
       "      <th>company</th>\n",
       "      <th></th>\n",
       "      <th></th>\n",
       "      <th></th>\n",
       "    </tr>\n",
       "  </thead>\n",
       "  <tbody>\n",
       "    <tr>\n",
       "      <th>Walmart</th>\n",
       "      <td>1</td>\n",
       "      <td>485873</td>\n",
       "      <td>0.8</td>\n",
       "    </tr>\n",
       "    <tr>\n",
       "      <th>State Grid</th>\n",
       "      <td>2</td>\n",
       "      <td>315199</td>\n",
       "      <td>-4.4</td>\n",
       "    </tr>\n",
       "    <tr>\n",
       "      <th>Sinopec Group</th>\n",
       "      <td>3</td>\n",
       "      <td>267518</td>\n",
       "      <td>-9.1</td>\n",
       "    </tr>\n",
       "  </tbody>\n",
       "</table>\n",
       "</div>"
      ],
      "text/plain": [
       "               rank  revenues  revenue_change\n",
       "company                                      \n",
       "Walmart           1    485873             0.8\n",
       "State Grid        2    315199            -4.4\n",
       "Sinopec Group     3    267518            -9.1"
      ]
     },
     "execution_count": 2,
     "metadata": {},
     "output_type": "execute_result"
    }
   ],
   "source": [
    "f500_test_string_indexing = pd.read_csv(\"f500.csv\", index_col=0)\n",
    "\n",
    "f500_test_string_indexing.iloc[:3,:3]"
   ]
  },
  {
   "cell_type": "markdown",
   "metadata": {},
   "source": [
    "Notice that above the index labels is the text **company**.\n",
    "<br>This is the value from the start of the first row of the CSV, effectively **the name of the first column**. \n",
    "<br>Pandas has used this value as the axis name for the index axis. Both the column and index axes can have names assigned to them. \n",
    "<br>**The next line of code removes that name:**"
   ]
  },
  {
   "cell_type": "code",
   "execution_count": 4,
   "metadata": {},
   "outputs": [
    {
     "data": {
      "text/html": [
       "<div>\n",
       "<style scoped>\n",
       "    .dataframe tbody tr th:only-of-type {\n",
       "        vertical-align: middle;\n",
       "    }\n",
       "\n",
       "    .dataframe tbody tr th {\n",
       "        vertical-align: top;\n",
       "    }\n",
       "\n",
       "    .dataframe thead th {\n",
       "        text-align: right;\n",
       "    }\n",
       "</style>\n",
       "<table border=\"1\" class=\"dataframe\">\n",
       "  <thead>\n",
       "    <tr style=\"text-align: right;\">\n",
       "      <th></th>\n",
       "      <th>rank</th>\n",
       "      <th>revenues</th>\n",
       "      <th>revenue_change</th>\n",
       "    </tr>\n",
       "  </thead>\n",
       "  <tbody>\n",
       "    <tr>\n",
       "      <th>Walmart</th>\n",
       "      <td>1</td>\n",
       "      <td>485873</td>\n",
       "      <td>0.8</td>\n",
       "    </tr>\n",
       "    <tr>\n",
       "      <th>State Grid</th>\n",
       "      <td>2</td>\n",
       "      <td>315199</td>\n",
       "      <td>-4.4</td>\n",
       "    </tr>\n",
       "    <tr>\n",
       "      <th>Sinopec Group</th>\n",
       "      <td>3</td>\n",
       "      <td>267518</td>\n",
       "      <td>-9.1</td>\n",
       "    </tr>\n",
       "  </tbody>\n",
       "</table>\n",
       "</div>"
      ],
      "text/plain": [
       "               rank  revenues  revenue_change\n",
       "Walmart           1    485873             0.8\n",
       "State Grid        2    315199            -4.4\n",
       "Sinopec Group     3    267518            -9.1"
      ]
     },
     "execution_count": 4,
     "metadata": {},
     "output_type": "execute_result"
    }
   ],
   "source": [
    "f500_test_string_indexing.index.name = None\n",
    "f500_test_string_indexing.iloc[:3,:3]"
   ]
  },
  {
   "cell_type": "markdown",
   "metadata": {},
   "source": [
    "---"
   ]
  },
  {
   "cell_type": "markdown",
   "metadata": {},
   "source": [
    "**Normal importing**\n",
    "<br>The study on this notebok will happen with a numeric indexing, so now it will be imported in the way it will be realy used:"
   ]
  },
  {
   "cell_type": "code",
   "execution_count": 5,
   "metadata": {
    "scrolled": true
   },
   "outputs": [
    {
     "data": {
      "text/html": [
       "<div>\n",
       "<style scoped>\n",
       "    .dataframe tbody tr th:only-of-type {\n",
       "        vertical-align: middle;\n",
       "    }\n",
       "\n",
       "    .dataframe tbody tr th {\n",
       "        vertical-align: top;\n",
       "    }\n",
       "\n",
       "    .dataframe thead th {\n",
       "        text-align: right;\n",
       "    }\n",
       "</style>\n",
       "<table border=\"1\" class=\"dataframe\">\n",
       "  <thead>\n",
       "    <tr style=\"text-align: right;\">\n",
       "      <th></th>\n",
       "      <th>company</th>\n",
       "      <th>rank</th>\n",
       "      <th>revenues</th>\n",
       "      <th>revenue_change</th>\n",
       "      <th>profits</th>\n",
       "      <th>assets</th>\n",
       "      <th>profit_change</th>\n",
       "      <th>ceo</th>\n",
       "      <th>industry</th>\n",
       "      <th>sector</th>\n",
       "      <th>previous_rank</th>\n",
       "      <th>country</th>\n",
       "      <th>hq_location</th>\n",
       "      <th>website</th>\n",
       "      <th>years_on_global_500_list</th>\n",
       "      <th>employees</th>\n",
       "      <th>total_stockholder_equity</th>\n",
       "    </tr>\n",
       "  </thead>\n",
       "  <tbody>\n",
       "    <tr>\n",
       "      <th>0</th>\n",
       "      <td>Walmart</td>\n",
       "      <td>1</td>\n",
       "      <td>485873</td>\n",
       "      <td>0.8</td>\n",
       "      <td>13643.0</td>\n",
       "      <td>198825</td>\n",
       "      <td>-7.2</td>\n",
       "      <td>C. Douglas McMillon</td>\n",
       "      <td>General Merchandisers</td>\n",
       "      <td>Retailing</td>\n",
       "      <td>1.0</td>\n",
       "      <td>USA</td>\n",
       "      <td>Bentonville, AR</td>\n",
       "      <td>http://www.walmart.com</td>\n",
       "      <td>23</td>\n",
       "      <td>2300000</td>\n",
       "      <td>77798</td>\n",
       "    </tr>\n",
       "    <tr>\n",
       "      <th>1</th>\n",
       "      <td>State Grid</td>\n",
       "      <td>2</td>\n",
       "      <td>315199</td>\n",
       "      <td>-4.4</td>\n",
       "      <td>9571.3</td>\n",
       "      <td>489838</td>\n",
       "      <td>-6.2</td>\n",
       "      <td>Kou Wei</td>\n",
       "      <td>Utilities</td>\n",
       "      <td>Energy</td>\n",
       "      <td>2.0</td>\n",
       "      <td>China</td>\n",
       "      <td>Beijing, China</td>\n",
       "      <td>http://www.sgcc.com.cn</td>\n",
       "      <td>17</td>\n",
       "      <td>926067</td>\n",
       "      <td>209456</td>\n",
       "    </tr>\n",
       "    <tr>\n",
       "      <th>2</th>\n",
       "      <td>Sinopec Group</td>\n",
       "      <td>3</td>\n",
       "      <td>267518</td>\n",
       "      <td>-9.1</td>\n",
       "      <td>1257.9</td>\n",
       "      <td>310726</td>\n",
       "      <td>-65.0</td>\n",
       "      <td>Wang Yupu</td>\n",
       "      <td>Petroleum Refining</td>\n",
       "      <td>Energy</td>\n",
       "      <td>4.0</td>\n",
       "      <td>China</td>\n",
       "      <td>Beijing, China</td>\n",
       "      <td>http://www.sinopec.com</td>\n",
       "      <td>19</td>\n",
       "      <td>713288</td>\n",
       "      <td>106523</td>\n",
       "    </tr>\n",
       "  </tbody>\n",
       "</table>\n",
       "</div>"
      ],
      "text/plain": [
       "         company  rank  revenues  revenue_change  profits  assets  \\\n",
       "0        Walmart     1    485873             0.8  13643.0  198825   \n",
       "1     State Grid     2    315199            -4.4   9571.3  489838   \n",
       "2  Sinopec Group     3    267518            -9.1   1257.9  310726   \n",
       "\n",
       "   profit_change                  ceo               industry     sector  \\\n",
       "0           -7.2  C. Douglas McMillon  General Merchandisers  Retailing   \n",
       "1           -6.2              Kou Wei              Utilities     Energy   \n",
       "2          -65.0            Wang Yupu     Petroleum Refining     Energy   \n",
       "\n",
       "   previous_rank country      hq_location                 website  \\\n",
       "0            1.0     USA  Bentonville, AR  http://www.walmart.com   \n",
       "1            2.0   China   Beijing, China  http://www.sgcc.com.cn   \n",
       "2            4.0   China   Beijing, China  http://www.sinopec.com   \n",
       "\n",
       "   years_on_global_500_list  employees  total_stockholder_equity  \n",
       "0                        23    2300000                     77798  \n",
       "1                        17     926067                    209456  \n",
       "2                        19     713288                    106523  "
      ]
     },
     "execution_count": 5,
     "metadata": {},
     "output_type": "execute_result"
    }
   ],
   "source": [
    "f500 = pd.read_csv(\"f500.csv\")\n",
    "\n",
    "#Transforming zero on 'previous_rank' column as NaN to make better results\n",
    "f500.loc[f500[\"previous_rank\"] == 0, \"previous_rank\"] = np.nan \n",
    "\n",
    "f500.head(3)"
   ]
  },
  {
   "cell_type": "markdown",
   "metadata": {},
   "source": [
    "<br>\n",
    "\n",
    "### Comparison Operators in Pandas"
   ]
  },
  {
   "cell_type": "markdown",
   "metadata": {},
   "source": [
    "<img src=\"comparison_operators_inpandas.jpg\">"
   ]
  },
  {
   "cell_type": "markdown",
   "metadata": {},
   "source": [
    "✽  Companies in f500_sel with more than 265 billion in revenue that are headquarted in China:"
   ]
  },
  {
   "cell_type": "code",
   "execution_count": 19,
   "metadata": {},
   "outputs": [
    {
     "data": {
      "text/plain": [
       "1       State Grid\n",
       "2    Sinopec Group\n",
       "Name: company, dtype: object"
      ]
     },
     "execution_count": 19,
     "metadata": {},
     "output_type": "execute_result"
    }
   ],
   "source": [
    "#If we were working with the dataset of the previous notebook,\n",
    "#the country would be together with the city in a column named location,\n",
    "#so a good syntax to analysi that situation would be: f500[“location”].str.endswith(“China”)\n",
    "\n",
    "bool= (f500[\"country\"] == \"China\") & (f500[\"revenues\"]>265000 )\n",
    "final=f500.loc[bool,\"company\"]\n",
    "final.head()"
   ]
  },
  {
   "cell_type": "markdown",
   "metadata": {},
   "source": [
    "✽ Companies with revenues over 100 billion and negative profits:"
   ]
  },
  {
   "cell_type": "code",
   "execution_count": 21,
   "metadata": {},
   "outputs": [
    {
     "data": {
      "text/html": [
       "<div>\n",
       "<style scoped>\n",
       "    .dataframe tbody tr th:only-of-type {\n",
       "        vertical-align: middle;\n",
       "    }\n",
       "\n",
       "    .dataframe tbody tr th {\n",
       "        vertical-align: top;\n",
       "    }\n",
       "\n",
       "    .dataframe thead th {\n",
       "        text-align: right;\n",
       "    }\n",
       "</style>\n",
       "<table border=\"1\" class=\"dataframe\">\n",
       "  <thead>\n",
       "    <tr style=\"text-align: right;\">\n",
       "      <th></th>\n",
       "      <th>company</th>\n",
       "      <th>rank</th>\n",
       "      <th>revenues</th>\n",
       "      <th>revenue_change</th>\n",
       "      <th>profits</th>\n",
       "      <th>assets</th>\n",
       "      <th>profit_change</th>\n",
       "      <th>ceo</th>\n",
       "      <th>industry</th>\n",
       "      <th>sector</th>\n",
       "      <th>previous_rank</th>\n",
       "      <th>country</th>\n",
       "      <th>hq_location</th>\n",
       "      <th>website</th>\n",
       "      <th>years_on_global_500_list</th>\n",
       "      <th>employees</th>\n",
       "      <th>total_stockholder_equity</th>\n",
       "    </tr>\n",
       "  </thead>\n",
       "  <tbody>\n",
       "    <tr>\n",
       "      <th>32</th>\n",
       "      <td>Japan Post Holdings</td>\n",
       "      <td>33</td>\n",
       "      <td>122990</td>\n",
       "      <td>3.6</td>\n",
       "      <td>-267.4</td>\n",
       "      <td>2631385</td>\n",
       "      <td>-107.5</td>\n",
       "      <td>Masatsugu Nagato</td>\n",
       "      <td>Insurance: Life, Health (stock)</td>\n",
       "      <td>Financials</td>\n",
       "      <td>37.0</td>\n",
       "      <td>Japan</td>\n",
       "      <td>Tokyo, Japan</td>\n",
       "      <td>http://www.japanpost.jp</td>\n",
       "      <td>21</td>\n",
       "      <td>248384</td>\n",
       "      <td>91532</td>\n",
       "    </tr>\n",
       "    <tr>\n",
       "      <th>44</th>\n",
       "      <td>Chevron</td>\n",
       "      <td>45</td>\n",
       "      <td>107567</td>\n",
       "      <td>-18.0</td>\n",
       "      <td>-497.0</td>\n",
       "      <td>260078</td>\n",
       "      <td>-110.8</td>\n",
       "      <td>John S. Watson</td>\n",
       "      <td>Petroleum Refining</td>\n",
       "      <td>Energy</td>\n",
       "      <td>31.0</td>\n",
       "      <td>USA</td>\n",
       "      <td>San Ramon, CA</td>\n",
       "      <td>http://www.chevron.com</td>\n",
       "      <td>23</td>\n",
       "      <td>55200</td>\n",
       "      <td>145556</td>\n",
       "    </tr>\n",
       "  </tbody>\n",
       "</table>\n",
       "</div>"
      ],
      "text/plain": [
       "                company  rank  revenues  revenue_change  profits   assets  \\\n",
       "32  Japan Post Holdings    33    122990             3.6   -267.4  2631385   \n",
       "44              Chevron    45    107567           -18.0   -497.0   260078   \n",
       "\n",
       "    profit_change               ceo                         industry  \\\n",
       "32         -107.5  Masatsugu Nagato  Insurance: Life, Health (stock)   \n",
       "44         -110.8    John S. Watson               Petroleum Refining   \n",
       "\n",
       "        sector  previous_rank country    hq_location                  website  \\\n",
       "32  Financials           37.0   Japan   Tokyo, Japan  http://www.japanpost.jp   \n",
       "44      Energy           31.0     USA  San Ramon, CA   http://www.chevron.com   \n",
       "\n",
       "    years_on_global_500_list  employees  total_stockholder_equity  \n",
       "32                        21     248384                     91532  \n",
       "44                        23      55200                    145556  "
      ]
     },
     "execution_count": 21,
     "metadata": {},
     "output_type": "execute_result"
    }
   ],
   "source": [
    "big_rev_neg_profit = f500[\n",
    "                           (f500[\"revenues\"]> 100000)\n",
    "                            &\n",
    "                            (f500[\"profits\"] < 0)\n",
    "                           ]\n",
    "big_rev_neg_profit.head()"
   ]
  },
  {
   "cell_type": "markdown",
   "metadata": {},
   "source": [
    "✽ The first 5 companies in the Technology sector that are not headquartered in the USA:"
   ]
  },
  {
   "cell_type": "code",
   "execution_count": 25,
   "metadata": {},
   "outputs": [
    {
     "data": {
      "text/html": [
       "<div>\n",
       "<style scoped>\n",
       "    .dataframe tbody tr th:only-of-type {\n",
       "        vertical-align: middle;\n",
       "    }\n",
       "\n",
       "    .dataframe tbody tr th {\n",
       "        vertical-align: top;\n",
       "    }\n",
       "\n",
       "    .dataframe thead th {\n",
       "        text-align: right;\n",
       "    }\n",
       "</style>\n",
       "<table border=\"1\" class=\"dataframe\">\n",
       "  <thead>\n",
       "    <tr style=\"text-align: right;\">\n",
       "      <th></th>\n",
       "      <th>company</th>\n",
       "      <th>rank</th>\n",
       "      <th>revenues</th>\n",
       "      <th>revenue_change</th>\n",
       "      <th>profits</th>\n",
       "      <th>assets</th>\n",
       "      <th>profit_change</th>\n",
       "      <th>ceo</th>\n",
       "      <th>industry</th>\n",
       "      <th>sector</th>\n",
       "      <th>previous_rank</th>\n",
       "      <th>country</th>\n",
       "      <th>hq_location</th>\n",
       "      <th>website</th>\n",
       "      <th>years_on_global_500_list</th>\n",
       "      <th>employees</th>\n",
       "      <th>total_stockholder_equity</th>\n",
       "    </tr>\n",
       "  </thead>\n",
       "  <tbody>\n",
       "    <tr>\n",
       "      <th>14</th>\n",
       "      <td>Samsung Electronics</td>\n",
       "      <td>15</td>\n",
       "      <td>173957</td>\n",
       "      <td>-2.0</td>\n",
       "      <td>19316.5</td>\n",
       "      <td>217104</td>\n",
       "      <td>16.8</td>\n",
       "      <td>Oh-Hyun Kwon</td>\n",
       "      <td>Electronics, Electrical Equip.</td>\n",
       "      <td>Technology</td>\n",
       "      <td>13.0</td>\n",
       "      <td>South Korea</td>\n",
       "      <td>Suwon, South Korea</td>\n",
       "      <td>http://www.samsung.com</td>\n",
       "      <td>23</td>\n",
       "      <td>325000</td>\n",
       "      <td>154376</td>\n",
       "    </tr>\n",
       "    <tr>\n",
       "      <th>26</th>\n",
       "      <td>Hon Hai Precision Industry</td>\n",
       "      <td>27</td>\n",
       "      <td>135129</td>\n",
       "      <td>-4.3</td>\n",
       "      <td>4608.8</td>\n",
       "      <td>80436</td>\n",
       "      <td>-0.4</td>\n",
       "      <td>Terry Gou</td>\n",
       "      <td>Electronics, Electrical Equip.</td>\n",
       "      <td>Technology</td>\n",
       "      <td>25.0</td>\n",
       "      <td>Taiwan</td>\n",
       "      <td>New Taipei City, Taiwan</td>\n",
       "      <td>http://www.foxconn.com</td>\n",
       "      <td>13</td>\n",
       "      <td>726772</td>\n",
       "      <td>33476</td>\n",
       "    </tr>\n",
       "    <tr>\n",
       "      <th>70</th>\n",
       "      <td>Hitachi</td>\n",
       "      <td>71</td>\n",
       "      <td>84558</td>\n",
       "      <td>1.2</td>\n",
       "      <td>2134.3</td>\n",
       "      <td>86742</td>\n",
       "      <td>48.8</td>\n",
       "      <td>Toshiaki Higashihara</td>\n",
       "      <td>Electronics, Electrical Equip.</td>\n",
       "      <td>Technology</td>\n",
       "      <td>79.0</td>\n",
       "      <td>Japan</td>\n",
       "      <td>Tokyo, Japan</td>\n",
       "      <td>http://www.hitachi.com</td>\n",
       "      <td>23</td>\n",
       "      <td>303887</td>\n",
       "      <td>26632</td>\n",
       "    </tr>\n",
       "    <tr>\n",
       "      <th>82</th>\n",
       "      <td>Huawei Investment &amp; Holding</td>\n",
       "      <td>83</td>\n",
       "      <td>78511</td>\n",
       "      <td>24.9</td>\n",
       "      <td>5579.4</td>\n",
       "      <td>63837</td>\n",
       "      <td>-5.0</td>\n",
       "      <td>Ren Zhengfei</td>\n",
       "      <td>Network and Other Communications Equipment</td>\n",
       "      <td>Technology</td>\n",
       "      <td>129.0</td>\n",
       "      <td>China</td>\n",
       "      <td>Shenzhen, China</td>\n",
       "      <td>http://www.huawei.com</td>\n",
       "      <td>8</td>\n",
       "      <td>180000</td>\n",
       "      <td>20159</td>\n",
       "    </tr>\n",
       "    <tr>\n",
       "      <th>104</th>\n",
       "      <td>Sony</td>\n",
       "      <td>105</td>\n",
       "      <td>70170</td>\n",
       "      <td>3.9</td>\n",
       "      <td>676.4</td>\n",
       "      <td>158519</td>\n",
       "      <td>-45.1</td>\n",
       "      <td>Kazuo Hirai</td>\n",
       "      <td>Electronics, Electrical Equip.</td>\n",
       "      <td>Technology</td>\n",
       "      <td>113.0</td>\n",
       "      <td>Japan</td>\n",
       "      <td>Tokyo, Japan</td>\n",
       "      <td>http://www.sony.net</td>\n",
       "      <td>23</td>\n",
       "      <td>128400</td>\n",
       "      <td>22415</td>\n",
       "    </tr>\n",
       "  </tbody>\n",
       "</table>\n",
       "</div>"
      ],
      "text/plain": [
       "                         company  rank  revenues  revenue_change  profits  \\\n",
       "14           Samsung Electronics    15    173957            -2.0  19316.5   \n",
       "26    Hon Hai Precision Industry    27    135129            -4.3   4608.8   \n",
       "70                       Hitachi    71     84558             1.2   2134.3   \n",
       "82   Huawei Investment & Holding    83     78511            24.9   5579.4   \n",
       "104                         Sony   105     70170             3.9    676.4   \n",
       "\n",
       "     assets  profit_change                   ceo  \\\n",
       "14   217104           16.8          Oh-Hyun Kwon   \n",
       "26    80436           -0.4             Terry Gou   \n",
       "70    86742           48.8  Toshiaki Higashihara   \n",
       "82    63837           -5.0          Ren Zhengfei   \n",
       "104  158519          -45.1           Kazuo Hirai   \n",
       "\n",
       "                                       industry      sector  previous_rank  \\\n",
       "14               Electronics, Electrical Equip.  Technology           13.0   \n",
       "26               Electronics, Electrical Equip.  Technology           25.0   \n",
       "70               Electronics, Electrical Equip.  Technology           79.0   \n",
       "82   Network and Other Communications Equipment  Technology          129.0   \n",
       "104              Electronics, Electrical Equip.  Technology          113.0   \n",
       "\n",
       "         country              hq_location                 website  \\\n",
       "14   South Korea       Suwon, South Korea  http://www.samsung.com   \n",
       "26        Taiwan  New Taipei City, Taiwan  http://www.foxconn.com   \n",
       "70         Japan             Tokyo, Japan  http://www.hitachi.com   \n",
       "82         China          Shenzhen, China   http://www.huawei.com   \n",
       "104        Japan             Tokyo, Japan     http://www.sony.net   \n",
       "\n",
       "     years_on_global_500_list  employees  total_stockholder_equity  \n",
       "14                         23     325000                    154376  \n",
       "26                         13     726772                     33476  \n",
       "70                         23     303887                     26632  \n",
       "82                          8     180000                     20159  \n",
       "104                        23     128400                     22415  "
      ]
     },
     "execution_count": 25,
     "metadata": {},
     "output_type": "execute_result"
    }
   ],
   "source": [
    "tech_outside_usa = f500[(f500[\"country\"] != \"USA\") & (f500[\"sector\"]==\"Technology\")].head(5)\n",
    "tech_outside_usa"
   ]
  },
  {
   "cell_type": "markdown",
   "metadata": {},
   "source": [
    "<br>\n",
    "\n",
    "### Adding Serie to a DataFrame by Index"
   ]
  },
  {
   "cell_type": "markdown",
   "metadata": {},
   "source": [
    "First we create a series (by performing vectorized subtraction only on rows without null value):<br>\n",
    "* This time by making a diferece betwen the rank that the company had last year, by this year."
   ]
  },
  {
   "cell_type": "code",
   "execution_count": 33,
   "metadata": {},
   "outputs": [
    {
     "data": {
      "text/plain": [
       "0    0.0\n",
       "1    0.0\n",
       "2    1.0\n",
       "3   -1.0\n",
       "4    3.0\n",
       "dtype: float64"
      ]
     },
     "execution_count": 33,
     "metadata": {},
     "output_type": "execute_result"
    }
   ],
   "source": [
    "previously_ranked = f500[f500[\"previous_rank\"].notnull()]\n",
    "rank_change = previously_ranked[\"previous_rank\"] - previously_ranked[\"rank\"]\n",
    "rank_change.head()"
   ]
  },
  {
   "cell_type": "markdown",
   "metadata": {},
   "source": [
    "Now, to assign this new series to our dataframe, we call our dataframe with a new column name and assigning the serie: "
   ]
  },
  {
   "cell_type": "code",
   "execution_count": 35,
   "metadata": {},
   "outputs": [
    {
     "data": {
      "text/html": [
       "<div>\n",
       "<style scoped>\n",
       "    .dataframe tbody tr th:only-of-type {\n",
       "        vertical-align: middle;\n",
       "    }\n",
       "\n",
       "    .dataframe tbody tr th {\n",
       "        vertical-align: top;\n",
       "    }\n",
       "\n",
       "    .dataframe thead th {\n",
       "        text-align: right;\n",
       "    }\n",
       "</style>\n",
       "<table border=\"1\" class=\"dataframe\">\n",
       "  <thead>\n",
       "    <tr style=\"text-align: right;\">\n",
       "      <th></th>\n",
       "      <th>company</th>\n",
       "      <th>rank</th>\n",
       "      <th>revenues</th>\n",
       "      <th>revenue_change</th>\n",
       "      <th>profits</th>\n",
       "      <th>assets</th>\n",
       "      <th>profit_change</th>\n",
       "      <th>ceo</th>\n",
       "      <th>industry</th>\n",
       "      <th>sector</th>\n",
       "      <th>previous_rank</th>\n",
       "      <th>country</th>\n",
       "      <th>hq_location</th>\n",
       "      <th>website</th>\n",
       "      <th>years_on_global_500_list</th>\n",
       "      <th>employees</th>\n",
       "      <th>total_stockholder_equity</th>\n",
       "      <th>rank_change</th>\n",
       "    </tr>\n",
       "  </thead>\n",
       "  <tbody>\n",
       "    <tr>\n",
       "      <th>498</th>\n",
       "      <td>TUI</td>\n",
       "      <td>499</td>\n",
       "      <td>21655</td>\n",
       "      <td>-5.5</td>\n",
       "      <td>1151.7</td>\n",
       "      <td>16247</td>\n",
       "      <td>195.5</td>\n",
       "      <td>Friedrich Joussen</td>\n",
       "      <td>Travel Services</td>\n",
       "      <td>Business Services</td>\n",
       "      <td>467.0</td>\n",
       "      <td>Germany</td>\n",
       "      <td>Hanover, Germany</td>\n",
       "      <td>http://www.tuigroup.com</td>\n",
       "      <td>23</td>\n",
       "      <td>66779</td>\n",
       "      <td>3006</td>\n",
       "      <td>-32.0</td>\n",
       "    </tr>\n",
       "    <tr>\n",
       "      <th>499</th>\n",
       "      <td>AutoNation</td>\n",
       "      <td>500</td>\n",
       "      <td>21609</td>\n",
       "      <td>3.6</td>\n",
       "      <td>430.5</td>\n",
       "      <td>10060</td>\n",
       "      <td>-2.7</td>\n",
       "      <td>Michael J. Jackson</td>\n",
       "      <td>Specialty Retailers</td>\n",
       "      <td>Retailing</td>\n",
       "      <td>NaN</td>\n",
       "      <td>USA</td>\n",
       "      <td>Fort Lauderdale, FL</td>\n",
       "      <td>http://www.autonation.com</td>\n",
       "      <td>12</td>\n",
       "      <td>26000</td>\n",
       "      <td>2310</td>\n",
       "      <td>NaN</td>\n",
       "    </tr>\n",
       "  </tbody>\n",
       "</table>\n",
       "</div>"
      ],
      "text/plain": [
       "        company  rank  revenues  revenue_change  profits  assets  \\\n",
       "498         TUI   499     21655            -5.5   1151.7   16247   \n",
       "499  AutoNation   500     21609             3.6    430.5   10060   \n",
       "\n",
       "     profit_change                 ceo             industry  \\\n",
       "498          195.5   Friedrich Joussen      Travel Services   \n",
       "499           -2.7  Michael J. Jackson  Specialty Retailers   \n",
       "\n",
       "                sector  previous_rank  country          hq_location  \\\n",
       "498  Business Services          467.0  Germany     Hanover, Germany   \n",
       "499          Retailing            NaN      USA  Fort Lauderdale, FL   \n",
       "\n",
       "                       website  years_on_global_500_list  employees  \\\n",
       "498    http://www.tuigroup.com                        23      66779   \n",
       "499  http://www.autonation.com                        12      26000   \n",
       "\n",
       "     total_stockholder_equity  rank_change  \n",
       "498                      3006        -32.0  \n",
       "499                      2310          NaN  "
      ]
     },
     "execution_count": 35,
     "metadata": {},
     "output_type": "execute_result"
    }
   ],
   "source": [
    "f500[\"rank_change\"] = rank_change\n",
    "f500.tail(2)"
   ]
  },
  {
   "cell_type": "code",
   "execution_count": null,
   "metadata": {},
   "outputs": [],
   "source": []
  },
  {
   "cell_type": "code",
   "execution_count": null,
   "metadata": {},
   "outputs": [],
   "source": []
  },
  {
   "cell_type": "code",
   "execution_count": null,
   "metadata": {},
   "outputs": [],
   "source": []
  },
  {
   "cell_type": "code",
   "execution_count": null,
   "metadata": {},
   "outputs": [],
   "source": []
  },
  {
   "cell_type": "markdown",
   "metadata": {},
   "source": [
    "f500.index.name = None  \n",
    "\n"
   ]
  },
  {
   "cell_type": "markdown",
   "metadata": {},
   "source": [
    "First information worth mention is:\n",
    "    pandas uses NumPy objects behind the scenes to store the data"
   ]
  }
 ],
 "metadata": {
  "kernelspec": {
   "display_name": "Python 3",
   "language": "python",
   "name": "python3"
  },
  "language_info": {
   "codemirror_mode": {
    "name": "ipython",
    "version": 3
   },
   "file_extension": ".py",
   "mimetype": "text/x-python",
   "name": "python",
   "nbconvert_exporter": "python",
   "pygments_lexer": "ipython3",
   "version": "3.7.0"
  }
 },
 "nbformat": 4,
 "nbformat_minor": 2
}
