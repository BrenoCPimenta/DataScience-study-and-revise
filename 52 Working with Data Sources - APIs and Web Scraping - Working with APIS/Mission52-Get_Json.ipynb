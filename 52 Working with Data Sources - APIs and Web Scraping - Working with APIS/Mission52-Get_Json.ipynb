{
 "cells": [
  {
   "cell_type": "markdown",
   "metadata": {},
   "source": [
    "# Working with APIS - JSON"
   ]
  },
  {
   "cell_type": "markdown",
   "metadata": {},
   "source": [
    "This notebook corresponds to mission 52 of [dataquest](https://www.dataquest.io)."
   ]
  },
  {
   "cell_type": "markdown",
   "metadata": {},
   "source": [
    "**APIs are hosted on web servers**\n",
    "\n",
    "\n",
    "- We use the **import requests** library to communicate with the web server and retrieve the data.\n",
    "- Accessing the content of the data the server returns: **response.content**\n",
    "\n",
    " \n",
    "- JavaScript Object Notation (JSON) format is the primary format for sending and receiving data through APIs: **import json**"
   ]
  },
  {
   "cell_type": "markdown",
   "metadata": {},
   "source": [
    "### Working with get status\n",
    "\n",
    "When you do a get request you have a status with in it:\n",
    "* 200 - Everything went okay, and the server returned a result (if any).\n",
    "* 301 - The server is redirecting you to a different endpoint. This can happen when a company switches domain names, or an endpoint's name has changed.\n",
    "* 401 - The server thinks you're not authenticated. This happens when you don't send the right credentials to access an API (we'll talk about this in a later mission).\n",
    "* 400 - The server thinks you made a bad request. This can happen when you don't send the information the API requires to process your request, among other things.\n",
    "* 403 - The resource you're trying to access is forbidden; you don't have the right permissions to see it.\n",
    "* 404 - The server didn't find the resource you tried to access\n"
   ]
  },
  {
   "cell_type": "code",
   "execution_count": 2,
   "metadata": {},
   "outputs": [
    {
     "name": "stdout",
     "output_type": "stream",
     "text": [
      "400\n"
     ]
    }
   ],
   "source": [
    "import requests\n",
    "response = requests.get(\"http://api.open-notify.org/iss-pass.json\")\n",
    "status_code = response.status_code\n",
    "print(status_code)"
   ]
  },
  {
   "cell_type": "markdown",
   "metadata": {},
   "source": [
    "__Notice the status is saying that we made a bad request__\n",
    "so we go to the __[API Documentationn](http://open-notify.org/Open-Notify-API/)__ and see it needs a parameter to be pass with the get request so it can give us the location of the International Space Station (ISS)\n",
    "\n",
    "The parameters can be pass as a library: {\"lat\": 40.71, \"lon\": -74}\n",
    "or inside the url : http://api.open-notify.org/iss-pass.json?lat=40.71&lon=-74"
   ]
  },
  {
   "cell_type": "code",
   "execution_count": 3,
   "metadata": {},
   "outputs": [
    {
     "name": "stdout",
     "output_type": "stream",
     "text": [
      "b'{\\n  \"message\": \"success\", \\n  \"request\": {\\n    \"altitude\": 100, \\n    \"datetime\": 1547324912, \\n    \"latitude\": 40.71, \\n    \"longitude\": -74.0, \\n    \"passes\": 5\\n  }, \\n  \"response\": [\\n    {\\n      \"duration\": 607, \\n      \"risetime\": 1547347728\\n    }, \\n    {\\n      \"duration\": 632, \\n      \"risetime\": 1547353500\\n    }, \\n    {\\n      \"duration\": 561, \\n      \"risetime\": 1547359368\\n    }, \\n    {\\n      \"duration\": 565, \\n      \"risetime\": 1547365219\\n    }, \\n    {\\n      \"duration\": 635, \\n      \"risetime\": 1547371014\\n    }\\n  ]\\n}\\n'\n",
      "b'{\\n  \"message\": \"success\", \\n  \"request\": {\\n    \"altitude\": 100, \\n    \"datetime\": 1547324912, \\n    \"latitude\": 40.71, \\n    \"longitude\": -74.0, \\n    \"passes\": 5\\n  }, \\n  \"response\": [\\n    {\\n      \"duration\": 607, \\n      \"risetime\": 1547347728\\n    }, \\n    {\\n      \"duration\": 632, \\n      \"risetime\": 1547353500\\n    }, \\n    {\\n      \"duration\": 561, \\n      \"risetime\": 1547359368\\n    }, \\n    {\\n      \"duration\": 565, \\n      \"risetime\": 1547365219\\n    }, \\n    {\\n      \"duration\": 635, \\n      \"risetime\": 1547371014\\n    }\\n  ]\\n}\\n'\n"
     ]
    }
   ],
   "source": [
    "# This is the latitude and longitude of New York City.\n",
    "parameters = {\"lat\": 40.71, \"lon\": -74}\n",
    "\n",
    "# Make a get request with the parameters.\n",
    "response = requests.get(\"http://api.open-notify.org/iss-pass.json\", params=parameters)\n",
    "\n",
    "# Print the content of the response (the data the server returned)\n",
    "print(response.content)\n",
    "\n",
    "# This gets the same data as the command above\n",
    "response = requests.get(\"http://api.open-notify.org/iss-pass.json?lat=40.71&lon=-74\")\n",
    "print(response.content)\n",
    "\n",
    "content = response.content"
   ]
  },
  {
   "cell_type": "markdown",
   "metadata": {},
   "source": [
    "#### Working with JSON\n",
    "We received a string, wich isn't ideal to work with. <br>\n",
    "But this string can be structured as JSON.<br>\n",
    "The JSON library has two main methods:\n",
    "* dumps -- Takes in a Python object, and converts it to a string\n",
    "* loads -- Takes a JSON string, and converts it to a Python object"
   ]
  },
  {
   "cell_type": "code",
   "execution_count": 4,
   "metadata": {},
   "outputs": [
    {
     "name": "stdout",
     "output_type": "stream",
     "text": [
      "<class 'list'>\n",
      "<class 'str'>\n",
      "<class 'list'>\n",
      "<class 'str'>\n"
     ]
    }
   ],
   "source": [
    "# Make a list of fast food chains.\n",
    "best_food_chains = [\"Taco Bell\", \"Shake Shack\", \"Chipotle\"]\n",
    "print(type(best_food_chains))\n",
    "\n",
    "# Import the JSON library.\n",
    "import json\n",
    "\n",
    "# Use json.dumps to convert best_food_chains to a string.\n",
    "best_food_chains_string = json.dumps(best_food_chains)\n",
    "print(type(best_food_chains_string))\n",
    "\n",
    "# Convert best_food_chains_string back to a list.\n",
    "print(type(json.loads(best_food_chains_string)))\n",
    "\n",
    "# Make a dictionary\n",
    "fast_food_franchise = {\n",
    "    \"Subway\": 24722,\n",
    "    \"McDonalds\": 14098,\n",
    "    \"Starbucks\": 10821,\n",
    "    \"Pizza Hut\": 7600\n",
    "}\n",
    "\n",
    "# We can also dump a dictionary to a string and load it.\n",
    "fast_food_franchise_string = json.dumps(fast_food_franchise)\n",
    "print(type(fast_food_franchise_string))"
   ]
  },
  {
   "cell_type": "markdown",
   "metadata": {},
   "source": [
    "__With that said__, we can go back to the ISS example <br>\n",
    "\n",
    "We can get the content of a response as a Python object by using the .json() method on the response.<br\n",
    "And we can select a speciific part of the json structure."
   ]
  },
  {
   "cell_type": "code",
   "execution_count": 5,
   "metadata": {},
   "outputs": [
    {
     "name": "stdout",
     "output_type": "stream",
     "text": [
      "<class 'dict'>\n",
      "\n",
      "\n",
      "{'message': 'success', 'request': {'altitude': 100, 'datetime': 1547321613, 'latitude': 37.78, 'longitude': -122.41, 'passes': 5}, 'response': [{'duration': 619, 'risetime': 1547358791}, {'duration': 614, 'risetime': 1547364584}, {'duration': 501, 'risetime': 1547370486}, {'duration': 497, 'risetime': 1547376359}, {'duration': 610, 'risetime': 1547382150}]}\n",
      "\n",
      "\n",
      "619\n"
     ]
    }
   ],
   "source": [
    "# Make the same request we did two screens ago.\n",
    "parameters = {\"lat\": 37.78, \"lon\": -122.41}\n",
    "response = requests.get(\"http://api.open-notify.org/iss-pass.json\", params=parameters)\n",
    "\n",
    "# Get the response data as a Python object.  Verify that it's a dictionary.\n",
    "json_data = response.json()\n",
    "print(type(json_data))\n",
    "print(\"\\n\")\n",
    "print(json_data)\n",
    "\n",
    "print(\"\\n\")\n",
    "#Get a specific data\n",
    "first_pass_duration = json_data[\"response\"][0][\"duration\"]\n",
    "print(first_pass_duration)"
   ]
  },
  {
   "cell_type": "markdown",
   "metadata": {},
   "source": [
    "__Header__, the server sends more than a status code and the data when it generates a response. It also sends metadata containing information on how it generated the data and how to decode it. This information appears in the response headers. We can access it using the .headers property that responses have.\n",
    "\n",
    "The headers will appear as a dictionary. For now, the content-type within the headers is the most important key. It tells us the format of the response, and how to decode it. For the OpenNotify API, the format is JSON, which is why we could decode it with JSON earlier."
   ]
  },
  {
   "cell_type": "code",
   "execution_count": 6,
   "metadata": {},
   "outputs": [
    {
     "name": "stdout",
     "output_type": "stream",
     "text": [
      "{'Server': 'nginx/1.10.3', 'Date': 'Sat, 12 Jan 2019 20:28:38 GMT', 'Content-Type': 'application/json', 'Content-Length': '521', 'Connection': 'keep-alive', 'Via': '1.1 vegur'}\n"
     ]
    }
   ],
   "source": [
    "# Headers is a dictionary\n",
    "print(response.headers)\n",
    "content_type = response.headers[\"content-type\"]"
   ]
  },
  {
   "cell_type": "markdown",
   "metadata": {},
   "source": [
    "* Our ISS API (*OpenNotify*), has one more API endpoint __[astros.json](http://open-notify.org/Open-Notify-API/People-In-Space/)__<br>\n",
    "\n"
   ]
  },
  {
   "cell_type": "code",
   "execution_count": 7,
   "metadata": {},
   "outputs": [
    {
     "name": "stdout",
     "output_type": "stream",
     "text": [
      "3\n"
     ]
    }
   ],
   "source": [
    "response = requests.get(\"http://api.open-notify.org/astros.json\")\n",
    "json_data = response.json()\n",
    "in_space_count = json_data[\"number\"]\n",
    "print(in_space_count)"
   ]
  }
 ],
 "metadata": {
  "kernelspec": {
   "display_name": "Python 3",
   "language": "python",
   "name": "python3"
  },
  "language_info": {
   "codemirror_mode": {
    "name": "ipython",
    "version": 3
   },
   "file_extension": ".py",
   "mimetype": "text/x-python",
   "name": "python",
   "nbconvert_exporter": "python",
   "pygments_lexer": "ipython3",
   "version": "3.7.0"
  }
 },
 "nbformat": 4,
 "nbformat_minor": 2
}
