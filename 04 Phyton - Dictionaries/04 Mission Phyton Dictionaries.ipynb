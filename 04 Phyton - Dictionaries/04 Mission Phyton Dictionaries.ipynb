{
 "cells": [
  {
   "cell_type": "markdown",
   "metadata": {},
   "source": [
    "# Python Dictionaries"
   ]
  },
  {
   "cell_type": "markdown",
   "metadata": {},
   "source": [
    "This notebook corresponds to mission 04 of [dataquest](https://www.dataquest.io)."
   ]
  },
  {
   "cell_type": "markdown",
   "metadata": {},
   "source": [
    "**Summary:**\n",
    "* How to iniciate one.\n",
    "* Working with keys.\n",
    "* Frequency tables."
   ]
  },
  {
   "cell_type": "markdown",
   "metadata": {},
   "source": [
    "* **Creating Method 1**"
   ]
  },
  {
   "cell_type": "code",
   "execution_count": 8,
   "metadata": {},
   "outputs": [
    {
     "name": "stdout",
     "output_type": "stream",
     "text": [
      "4\n",
      "Jhon\n",
      "29\n",
      "\n",
      "\n",
      "key1\n",
      "key2\n",
      "3\n"
     ]
    }
   ],
   "source": [
    "dictionarie = {'key1': 4, 'key2': 'Jhon', 3 : 29 }\n",
    "\n",
    "print(dictionarie['key1'])\n",
    "print(dictionarie['key2'])\n",
    "print(dictionarie[3])\n",
    "\n",
    "print('\\n')\n",
    "for n in dictionarie:\n",
    "    print(n)\n",
    "    "
   ]
  },
  {
   "cell_type": "markdown",
   "metadata": {},
   "source": [
    "* **Creating Method 2**"
   ]
  },
  {
   "cell_type": "code",
   "execution_count": 31,
   "metadata": {},
   "outputs": [
    {
     "name": "stdout",
     "output_type": "stream",
     "text": [
      "2\n"
     ]
    }
   ],
   "source": [
    "dictionarie_2 = {}\n",
    "\n",
    "dictionarie_2[\"key_2\"] = 2\n",
    "\n",
    "print(dictionarie_2[\"key_2\"])"
   ]
  },
  {
   "cell_type": "markdown",
   "metadata": {},
   "source": [
    "* **Working with dictionaries**"
   ]
  },
  {
   "cell_type": "code",
   "execution_count": 33,
   "metadata": {},
   "outputs": [
    {
     "name": "stdout",
     "output_type": "stream",
     "text": [
      "4434\n"
     ]
    }
   ],
   "source": [
    "content_ratings = {\"4+\":4433, \"9+\":987, \"12+\":1155, \"17+\":622}\n",
    "content_ratings[\"4+\"] +=  1\n",
    "print(content_ratings[\"4+\"])"
   ]
  },
  {
   "cell_type": "markdown",
   "metadata": {},
   "source": [
    "* **Confirming if there is a specific key**"
   ]
  },
  {
   "cell_type": "code",
   "execution_count": 36,
   "metadata": {},
   "outputs": [
    {
     "name": "stdout",
     "output_type": "stream",
     "text": [
      "True\n",
      "False\n"
     ]
    }
   ],
   "source": [
    "print(  \"12+\" in content_ratings  )\n",
    "print(  4433 in content_ratings  )"
   ]
  },
  {
   "cell_type": "markdown",
   "metadata": {},
   "source": [
    "* **Working with frequency tables** \n",
    "\n",
    "    Number of frequency of items in tables"
   ]
  },
  {
   "cell_type": "code",
   "execution_count": 35,
   "metadata": {},
   "outputs": [
    {
     "name": "stdout",
     "output_type": "stream",
     "text": [
      "4+  =  13\n",
      "9+  =  1\n",
      "12+  =  3\n",
      "17+  =  2\n",
      "\n",
      "\n",
      "4+  =  13\n",
      "9+  =  1\n",
      "7+  =  2\n",
      "17+  =  2\n",
      "12+  =  3\n"
     ]
    }
   ],
   "source": [
    "#Lets make a suposition that we extract a column of a bigger table with the ratings, \n",
    "#and we want to create a dictionarie with the sums\n",
    "list_of_ratings = [\"4+\",\"4+\",\"9+\",\"7+\",\"7+\",\"4+\",\"4+\",\"4+\",\"17+\",\"4+\",\"4+\",\"4+\",\"12+\",\"12+\",\"4+\",\"12+\",\"17+\",\"4+\",\"4+\",\"4+\",\"4+\"]\n",
    "\n",
    "new_content_ratings = {\"4+\":0, \"9+\":0, \"12+\":0, \"17+\":0}\n",
    "for key_ratings in list_of_ratings:\n",
    "    if key_ratings in new_content_ratings:\n",
    "        new_content_ratings[key_ratings] += 1\n",
    "\n",
    "for keys in new_content_ratings:\n",
    "    print(keys, \" = \", new_content_ratings[keys])\n",
    "print(\"\\n\")\n",
    "\n",
    "\n",
    "#--------------------------------------------------------------------------------------------------------------------------------\n",
    "#If we didnt know wich were the keys, we can:\n",
    "double_new_content_ratings = {}\n",
    "\n",
    "for key_ratings in list_of_ratings:\n",
    "    if key_ratings in double_new_content_ratings:\n",
    "        double_new_content_ratings[key_ratings] += 1 \n",
    "    else:\n",
    "        double_new_content_ratings[key_ratings] = 1\n",
    "        \n",
    "for keys in double_new_content_ratings:\n",
    "    print(keys, \" = \",double_new_content_ratings[keys])"
   ]
  },
  {
   "cell_type": "markdown",
   "metadata": {},
   "source": [
    "## Exceptions worth mentioning"
   ]
  },
  {
   "cell_type": "markdown",
   "metadata": {},
   "source": [
    "* Dictionary values can be of any data type: strings, integers, floats, Booleans, lists, and even dictionaries.\n",
    "* Dictionary keys can be of almost any data type, except lists and dictionaries. \n",
    "  If we use lists or dictionaries as dictionary keys, the computer raises an error: UNHASHABLE\n",
    "  Python tries to convert each dictionary key to an integer (even if the key is of a data type other than an integer) in the background. Python does the conversion using the hash() - Wich has a problem when using boolean expressions, since True is 1 and False is 0 in the hash function, so must be careful when using number with booleans in same dictionarie.\n",
    "  "
   ]
  },
  {
   "cell_type": "code",
   "execution_count": 7,
   "metadata": {},
   "outputs": [
    {
     "name": "stdout",
     "output_type": "stream",
     "text": [
      "4 =  4\n",
      "four =  -4134917430001584996\n",
      "3.32 =  737869762948381699\n",
      "True =  1\n",
      "1 =  1\n"
     ]
    }
   ],
   "source": [
    "print(\"4 = \",hash(4))\n",
    "print(\"four = \", hash(\"four\"))\n",
    "print(\"3.32 = \", hash(3.32))\n",
    "print(\"True = \", hash(True))\n",
    "print(\"1 = \", hash(1))"
   ]
  },
  {
   "cell_type": "markdown",
   "metadata": {},
   "source": [
    "* If we use an identical key for two different values or more, Python keeps only the last key-value pair in the dictionary and removes the others — this means that we'll lose data."
   ]
  },
  {
   "cell_type": "code",
   "execution_count": 23,
   "metadata": {},
   "outputs": [
    {
     "name": "stdout",
     "output_type": "stream",
     "text": [
      "40\n",
      "50\n"
     ]
    }
   ],
   "source": [
    "repeatedDictionarie = { 1 : 20,\n",
    "                       \"two\" : 30,\n",
    "                       1 : 40,\n",
    "                       \"two\" : 50}\n",
    "\n",
    "print(repeatedDictionarie[1])\n",
    "print(repeatedDictionarie[\"two\"])"
   ]
  }
 ],
 "metadata": {
  "kernelspec": {
   "display_name": "Python 3",
   "language": "python",
   "name": "python3"
  },
  "language_info": {
   "codemirror_mode": {
    "name": "ipython",
    "version": 3
   },
   "file_extension": ".py",
   "mimetype": "text/x-python",
   "name": "python",
   "nbconvert_exporter": "python",
   "pygments_lexer": "ipython3",
   "version": "3.7.0"
  }
 },
 "nbformat": 4,
 "nbformat_minor": 2
}
